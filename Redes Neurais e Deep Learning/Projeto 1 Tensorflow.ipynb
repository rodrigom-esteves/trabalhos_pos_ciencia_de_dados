{
 "cells": [
  {
   "cell_type": "markdown",
   "metadata": {},
   "source": [
    "# Projeto 1 "
   ]
  },
  {
   "cell_type": "markdown",
   "metadata": {},
   "source": [
    "## Parte 1"
   ]
  },
  {
   "cell_type": "markdown",
   "metadata": {},
   "source": [
    "1.  \n",
    "\n",
    "Se inicializarmos o treinamento de um modelo MLP via método dos gradientes com os mesmos pesos e vícios, cada camada latente (hidden layer) irá receber exatamente o mesmo sinal, isto é, se todos os pesos são inicializados no 1, cada unidade reberá um sinal igual a soma dos inputs e terá como output o sigmoid da soma dos inputs. Se todos os pesos forem zero, ocorrerá um problema ainda pior, cada camada latente receberá sinal zero. Qualquer que seja o input, se todos os pesos são os mesmo, todas as unidades da camada latente serão os mesmo também. Por isso optamos por uma inicialização aleatória ou, pelo menos, com valores diferentes.\n",
    "\n",
    "\n",
    "2.  \n",
    "\n",
    "A escolha de uma função de ativação linear no lugar de uma não-linear implica no output ser apenas uma transformação linear do input, o que impossibilita a formação de uma função de aproximação universal. Nesse caso, não importa quantas camadas a rede possua, ela sempre se comportará como um perceptron de uma única camada, uma vez que somar essas camadas resultaria outra função linear. O mesmo ocorre para o caso onde todos os neurônios tem funções de ativação afim ($f(x) = ax + c$, onde $a,c$ são constantes), que resultará apenas em uma transformação afim do input no output.\n",
    "\n",
    "Uma rede neural pode conter neurônios com função de ativação linear, como na camada do output, mas devem vir acompanhados de neurônios com ativação não-linear em outras partes da rede.\n",
    "\n",
    "3.  \n",
    "\n",
    "Sobreajuste se refere a um modelo que modela os dados de treino bem demais. Ocorre quando um modelo aprende os detalhes e o ruído dos dados de treino de uma forma que impacta negativamente na performance do modelo para novos dados. Isso significa que o ruído e a aleatoriedade no conjunto de treino é aprendido como algo fundamental para o modelo, o que não se aplica aos dados de treino e impantam negativamente a capacidade do modelo em generalizar.\n",
    "\n",
    "\n",
    "\n",
    "4.  \n",
    "\n",
    "With a single hidden unit and sigmoidal activation functions, a neural network for classification is, for all intents and purposes, just logistic regression. However, as the number of hidden units increases, so does the complexity of the model.\n",
    "\n",
    "Uma rede neural para classificação com apenas uma camada e função de ativação sigmoidal é o mesmo que um modelo de regressão logística. Os MLPs (multilayer perceptron) com ativações sigmoidais são redes mais complexa, com um número maior de camadas, o que pode levar ao sobreajuster com uma chance maior. Isso ocorre\n",
    "\n",
    "O modelo MLP profundo com ativações sigmoid terá uma chance maior de sobreajustar os dados do que um modelo de regressão logística para um problema de classificação binária.\n",
    "\n",
    "\n",
    "\n"
   ]
  },
  {
   "cell_type": "markdown",
   "metadata": {},
   "source": [
    "## Parte 2"
   ]
  },
  {
   "cell_type": "code",
   "execution_count": 30,
   "metadata": {},
   "outputs": [],
   "source": [
    "from __future__ import absolute_import, division, print_function, unicode_literals\n",
    "import tensorflow as tf\n",
    "import numpy as np "
   ]
  },
  {
   "cell_type": "code",
   "execution_count": 31,
   "metadata": {},
   "outputs": [
    {
     "name": "stdout",
     "output_type": "stream",
     "text": [
      "(60000, 785)\n",
      "(10000, 785)\n"
     ]
    }
   ],
   "source": [
    "#Converta as amostras de números inteiros em números de ponto flutuante:\n",
    "training_data_np = np.genfromtxt(\"C:/Users/malta/Desktop/Pós Graduação/Redes neurais/Projeto 1/mnist_train.csv\", delimiter=\",\", encoding=\"utf8\")\n",
    "test_data_np = np.genfromtxt(\"C:/Users/malta/Desktop/Pós Graduação/Redes neurais/Projeto 1/mnist_test.csv\", delimiter=\",\", encoding=\"utf8\")\n",
    "\n",
    "print( training_data_np.shape )\n",
    "#print( training_data_np )\n",
    "\n",
    "print( test_data_np.shape )\n",
    "#print( test_data_np )\n"
   ]
  },
  {
   "cell_type": "markdown",
   "metadata": {},
   "source": [
    "### a) Treino, validação e teste"
   ]
  },
  {
   "cell_type": "code",
   "execution_count": 178,
   "metadata": {},
   "outputs": [
    {
     "data": {
      "text/plain": [
       "(10000, 785)"
      ]
     },
     "execution_count": 178,
     "metadata": {},
     "output_type": "execute_result"
    }
   ],
   "source": [
    "test_data_np.shape"
   ]
  },
  {
   "cell_type": "code",
   "execution_count": 174,
   "metadata": {},
   "outputs": [
    {
     "data": {
      "text/plain": [
       "TensorShape([10000, 785])"
      ]
     },
     "execution_count": 174,
     "metadata": {},
     "output_type": "execute_result"
    }
   ],
   "source": [
    "training_data2 = tf.constant(training_data_np[0:60000, :])"
   ]
  },
  {
   "cell_type": "code",
   "execution_count": 33,
   "metadata": {
    "scrolled": true
   },
   "outputs": [
    {
     "name": "stdout",
     "output_type": "stream",
     "text": [
      "(10000, 785)\n",
      "tf.Tensor(\n",
      "[[3. 0. 0. ... 0. 0. 0.]\n",
      " [8. 0. 0. ... 0. 0. 0.]\n",
      " [6. 0. 0. ... 0. 0. 0.]\n",
      " ...\n",
      " [5. 0. 0. ... 0. 0. 0.]\n",
      " [6. 0. 0. ... 0. 0. 0.]\n",
      " [8. 0. 0. ... 0. 0. 0.]], shape=(10000, 785), dtype=float64)\n"
     ]
    }
   ],
   "source": [
    "# Separate data into training, validation and testing\n",
    "training_data = tf.constant(training_data_np[0:50000, :]) #primeiras 50k para o conjunto de treino\n",
    "validation_data = tf.constant(training_data_np[50000:60000, :]) #ultimas 10k para o conjunto de validação\n",
    "test_data = tf.constant(test_data_np) #conjunto de teste\n",
    "\n",
    "print( validation_data.shape )\n",
    "print( validation_data )\n",
    "\n",
    "p = 28**2\n",
    "#print(p)\n",
    "\n",
    "# Extracting X and y from training dataset\n",
    "X_train = training_data[:, 1:(p+1)]\n",
    "y_train = training_data[:, 0]\n",
    "#print( X_train.shape )\n",
    "\n",
    "# Extracting X and y from validation dataset\n",
    "X_valid = validation_data[:, 1:(p+1)]\n",
    "y_valid = validation_data[:, 0]\n",
    "#print( X_valid.shape )\n",
    "\n",
    "\n",
    "# Extracting X and y from test dataset\n",
    "X_test = test_data[:, 1:(p+1)]\n",
    "y_test = test_data[:, 0]\n",
    "#print( X_test.shape )\n"
   ]
  },
  {
   "cell_type": "code",
   "execution_count": 34,
   "metadata": {
    "scrolled": true
   },
   "outputs": [
    {
     "name": "stdout",
     "output_type": "stream",
     "text": [
      "x_train.shape\n",
      "(50000, 784)\n",
      "x_valid.shape\n",
      "(10000, 784)\n",
      "x_test.shape\n",
      "(10000, 784)\n",
      "y_train.shape\n",
      "(50000,)\n",
      "y_valid.shape\n",
      "(10000,)\n",
      "y_test.shape\n",
      "(10000,)\n"
     ]
    }
   ],
   "source": [
    "# Reescalonando os pixels para para o intervalor [0,1]\n",
    "x_train, x_valid, x_test = X_train / 255.0, X_valid / 255.0, X_test / 255.0\n",
    "\n",
    "print( \"x_train.shape\")\n",
    "print( x_train.shape )\n",
    "\n",
    "print( \"x_valid.shape\")\n",
    "print( x_valid.shape )\n",
    "\n",
    "print( \"x_test.shape\")\n",
    "print( x_test.shape )\n",
    "\n",
    "print( \"y_train.shape\")\n",
    "print( y_train.shape )\n",
    "\n",
    "print( \"y_valid.shape\")\n",
    "print( y_valid.shape )\n",
    "\n",
    "print( \"y_test.shape\")\n",
    "print( y_test.shape )"
   ]
  },
  {
   "cell_type": "markdown",
   "metadata": {},
   "source": [
    "### b) Modelo de regressão multinomial logística"
   ]
  },
  {
   "cell_type": "code",
   "execution_count": 99,
   "metadata": {},
   "outputs": [
    {
     "name": "stdout",
     "output_type": "stream",
     "text": [
      "Epoch 1/50\n",
      "50/50 [==============================] - 1s 9ms/step - loss: 1.6557 - accuracy: 0.5239 - val_loss: 1.0456 - val_accuracy: 0.7941\n",
      "Epoch 2/50\n",
      "50/50 [==============================] - 0s 7ms/step - loss: 0.8773 - accuracy: 0.8078 - val_loss: 0.6793 - val_accuracy: 0.8575\n",
      "Epoch 3/50\n",
      "50/50 [==============================] - 0s 7ms/step - loss: 0.6520 - accuracy: 0.8500 - val_loss: 0.5437 - val_accuracy: 0.8775\n",
      "Epoch 4/50\n",
      "50/50 [==============================] - 0s 7ms/step - loss: 0.5505 - accuracy: 0.8672 - val_loss: 0.4730 - val_accuracy: 0.8870\n",
      "Epoch 5/50\n",
      "50/50 [==============================] - 0s 7ms/step - loss: 0.4911 - accuracy: 0.8784 - val_loss: 0.4304 - val_accuracy: 0.8926\n",
      "Epoch 6/50\n",
      "50/50 [==============================] - 0s 7ms/step - loss: 0.4519 - accuracy: 0.8852 - val_loss: 0.3998 - val_accuracy: 0.8998\n",
      "Epoch 7/50\n",
      "50/50 [==============================] - 0s 10ms/step - loss: 0.4238 - accuracy: 0.8914 - val_loss: 0.3783 - val_accuracy: 0.9040\n",
      "Epoch 8/50\n",
      "50/50 [==============================] - 0s 9ms/step - loss: 0.4023 - accuracy: 0.8957 - val_loss: 0.3621 - val_accuracy: 0.9059\n",
      "Epoch 9/50\n",
      "50/50 [==============================] - 0s 10ms/step - loss: 0.3854 - accuracy: 0.8988 - val_loss: 0.3488 - val_accuracy: 0.9091\n",
      "Epoch 10/50\n",
      "50/50 [==============================] - 0s 7ms/step - loss: 0.3718 - accuracy: 0.9012 - val_loss: 0.3381 - val_accuracy: 0.9110\n",
      "Epoch 11/50\n",
      "50/50 [==============================] - 0s 7ms/step - loss: 0.3605 - accuracy: 0.9044 - val_loss: 0.3301 - val_accuracy: 0.9109\n",
      "Epoch 12/50\n",
      "50/50 [==============================] - 0s 7ms/step - loss: 0.3510 - accuracy: 0.9058 - val_loss: 0.3222 - val_accuracy: 0.9131\n",
      "Epoch 13/50\n",
      "50/50 [==============================] - 0s 7ms/step - loss: 0.3429 - accuracy: 0.9074 - val_loss: 0.3159 - val_accuracy: 0.9146\n",
      "Epoch 14/50\n",
      "50/50 [==============================] - 0s 7ms/step - loss: 0.3357 - accuracy: 0.9095 - val_loss: 0.3110 - val_accuracy: 0.9163\n",
      "Epoch 15/50\n",
      "50/50 [==============================] - 0s 7ms/step - loss: 0.3295 - accuracy: 0.9109 - val_loss: 0.3061 - val_accuracy: 0.9175\n",
      "Epoch 16/50\n",
      "50/50 [==============================] - 0s 7ms/step - loss: 0.3239 - accuracy: 0.9123 - val_loss: 0.3024 - val_accuracy: 0.9178\n",
      "Epoch 17/50\n",
      "50/50 [==============================] - 0s 8ms/step - loss: 0.3190 - accuracy: 0.9138 - val_loss: 0.2978 - val_accuracy: 0.9191\n",
      "Epoch 18/50\n",
      "50/50 [==============================] - 1s 10ms/step - loss: 0.3146 - accuracy: 0.9146 - val_loss: 0.2943 - val_accuracy: 0.9205\n",
      "Epoch 19/50\n",
      "50/50 [==============================] - 0s 8ms/step - loss: 0.3105 - accuracy: 0.9155 - val_loss: 0.2916 - val_accuracy: 0.9216\n",
      "Epoch 20/50\n",
      "50/50 [==============================] - 0s 9ms/step - loss: 0.3067 - accuracy: 0.9163 - val_loss: 0.2892 - val_accuracy: 0.9208\n",
      "Epoch 21/50\n",
      "50/50 [==============================] - 0s 8ms/step - loss: 0.3035 - accuracy: 0.9166 - val_loss: 0.2862 - val_accuracy: 0.9233\n",
      "Epoch 22/50\n",
      "50/50 [==============================] - 0s 8ms/step - loss: 0.3007 - accuracy: 0.9170 - val_loss: 0.2845 - val_accuracy: 0.9229\n",
      "Epoch 23/50\n",
      "50/50 [==============================] - 0s 8ms/step - loss: 0.2979 - accuracy: 0.9183 - val_loss: 0.2821 - val_accuracy: 0.9243\n",
      "Epoch 24/50\n",
      "50/50 [==============================] - 0s 9ms/step - loss: 0.2952 - accuracy: 0.9189 - val_loss: 0.2804 - val_accuracy: 0.9250\n",
      "Epoch 25/50\n",
      "50/50 [==============================] - 0s 8ms/step - loss: 0.2925 - accuracy: 0.9195 - val_loss: 0.2781 - val_accuracy: 0.9254\n",
      "Epoch 26/50\n",
      "50/50 [==============================] - 0s 9ms/step - loss: 0.2902 - accuracy: 0.9204 - val_loss: 0.2767 - val_accuracy: 0.9264\n",
      "Epoch 27/50\n",
      "50/50 [==============================] - 0s 7ms/step - loss: 0.2880 - accuracy: 0.9206 - val_loss: 0.2751 - val_accuracy: 0.9265\n",
      "Epoch 28/50\n",
      "50/50 [==============================] - 0s 7ms/step - loss: 0.2860 - accuracy: 0.9209 - val_loss: 0.2742 - val_accuracy: 0.9266\n",
      "Epoch 29/50\n",
      "50/50 [==============================] - 0s 7ms/step - loss: 0.2842 - accuracy: 0.9216 - val_loss: 0.2733 - val_accuracy: 0.9269\n",
      "Epoch 30/50\n",
      "50/50 [==============================] - 0s 8ms/step - loss: 0.2824 - accuracy: 0.9221 - val_loss: 0.2717 - val_accuracy: 0.9272\n",
      "Epoch 31/50\n",
      "50/50 [==============================] - 0s 7ms/step - loss: 0.2806 - accuracy: 0.9226 - val_loss: 0.2701 - val_accuracy: 0.9278\n",
      "Epoch 32/50\n",
      "50/50 [==============================] - 0s 7ms/step - loss: 0.2793 - accuracy: 0.9229 - val_loss: 0.2689 - val_accuracy: 0.9283\n",
      "Epoch 33/50\n",
      "50/50 [==============================] - 0s 8ms/step - loss: 0.2777 - accuracy: 0.9228 - val_loss: 0.2684 - val_accuracy: 0.9284\n",
      "Epoch 34/50\n",
      "50/50 [==============================] - 0s 8ms/step - loss: 0.2763 - accuracy: 0.9236 - val_loss: 0.2673 - val_accuracy: 0.9287\n",
      "Epoch 35/50\n",
      "50/50 [==============================] - 0s 8ms/step - loss: 0.2748 - accuracy: 0.9234 - val_loss: 0.2666 - val_accuracy: 0.9294\n",
      "Epoch 36/50\n",
      "50/50 [==============================] - 0s 9ms/step - loss: 0.2737 - accuracy: 0.9243 - val_loss: 0.2654 - val_accuracy: 0.9300\n",
      "Epoch 37/50\n",
      "50/50 [==============================] - 0s 8ms/step - loss: 0.2724 - accuracy: 0.9245 - val_loss: 0.2649 - val_accuracy: 0.9291\n",
      "Epoch 38/50\n",
      "50/50 [==============================] - 0s 7ms/step - loss: 0.2714 - accuracy: 0.9250 - val_loss: 0.2646 - val_accuracy: 0.9292\n",
      "Epoch 39/50\n",
      "50/50 [==============================] - 0s 8ms/step - loss: 0.2702 - accuracy: 0.9254 - val_loss: 0.2639 - val_accuracy: 0.9296\n",
      "Epoch 40/50\n",
      "50/50 [==============================] - 0s 8ms/step - loss: 0.2690 - accuracy: 0.9254 - val_loss: 0.2622 - val_accuracy: 0.9308\n",
      "Epoch 41/50\n",
      "50/50 [==============================] - 0s 7ms/step - loss: 0.2677 - accuracy: 0.9260 - val_loss: 0.2621 - val_accuracy: 0.9305\n",
      "Epoch 42/50\n",
      "50/50 [==============================] - 0s 7ms/step - loss: 0.2670 - accuracy: 0.9262 - val_loss: 0.2611 - val_accuracy: 0.9302\n",
      "Epoch 43/50\n",
      "50/50 [==============================] - 0s 8ms/step - loss: 0.2660 - accuracy: 0.9262 - val_loss: 0.2607 - val_accuracy: 0.9309\n",
      "Epoch 44/50\n",
      "50/50 [==============================] - 0s 8ms/step - loss: 0.2649 - accuracy: 0.9262 - val_loss: 0.2604 - val_accuracy: 0.9308\n",
      "Epoch 45/50\n",
      "50/50 [==============================] - 0s 8ms/step - loss: 0.2639 - accuracy: 0.9268 - val_loss: 0.2603 - val_accuracy: 0.9300\n",
      "Epoch 46/50\n",
      "50/50 [==============================] - 0s 8ms/step - loss: 0.2632 - accuracy: 0.9266 - val_loss: 0.2598 - val_accuracy: 0.9304\n",
      "Epoch 47/50\n",
      "50/50 [==============================] - 0s 7ms/step - loss: 0.2626 - accuracy: 0.9273 - val_loss: 0.2590 - val_accuracy: 0.9306\n",
      "Epoch 48/50\n",
      "50/50 [==============================] - 0s 7ms/step - loss: 0.2619 - accuracy: 0.9271 - val_loss: 0.2590 - val_accuracy: 0.9301\n",
      "Epoch 49/50\n",
      "50/50 [==============================] - 0s 7ms/step - loss: 0.2609 - accuracy: 0.9273 - val_loss: 0.2585 - val_accuracy: 0.9308\n",
      "Epoch 50/50\n",
      "50/50 [==============================] - 0s 9ms/step - loss: 0.2601 - accuracy: 0.9278 - val_loss: 0.2578 - val_accuracy: 0.9307\n",
      "313/313 - 1s - loss: 0.2680 - accuracy: 0.9250 - 727ms/epoch - 2ms/step\n",
      "Model: \"sequential_28\"\n",
      "_________________________________________________________________\n",
      " Layer (type)                Output Shape              Param #   \n",
      "=================================================================\n",
      " dense_60 (Dense)            (None, 10)                7850      \n",
      "                                                                 \n",
      "=================================================================\n",
      "Total params: 7,850\n",
      "Trainable params: 7,850\n",
      "Non-trainable params: 0\n",
      "_________________________________________________________________\n"
     ]
    }
   ],
   "source": [
    "#Criando o modelo de regressão multinomial logística\n",
    "model1 = tf.keras.models.Sequential([\n",
    "  tf.keras.layers.Dense(units=10, activation='softmax')\n",
    "])\n",
    "\n",
    "model1.compile(loss='sparse_categorical_crossentropy', \n",
    "               optimizer=tf.keras.optimizers.Adam(learning_rate = 0.001),\n",
    "               metrics=['accuracy'])\n",
    "hist = model1.fit(x_train, y_train, epochs=50,batch_size= 1000,validation_data=(x_valid, y_valid))\n",
    "\n",
    "model1.evaluate(x_test,  y_test, verbose=2)\n",
    "model1.save('C:\\\\Users\\\\malta\\\\Desktop\\\\Pós Graduação\\\\Redes neurais\\\\Projeto 1\\\\modelos treinados\\\\hist.h5')\n",
    "\n",
    "model1.summary()"
   ]
  },
  {
   "cell_type": "markdown",
   "metadata": {},
   "source": [
    "### c) 4 MLPs"
   ]
  },
  {
   "cell_type": "code",
   "execution_count": 90,
   "metadata": {
    "scrolled": true
   },
   "outputs": [
    {
     "name": "stdout",
     "output_type": "stream",
     "text": [
      "Epoch 1/50\n",
      "50/50 [==============================] - 1s 16ms/step - loss: 1.0939 - accuracy: 0.6641 - val_loss: 0.4089 - val_accuracy: 0.8969\n",
      "Epoch 2/50\n",
      "50/50 [==============================] - 1s 13ms/step - loss: 0.4849 - accuracy: 0.8595 - val_loss: 0.2903 - val_accuracy: 0.9202\n",
      "Epoch 3/50\n",
      "50/50 [==============================] - 1s 13ms/step - loss: 0.3859 - accuracy: 0.8884 - val_loss: 0.2451 - val_accuracy: 0.9320\n",
      "Epoch 4/50\n",
      "50/50 [==============================] - 1s 13ms/step - loss: 0.3362 - accuracy: 0.9030 - val_loss: 0.2164 - val_accuracy: 0.9412\n",
      "Epoch 5/50\n",
      "50/50 [==============================] - 1s 12ms/step - loss: 0.3039 - accuracy: 0.9112 - val_loss: 0.1980 - val_accuracy: 0.9452\n",
      "Epoch 6/50\n",
      "50/50 [==============================] - 1s 12ms/step - loss: 0.2825 - accuracy: 0.9182 - val_loss: 0.1852 - val_accuracy: 0.9482\n",
      "Epoch 7/50\n",
      "50/50 [==============================] - 1s 15ms/step - loss: 0.2614 - accuracy: 0.9244 - val_loss: 0.1723 - val_accuracy: 0.9512\n",
      "Epoch 8/50\n",
      "50/50 [==============================] - 1s 24ms/step - loss: 0.2476 - accuracy: 0.9283 - val_loss: 0.1625 - val_accuracy: 0.9553\n",
      "Epoch 9/50\n",
      "50/50 [==============================] - 1s 19ms/step - loss: 0.2389 - accuracy: 0.9309 - val_loss: 0.1530 - val_accuracy: 0.9577\n",
      "Epoch 10/50\n",
      "50/50 [==============================] - 1s 16ms/step - loss: 0.2256 - accuracy: 0.9345 - val_loss: 0.1464 - val_accuracy: 0.9586\n",
      "Epoch 11/50\n",
      "50/50 [==============================] - 1s 15ms/step - loss: 0.2130 - accuracy: 0.9387 - val_loss: 0.1395 - val_accuracy: 0.9608\n",
      "Epoch 12/50\n",
      "50/50 [==============================] - 1s 16ms/step - loss: 0.2048 - accuracy: 0.9400 - val_loss: 0.1355 - val_accuracy: 0.9617\n",
      "Epoch 13/50\n",
      "50/50 [==============================] - 1s 15ms/step - loss: 0.1972 - accuracy: 0.9421 - val_loss: 0.1289 - val_accuracy: 0.9647\n",
      "Epoch 14/50\n",
      "50/50 [==============================] - 1s 13ms/step - loss: 0.1909 - accuracy: 0.9449 - val_loss: 0.1249 - val_accuracy: 0.9650\n",
      "Epoch 15/50\n",
      "50/50 [==============================] - 1s 14ms/step - loss: 0.1855 - accuracy: 0.9456 - val_loss: 0.1223 - val_accuracy: 0.9651\n",
      "Epoch 16/50\n",
      "50/50 [==============================] - 1s 16ms/step - loss: 0.1791 - accuracy: 0.9483 - val_loss: 0.1197 - val_accuracy: 0.9657\n",
      "Epoch 17/50\n",
      "50/50 [==============================] - 1s 14ms/step - loss: 0.1717 - accuracy: 0.9502 - val_loss: 0.1155 - val_accuracy: 0.9670\n",
      "Epoch 18/50\n",
      "50/50 [==============================] - 1s 12ms/step - loss: 0.1681 - accuracy: 0.9504 - val_loss: 0.1119 - val_accuracy: 0.9683\n",
      "Epoch 19/50\n",
      "50/50 [==============================] - 1s 11ms/step - loss: 0.1648 - accuracy: 0.9523 - val_loss: 0.1098 - val_accuracy: 0.9688\n",
      "Epoch 20/50\n",
      "50/50 [==============================] - 1s 12ms/step - loss: 0.1599 - accuracy: 0.9535 - val_loss: 0.1086 - val_accuracy: 0.9674\n",
      "Epoch 21/50\n",
      "50/50 [==============================] - 1s 11ms/step - loss: 0.1539 - accuracy: 0.9557 - val_loss: 0.1063 - val_accuracy: 0.9692\n",
      "Epoch 22/50\n",
      "50/50 [==============================] - 1s 12ms/step - loss: 0.1509 - accuracy: 0.9553 - val_loss: 0.1051 - val_accuracy: 0.9697\n",
      "Epoch 23/50\n",
      "50/50 [==============================] - 1s 12ms/step - loss: 0.1465 - accuracy: 0.9571 - val_loss: 0.1018 - val_accuracy: 0.9701\n",
      "Epoch 24/50\n",
      "50/50 [==============================] - 1s 12ms/step - loss: 0.1446 - accuracy: 0.9561 - val_loss: 0.1008 - val_accuracy: 0.9701\n",
      "Epoch 25/50\n",
      "50/50 [==============================] - 1s 11ms/step - loss: 0.1412 - accuracy: 0.9578 - val_loss: 0.1008 - val_accuracy: 0.9701\n",
      "Epoch 26/50\n",
      "50/50 [==============================] - 1s 11ms/step - loss: 0.1394 - accuracy: 0.9588 - val_loss: 0.0987 - val_accuracy: 0.9717\n",
      "Epoch 27/50\n",
      "50/50 [==============================] - 1s 12ms/step - loss: 0.1379 - accuracy: 0.9592 - val_loss: 0.0987 - val_accuracy: 0.9711\n",
      "Epoch 28/50\n",
      "50/50 [==============================] - 1s 11ms/step - loss: 0.1323 - accuracy: 0.9598 - val_loss: 0.0970 - val_accuracy: 0.9711\n",
      "Epoch 29/50\n",
      "50/50 [==============================] - 1s 12ms/step - loss: 0.1333 - accuracy: 0.9602 - val_loss: 0.0946 - val_accuracy: 0.9717\n",
      "Epoch 30/50\n",
      "50/50 [==============================] - 1s 12ms/step - loss: 0.1282 - accuracy: 0.9621 - val_loss: 0.0941 - val_accuracy: 0.9727\n",
      "Epoch 31/50\n",
      "50/50 [==============================] - 1s 12ms/step - loss: 0.1269 - accuracy: 0.9625 - val_loss: 0.0931 - val_accuracy: 0.9721\n",
      "Epoch 32/50\n",
      "50/50 [==============================] - 1s 14ms/step - loss: 0.1238 - accuracy: 0.9626 - val_loss: 0.0936 - val_accuracy: 0.9725\n",
      "Epoch 33/50\n",
      "50/50 [==============================] - 1s 13ms/step - loss: 0.1243 - accuracy: 0.9624 - val_loss: 0.0927 - val_accuracy: 0.9727\n",
      "Epoch 34/50\n",
      "50/50 [==============================] - 1s 13ms/step - loss: 0.1219 - accuracy: 0.9630 - val_loss: 0.0912 - val_accuracy: 0.9728\n",
      "Epoch 35/50\n",
      "50/50 [==============================] - 1s 12ms/step - loss: 0.1163 - accuracy: 0.9651 - val_loss: 0.0918 - val_accuracy: 0.9729\n",
      "Epoch 36/50\n",
      "50/50 [==============================] - 1s 12ms/step - loss: 0.1198 - accuracy: 0.9636 - val_loss: 0.0903 - val_accuracy: 0.9735\n",
      "Epoch 37/50\n",
      "50/50 [==============================] - 1s 12ms/step - loss: 0.1147 - accuracy: 0.9657 - val_loss: 0.0884 - val_accuracy: 0.9745\n",
      "Epoch 38/50\n",
      "50/50 [==============================] - 1s 15ms/step - loss: 0.1105 - accuracy: 0.9671 - val_loss: 0.0889 - val_accuracy: 0.9735\n",
      "Epoch 39/50\n",
      "50/50 [==============================] - 1s 12ms/step - loss: 0.1124 - accuracy: 0.9667 - val_loss: 0.0882 - val_accuracy: 0.9740\n",
      "Epoch 40/50\n",
      "50/50 [==============================] - 1s 12ms/step - loss: 0.1108 - accuracy: 0.9668 - val_loss: 0.0884 - val_accuracy: 0.9743\n",
      "Epoch 41/50\n",
      "50/50 [==============================] - 1s 14ms/step - loss: 0.1068 - accuracy: 0.9674 - val_loss: 0.0873 - val_accuracy: 0.9749\n",
      "Epoch 42/50\n",
      "50/50 [==============================] - 1s 14ms/step - loss: 0.1068 - accuracy: 0.9678 - val_loss: 0.0868 - val_accuracy: 0.9743\n",
      "Epoch 43/50\n",
      "50/50 [==============================] - 1s 15ms/step - loss: 0.1041 - accuracy: 0.9684 - val_loss: 0.0881 - val_accuracy: 0.9746\n",
      "Epoch 44/50\n",
      "50/50 [==============================] - 1s 13ms/step - loss: 0.1029 - accuracy: 0.9679 - val_loss: 0.0871 - val_accuracy: 0.9750\n",
      "Epoch 45/50\n",
      "50/50 [==============================] - 1s 12ms/step - loss: 0.1020 - accuracy: 0.9680 - val_loss: 0.0859 - val_accuracy: 0.9746\n",
      "Epoch 46/50\n",
      "50/50 [==============================] - 1s 12ms/step - loss: 0.1004 - accuracy: 0.9697 - val_loss: 0.0863 - val_accuracy: 0.9747\n",
      "Epoch 47/50\n",
      "50/50 [==============================] - 1s 12ms/step - loss: 0.1000 - accuracy: 0.9690 - val_loss: 0.0867 - val_accuracy: 0.9747\n",
      "Epoch 48/50\n",
      "50/50 [==============================] - 1s 14ms/step - loss: 0.0971 - accuracy: 0.9699 - val_loss: 0.0872 - val_accuracy: 0.9737\n",
      "Epoch 49/50\n",
      "50/50 [==============================] - 1s 13ms/step - loss: 0.0986 - accuracy: 0.9702 - val_loss: 0.0841 - val_accuracy: 0.9758\n",
      "Epoch 50/50\n",
      "50/50 [==============================] - 1s 12ms/step - loss: 0.0968 - accuracy: 0.9701 - val_loss: 0.0849 - val_accuracy: 0.9752\n",
      "313/313 - 1s - loss: 0.0839 - accuracy: 0.9757 - 688ms/epoch - 2ms/step\n",
      "Model: \"sequential_24\"\n",
      "_________________________________________________________________\n",
      " Layer (type)                Output Shape              Param #   \n",
      "=================================================================\n",
      " flatten_21 (Flatten)        (None, 784)               0         \n",
      "                                                                 \n",
      " dense_46 (Dense)            (None, 120)               94200     \n",
      "                                                                 \n",
      " dropout_39 (Dropout)        (None, 120)               0         \n",
      "                                                                 \n",
      " dense_47 (Dense)            (None, 10)                1210      \n",
      "                                                                 \n",
      "=================================================================\n",
      "Total params: 95,410\n",
      "Trainable params: 95,410\n",
      "Non-trainable params: 0\n",
      "_________________________________________________________________\n"
     ]
    }
   ],
   "source": [
    "# 1 camada\n",
    "model_um = tf.keras.models.Sequential()\n",
    "\n",
    "model_um.add(tf.keras.layers.Flatten())\n",
    "model_um.add(tf.keras.layers.Dense(120, activation='relu') )\n",
    "model_um.add(tf.keras.layers.Dropout(0.5))\n",
    "model_um.add(tf.keras.layers.Dense(10, activation='softmax') )\n",
    "\n",
    "model_um.compile(optimizer=tf.keras.optimizers.Adam(learning_rate = 0.001),\n",
    "              loss='sparse_categorical_crossentropy',\n",
    "              metrics=['accuracy'])\n",
    "\n",
    "hist_um = model_um.fit(x_train, y_train, epochs=50, batch_size= 1000, validation_data=(x_valid, y_valid))\n",
    "model_um.save('C:\\\\Users\\\\malta\\\\Desktop\\\\Pós Graduação\\\\Redes neurais\\\\Projeto 1\\\\modelos treinados\\\\hist_um.h5')\n",
    "model_um.evaluate(x_test,  y_test, verbose=2)\n",
    "\n",
    "model_um.summary()"
   ]
  },
  {
   "cell_type": "code",
   "execution_count": 92,
   "metadata": {},
   "outputs": [
    {
     "name": "stdout",
     "output_type": "stream",
     "text": [
      "Epoch 1/50\n",
      "50/50 [==============================] - 1s 16ms/step - loss: 1.5147 - accuracy: 0.4899 - val_loss: 0.5086 - val_accuracy: 0.8811\n",
      "Epoch 2/50\n",
      "50/50 [==============================] - 1s 14ms/step - loss: 0.6909 - accuracy: 0.7879 - val_loss: 0.2931 - val_accuracy: 0.9178\n",
      "Epoch 3/50\n",
      "50/50 [==============================] - 1s 14ms/step - loss: 0.5013 - accuracy: 0.8520 - val_loss: 0.2429 - val_accuracy: 0.9311\n",
      "Epoch 4/50\n",
      "50/50 [==============================] - 1s 14ms/step - loss: 0.4203 - accuracy: 0.8789 - val_loss: 0.2126 - val_accuracy: 0.9398\n",
      "Epoch 5/50\n",
      "50/50 [==============================] - 1s 14ms/step - loss: 0.3781 - accuracy: 0.8925 - val_loss: 0.1951 - val_accuracy: 0.9450\n",
      "Epoch 6/50\n",
      "50/50 [==============================] - 1s 14ms/step - loss: 0.3392 - accuracy: 0.9042 - val_loss: 0.1757 - val_accuracy: 0.9510\n",
      "Epoch 7/50\n",
      "50/50 [==============================] - 1s 14ms/step - loss: 0.3119 - accuracy: 0.9122 - val_loss: 0.1643 - val_accuracy: 0.9535\n",
      "Epoch 8/50\n",
      "50/50 [==============================] - 1s 14ms/step - loss: 0.2957 - accuracy: 0.9176 - val_loss: 0.1574 - val_accuracy: 0.9564\n",
      "Epoch 9/50\n",
      "50/50 [==============================] - 1s 14ms/step - loss: 0.2791 - accuracy: 0.9217 - val_loss: 0.1453 - val_accuracy: 0.9587\n",
      "Epoch 10/50\n",
      "50/50 [==============================] - 1s 14ms/step - loss: 0.2633 - accuracy: 0.9262 - val_loss: 0.1429 - val_accuracy: 0.9603\n",
      "Epoch 11/50\n",
      "50/50 [==============================] - 1s 14ms/step - loss: 0.2516 - accuracy: 0.9282 - val_loss: 0.1368 - val_accuracy: 0.9617\n",
      "Epoch 12/50\n",
      "50/50 [==============================] - 1s 14ms/step - loss: 0.2454 - accuracy: 0.9313 - val_loss: 0.1305 - val_accuracy: 0.9637\n",
      "Epoch 13/50\n",
      "50/50 [==============================] - 1s 14ms/step - loss: 0.2371 - accuracy: 0.9335 - val_loss: 0.1288 - val_accuracy: 0.9639\n",
      "Epoch 14/50\n",
      "50/50 [==============================] - 1s 14ms/step - loss: 0.2272 - accuracy: 0.9356 - val_loss: 0.1254 - val_accuracy: 0.9656\n",
      "Epoch 15/50\n",
      "50/50 [==============================] - 1s 14ms/step - loss: 0.2226 - accuracy: 0.9369 - val_loss: 0.1210 - val_accuracy: 0.9661\n",
      "Epoch 16/50\n",
      "50/50 [==============================] - 1s 14ms/step - loss: 0.2143 - accuracy: 0.9384 - val_loss: 0.1167 - val_accuracy: 0.9684\n",
      "Epoch 17/50\n",
      "50/50 [==============================] - 1s 14ms/step - loss: 0.2088 - accuracy: 0.9408 - val_loss: 0.1140 - val_accuracy: 0.9686\n",
      "Epoch 18/50\n",
      "50/50 [==============================] - 1s 14ms/step - loss: 0.2053 - accuracy: 0.9422 - val_loss: 0.1168 - val_accuracy: 0.9671\n",
      "Epoch 19/50\n",
      "50/50 [==============================] - 1s 14ms/step - loss: 0.1973 - accuracy: 0.9439 - val_loss: 0.1140 - val_accuracy: 0.9693\n",
      "Epoch 20/50\n",
      "50/50 [==============================] - 1s 14ms/step - loss: 0.1902 - accuracy: 0.9460 - val_loss: 0.1094 - val_accuracy: 0.9701\n",
      "Epoch 21/50\n",
      "50/50 [==============================] - 1s 14ms/step - loss: 0.1855 - accuracy: 0.9460 - val_loss: 0.1093 - val_accuracy: 0.9691\n",
      "Epoch 22/50\n",
      "50/50 [==============================] - 1s 14ms/step - loss: 0.1798 - accuracy: 0.9487 - val_loss: 0.1067 - val_accuracy: 0.9701\n",
      "Epoch 23/50\n",
      "50/50 [==============================] - 1s 14ms/step - loss: 0.1774 - accuracy: 0.9498 - val_loss: 0.1079 - val_accuracy: 0.9704\n",
      "Epoch 24/50\n",
      "50/50 [==============================] - 1s 14ms/step - loss: 0.1739 - accuracy: 0.9490 - val_loss: 0.1034 - val_accuracy: 0.9723\n",
      "Epoch 25/50\n",
      "50/50 [==============================] - 1s 14ms/step - loss: 0.1711 - accuracy: 0.9498 - val_loss: 0.1028 - val_accuracy: 0.9720\n",
      "Epoch 26/50\n",
      "50/50 [==============================] - 1s 14ms/step - loss: 0.1680 - accuracy: 0.9515 - val_loss: 0.1049 - val_accuracy: 0.9722\n",
      "Epoch 27/50\n",
      "50/50 [==============================] - 1s 15ms/step - loss: 0.1623 - accuracy: 0.9530 - val_loss: 0.1020 - val_accuracy: 0.9723\n",
      "Epoch 28/50\n",
      "50/50 [==============================] - 1s 14ms/step - loss: 0.1609 - accuracy: 0.9543 - val_loss: 0.1010 - val_accuracy: 0.9731\n",
      "Epoch 29/50\n",
      "50/50 [==============================] - 1s 14ms/step - loss: 0.1558 - accuracy: 0.9550 - val_loss: 0.1001 - val_accuracy: 0.9720\n",
      "Epoch 30/50\n",
      "50/50 [==============================] - 1s 14ms/step - loss: 0.1529 - accuracy: 0.9559 - val_loss: 0.0989 - val_accuracy: 0.9721\n",
      "Epoch 31/50\n",
      "50/50 [==============================] - 1s 14ms/step - loss: 0.1556 - accuracy: 0.9553 - val_loss: 0.0992 - val_accuracy: 0.9737\n",
      "Epoch 32/50\n",
      "50/50 [==============================] - 1s 14ms/step - loss: 0.1513 - accuracy: 0.9568 - val_loss: 0.0971 - val_accuracy: 0.9737\n",
      "Epoch 33/50\n",
      "50/50 [==============================] - 1s 14ms/step - loss: 0.1468 - accuracy: 0.9566 - val_loss: 0.0976 - val_accuracy: 0.9733\n",
      "Epoch 34/50\n",
      "50/50 [==============================] - 1s 14ms/step - loss: 0.1458 - accuracy: 0.9578 - val_loss: 0.0971 - val_accuracy: 0.9738\n",
      "Epoch 35/50\n",
      "50/50 [==============================] - 1s 14ms/step - loss: 0.1415 - accuracy: 0.9581 - val_loss: 0.0962 - val_accuracy: 0.9746\n",
      "Epoch 36/50\n",
      "50/50 [==============================] - 1s 14ms/step - loss: 0.1418 - accuracy: 0.9584 - val_loss: 0.0995 - val_accuracy: 0.9737\n",
      "Epoch 37/50\n",
      "50/50 [==============================] - 1s 14ms/step - loss: 0.1380 - accuracy: 0.9590 - val_loss: 0.0955 - val_accuracy: 0.9761\n",
      "Epoch 38/50\n",
      "50/50 [==============================] - 1s 14ms/step - loss: 0.1361 - accuracy: 0.9605 - val_loss: 0.0948 - val_accuracy: 0.9750\n",
      "Epoch 39/50\n",
      "50/50 [==============================] - 1s 14ms/step - loss: 0.1331 - accuracy: 0.9612 - val_loss: 0.0931 - val_accuracy: 0.9759\n",
      "Epoch 40/50\n",
      "50/50 [==============================] - 1s 14ms/step - loss: 0.1377 - accuracy: 0.9592 - val_loss: 0.0931 - val_accuracy: 0.9755\n",
      "Epoch 41/50\n",
      "50/50 [==============================] - 1s 14ms/step - loss: 0.1285 - accuracy: 0.9615 - val_loss: 0.0935 - val_accuracy: 0.9753\n",
      "Epoch 42/50\n",
      "50/50 [==============================] - 1s 14ms/step - loss: 0.1289 - accuracy: 0.9611 - val_loss: 0.0926 - val_accuracy: 0.9761\n",
      "Epoch 43/50\n",
      "50/50 [==============================] - 1s 14ms/step - loss: 0.1272 - accuracy: 0.9626 - val_loss: 0.0936 - val_accuracy: 0.9760\n",
      "Epoch 44/50\n",
      "50/50 [==============================] - 1s 14ms/step - loss: 0.1269 - accuracy: 0.9621 - val_loss: 0.0923 - val_accuracy: 0.9751\n",
      "Epoch 45/50\n",
      "50/50 [==============================] - 1s 14ms/step - loss: 0.1258 - accuracy: 0.9624 - val_loss: 0.0957 - val_accuracy: 0.9754\n",
      "Epoch 46/50\n",
      "50/50 [==============================] - 1s 14ms/step - loss: 0.1265 - accuracy: 0.9628 - val_loss: 0.0921 - val_accuracy: 0.9752\n",
      "Epoch 47/50\n",
      "50/50 [==============================] - 1s 14ms/step - loss: 0.1221 - accuracy: 0.9631 - val_loss: 0.0929 - val_accuracy: 0.9768\n",
      "Epoch 48/50\n",
      "50/50 [==============================] - 1s 14ms/step - loss: 0.1214 - accuracy: 0.9639 - val_loss: 0.0930 - val_accuracy: 0.9763\n",
      "Epoch 49/50\n",
      "50/50 [==============================] - 1s 14ms/step - loss: 0.1201 - accuracy: 0.9646 - val_loss: 0.0935 - val_accuracy: 0.9756\n",
      "Epoch 50/50\n",
      "50/50 [==============================] - 1s 14ms/step - loss: 0.1184 - accuracy: 0.9636 - val_loss: 0.0903 - val_accuracy: 0.9768\n",
      "313/313 - 1s - loss: 0.0931 - accuracy: 0.9743 - 594ms/epoch - 2ms/step\n",
      "Model: \"sequential_25\"\n",
      "_________________________________________________________________\n",
      " Layer (type)                Output Shape              Param #   \n",
      "=================================================================\n",
      " flatten_22 (Flatten)        (None, 784)               0         \n",
      "                                                                 \n",
      " dense_48 (Dense)            (None, 120)               94200     \n",
      "                                                                 \n",
      " dropout_40 (Dropout)        (None, 120)               0         \n",
      "                                                                 \n",
      " dense_49 (Dense)            (None, 84)                10164     \n",
      "                                                                 \n",
      " dropout_41 (Dropout)        (None, 84)                0         \n",
      "                                                                 \n",
      " dense_50 (Dense)            (None, 10)                850       \n",
      "                                                                 \n",
      "=================================================================\n",
      "Total params: 105,214\n",
      "Trainable params: 105,214\n",
      "Non-trainable params: 0\n",
      "_________________________________________________________________\n"
     ]
    }
   ],
   "source": [
    "# 2 camadas\n",
    "model_dois = tf.keras.models.Sequential()\n",
    "\n",
    "model_dois.add(tf.keras.layers.Flatten())\n",
    "model_dois.add(tf.keras.layers.Dense(120, activation='relu') )\n",
    "model_dois.add(tf.keras.layers.Dropout(0.5))\n",
    "model_dois.add(tf.keras.layers.Dense(84, activation='relu') )\n",
    "model_dois.add(tf.keras.layers.Dropout(0.5))\n",
    "model_dois.add(tf.keras.layers.Dense(10, activation='softmax') )\n",
    "\n",
    "model_dois.compile(optimizer=tf.keras.optimizers.Adam(learning_rate = 0.001),\n",
    "              loss='sparse_categorical_crossentropy',\n",
    "              metrics=['accuracy'])\n",
    "\n",
    "hist_dois = model_dois.fit(x_train, y_train, epochs=50, batch_size= 1000, validation_data=(x_valid, y_valid))\n",
    "model_dois.save('C:\\\\Users\\\\malta\\\\Desktop\\\\Pós Graduação\\\\Redes neurais\\\\Projeto 1\\\\modelos treinados\\\\hist_dois.h5')\n",
    "\n",
    "model_dois.evaluate(x_test,  y_test, verbose=2)\n",
    "\n",
    "model_dois.summary()"
   ]
  },
  {
   "cell_type": "code",
   "execution_count": 94,
   "metadata": {},
   "outputs": [
    {
     "name": "stdout",
     "output_type": "stream",
     "text": [
      "Epoch 1/50\n",
      "50/50 [==============================] - 2s 26ms/step - loss: 1.6607 - accuracy: 0.4223 - val_loss: 0.5413 - val_accuracy: 0.8657\n",
      "Epoch 2/50\n",
      "50/50 [==============================] - 1s 21ms/step - loss: 0.7120 - accuracy: 0.7760 - val_loss: 0.2676 - val_accuracy: 0.9225\n",
      "Epoch 3/50\n",
      "50/50 [==============================] - 1s 20ms/step - loss: 0.4808 - accuracy: 0.8633 - val_loss: 0.2049 - val_accuracy: 0.9429\n",
      "Epoch 4/50\n",
      "50/50 [==============================] - 1s 21ms/step - loss: 0.3846 - accuracy: 0.8957 - val_loss: 0.1769 - val_accuracy: 0.9526\n",
      "Epoch 5/50\n",
      "50/50 [==============================] - 1s 23ms/step - loss: 0.3346 - accuracy: 0.9101 - val_loss: 0.1523 - val_accuracy: 0.9600\n",
      "Epoch 6/50\n",
      "50/50 [==============================] - 1s 20ms/step - loss: 0.2953 - accuracy: 0.9223 - val_loss: 0.1403 - val_accuracy: 0.9631\n",
      "Epoch 7/50\n",
      "50/50 [==============================] - 1s 20ms/step - loss: 0.2666 - accuracy: 0.9302 - val_loss: 0.1295 - val_accuracy: 0.9672\n",
      "Epoch 8/50\n",
      "50/50 [==============================] - 1s 20ms/step - loss: 0.2450 - accuracy: 0.9365 - val_loss: 0.1231 - val_accuracy: 0.9674\n",
      "Epoch 9/50\n",
      "50/50 [==============================] - 1s 20ms/step - loss: 0.2272 - accuracy: 0.9404 - val_loss: 0.1202 - val_accuracy: 0.9679\n",
      "Epoch 10/50\n",
      "50/50 [==============================] - 1s 20ms/step - loss: 0.2166 - accuracy: 0.9425 - val_loss: 0.1166 - val_accuracy: 0.9704\n",
      "Epoch 11/50\n",
      "50/50 [==============================] - 1s 20ms/step - loss: 0.2057 - accuracy: 0.9467 - val_loss: 0.1126 - val_accuracy: 0.9694\n",
      "Epoch 12/50\n",
      "50/50 [==============================] - 1s 20ms/step - loss: 0.1889 - accuracy: 0.9503 - val_loss: 0.1083 - val_accuracy: 0.9716\n",
      "Epoch 13/50\n",
      "50/50 [==============================] - 1s 20ms/step - loss: 0.1791 - accuracy: 0.9527 - val_loss: 0.1063 - val_accuracy: 0.9728\n",
      "Epoch 14/50\n",
      "50/50 [==============================] - 1s 20ms/step - loss: 0.1723 - accuracy: 0.9555 - val_loss: 0.1059 - val_accuracy: 0.9724\n",
      "Epoch 15/50\n",
      "50/50 [==============================] - 1s 20ms/step - loss: 0.1670 - accuracy: 0.9566 - val_loss: 0.1015 - val_accuracy: 0.9738\n",
      "Epoch 16/50\n",
      "50/50 [==============================] - 1s 20ms/step - loss: 0.1624 - accuracy: 0.9573 - val_loss: 0.1050 - val_accuracy: 0.9727\n",
      "Epoch 17/50\n",
      "50/50 [==============================] - 1s 20ms/step - loss: 0.1534 - accuracy: 0.9601 - val_loss: 0.1015 - val_accuracy: 0.9739\n",
      "Epoch 18/50\n",
      "50/50 [==============================] - 1s 20ms/step - loss: 0.1470 - accuracy: 0.9609 - val_loss: 0.0972 - val_accuracy: 0.9762\n",
      "Epoch 19/50\n",
      "50/50 [==============================] - 1s 20ms/step - loss: 0.1455 - accuracy: 0.9619 - val_loss: 0.1007 - val_accuracy: 0.9750\n",
      "Epoch 20/50\n",
      "50/50 [==============================] - 1s 20ms/step - loss: 0.1377 - accuracy: 0.9627 - val_loss: 0.0946 - val_accuracy: 0.9762\n",
      "Epoch 21/50\n",
      "50/50 [==============================] - 1s 20ms/step - loss: 0.1319 - accuracy: 0.9641 - val_loss: 0.0956 - val_accuracy: 0.9774\n",
      "Epoch 22/50\n",
      "50/50 [==============================] - 1s 20ms/step - loss: 0.1315 - accuracy: 0.9640 - val_loss: 0.0963 - val_accuracy: 0.9761\n",
      "Epoch 23/50\n",
      "50/50 [==============================] - 1s 20ms/step - loss: 0.1279 - accuracy: 0.9664 - val_loss: 0.0949 - val_accuracy: 0.9766\n",
      "Epoch 24/50\n",
      "50/50 [==============================] - 1s 20ms/step - loss: 0.1247 - accuracy: 0.9675 - val_loss: 0.0952 - val_accuracy: 0.9752\n",
      "Epoch 25/50\n",
      "50/50 [==============================] - 1s 20ms/step - loss: 0.1200 - accuracy: 0.9673 - val_loss: 0.0943 - val_accuracy: 0.9769\n",
      "Epoch 26/50\n",
      "50/50 [==============================] - 1s 20ms/step - loss: 0.1178 - accuracy: 0.9683 - val_loss: 0.0937 - val_accuracy: 0.9772\n",
      "Epoch 27/50\n",
      "50/50 [==============================] - 1s 20ms/step - loss: 0.1163 - accuracy: 0.9681 - val_loss: 0.0905 - val_accuracy: 0.9792\n",
      "Epoch 28/50\n",
      "50/50 [==============================] - 1s 20ms/step - loss: 0.1147 - accuracy: 0.9690 - val_loss: 0.0922 - val_accuracy: 0.9786\n",
      "Epoch 29/50\n",
      "50/50 [==============================] - 1s 20ms/step - loss: 0.1100 - accuracy: 0.9699 - val_loss: 0.0936 - val_accuracy: 0.9767\n",
      "Epoch 30/50\n",
      "50/50 [==============================] - 1s 20ms/step - loss: 0.1120 - accuracy: 0.9698 - val_loss: 0.0888 - val_accuracy: 0.9780\n",
      "Epoch 31/50\n",
      "50/50 [==============================] - 1s 20ms/step - loss: 0.1058 - accuracy: 0.9723 - val_loss: 0.0874 - val_accuracy: 0.9777\n",
      "Epoch 32/50\n",
      "50/50 [==============================] - 1s 20ms/step - loss: 0.1008 - accuracy: 0.9723 - val_loss: 0.0927 - val_accuracy: 0.9769\n",
      "Epoch 33/50\n",
      "50/50 [==============================] - 1s 20ms/step - loss: 0.1012 - accuracy: 0.9720 - val_loss: 0.0900 - val_accuracy: 0.9793\n",
      "Epoch 34/50\n",
      "50/50 [==============================] - 1s 20ms/step - loss: 0.0968 - accuracy: 0.9734 - val_loss: 0.0894 - val_accuracy: 0.9796\n",
      "Epoch 35/50\n",
      "50/50 [==============================] - 1s 20ms/step - loss: 0.0948 - accuracy: 0.9744 - val_loss: 0.0899 - val_accuracy: 0.9778\n",
      "Epoch 36/50\n",
      "50/50 [==============================] - 1s 20ms/step - loss: 0.0935 - accuracy: 0.9742 - val_loss: 0.0919 - val_accuracy: 0.9779\n",
      "Epoch 37/50\n",
      "50/50 [==============================] - 1s 19ms/step - loss: 0.0939 - accuracy: 0.9745 - val_loss: 0.0883 - val_accuracy: 0.9784\n",
      "Epoch 38/50\n",
      "50/50 [==============================] - 1s 20ms/step - loss: 0.0910 - accuracy: 0.9750 - val_loss: 0.0869 - val_accuracy: 0.9784\n",
      "Epoch 39/50\n",
      "50/50 [==============================] - 1s 20ms/step - loss: 0.0918 - accuracy: 0.9744 - val_loss: 0.0887 - val_accuracy: 0.9776\n",
      "Epoch 40/50\n",
      "50/50 [==============================] - 1s 20ms/step - loss: 0.0914 - accuracy: 0.9753 - val_loss: 0.0908 - val_accuracy: 0.9797\n",
      "Epoch 41/50\n",
      "50/50 [==============================] - 1s 20ms/step - loss: 0.0871 - accuracy: 0.9760 - val_loss: 0.0879 - val_accuracy: 0.9799\n",
      "Epoch 42/50\n",
      "50/50 [==============================] - 1s 20ms/step - loss: 0.0849 - accuracy: 0.9765 - val_loss: 0.0889 - val_accuracy: 0.9799\n",
      "Epoch 43/50\n",
      "50/50 [==============================] - 1s 20ms/step - loss: 0.0842 - accuracy: 0.9772 - val_loss: 0.0907 - val_accuracy: 0.9780\n",
      "Epoch 44/50\n",
      "50/50 [==============================] - 1s 20ms/step - loss: 0.0843 - accuracy: 0.9765 - val_loss: 0.0878 - val_accuracy: 0.9806\n",
      "Epoch 45/50\n",
      "50/50 [==============================] - 1s 20ms/step - loss: 0.0817 - accuracy: 0.9772 - val_loss: 0.0864 - val_accuracy: 0.9802\n",
      "Epoch 46/50\n",
      "50/50 [==============================] - 1s 20ms/step - loss: 0.0785 - accuracy: 0.9782 - val_loss: 0.0873 - val_accuracy: 0.9805\n",
      "Epoch 47/50\n",
      "50/50 [==============================] - 1s 20ms/step - loss: 0.0795 - accuracy: 0.9774 - val_loss: 0.0898 - val_accuracy: 0.9800\n",
      "Epoch 48/50\n",
      "50/50 [==============================] - 1s 20ms/step - loss: 0.0793 - accuracy: 0.9785 - val_loss: 0.0894 - val_accuracy: 0.9793\n",
      "Epoch 49/50\n",
      "50/50 [==============================] - 1s 20ms/step - loss: 0.0802 - accuracy: 0.9778 - val_loss: 0.0869 - val_accuracy: 0.9803\n",
      "Epoch 50/50\n",
      "50/50 [==============================] - 1s 20ms/step - loss: 0.0774 - accuracy: 0.9784 - val_loss: 0.0879 - val_accuracy: 0.9800\n",
      "313/313 - 1s - loss: 0.0812 - accuracy: 0.9803 - 672ms/epoch - 2ms/step\n",
      "Model: \"sequential_26\"\n",
      "_________________________________________________________________\n",
      " Layer (type)                Output Shape              Param #   \n",
      "=================================================================\n",
      " flatten_23 (Flatten)        (None, 784)               0         \n",
      "                                                                 \n",
      " dense_51 (Dense)            (None, 200)               157000    \n",
      "                                                                 \n",
      " dropout_42 (Dropout)        (None, 200)               0         \n",
      "                                                                 \n",
      " dense_52 (Dense)            (None, 120)               24120     \n",
      "                                                                 \n",
      " dropout_43 (Dropout)        (None, 120)               0         \n",
      "                                                                 \n",
      " dense_53 (Dense)            (None, 84)                10164     \n",
      "                                                                 \n",
      " dropout_44 (Dropout)        (None, 84)                0         \n",
      "                                                                 \n",
      " dense_54 (Dense)            (None, 10)                850       \n",
      "                                                                 \n",
      "=================================================================\n",
      "Total params: 192,134\n",
      "Trainable params: 192,134\n",
      "Non-trainable params: 0\n",
      "_________________________________________________________________\n"
     ]
    }
   ],
   "source": [
    "# 3 camadas\n",
    "model_tres = tf.keras.models.Sequential()\n",
    "\n",
    "model_tres.add(tf.keras.layers.Flatten())\n",
    "model_tres.add(tf.keras.layers.Dense(200, activation='relu') )\n",
    "model_tres.add(tf.keras.layers.Dropout(0.5))\n",
    "model_tres.add(tf.keras.layers.Dense(120, activation='relu') )\n",
    "model_tres.add(tf.keras.layers.Dropout(0.5))\n",
    "model_tres.add(tf.keras.layers.Dense(84, activation='relu') )\n",
    "model_tres.add(tf.keras.layers.Dropout(0.5))\n",
    "model_tres.add(tf.keras.layers.Dense(10, activation='softmax') )\n",
    "\n",
    "model_tres.compile(optimizer=tf.keras.optimizers.Adam(learning_rate = 0.001),\n",
    "              loss='sparse_categorical_crossentropy',\n",
    "              metrics=['accuracy'])\n",
    "\n",
    "hist_tres = model_tres.fit(x_train, y_train, epochs=50, batch_size= 1000, validation_data=(x_valid, y_valid))\n",
    "model_tres.save('C:\\\\Users\\\\malta\\\\Desktop\\\\Pós Graduação\\\\Redes neurais\\\\Projeto 1\\\\modelos treinados\\\\hist_tres.h5')\n",
    "\n",
    "model_tres.evaluate(x_test,  y_test, verbose=2)\n",
    "\n",
    "model_tres.summary()"
   ]
  },
  {
   "cell_type": "code",
   "execution_count": 95,
   "metadata": {
    "scrolled": false
   },
   "outputs": [
    {
     "name": "stdout",
     "output_type": "stream",
     "text": [
      "Epoch 1/50\n",
      "50/50 [==============================] - 2s 25ms/step - loss: 1.9227 - accuracy: 0.3069 - val_loss: 0.8409 - val_accuracy: 0.7968\n",
      "Epoch 2/50\n",
      "50/50 [==============================] - 1s 23ms/step - loss: 0.9252 - accuracy: 0.6899 - val_loss: 0.3619 - val_accuracy: 0.9044\n",
      "Epoch 3/50\n",
      "50/50 [==============================] - 1s 23ms/step - loss: 0.5795 - accuracy: 0.8281 - val_loss: 0.2430 - val_accuracy: 0.9359\n",
      "Epoch 4/50\n",
      "50/50 [==============================] - 1s 23ms/step - loss: 0.4459 - accuracy: 0.8796 - val_loss: 0.1973 - val_accuracy: 0.9472\n",
      "Epoch 5/50\n",
      "50/50 [==============================] - 1s 23ms/step - loss: 0.3735 - accuracy: 0.9021 - val_loss: 0.1756 - val_accuracy: 0.9531\n",
      "Epoch 6/50\n",
      "50/50 [==============================] - 1s 23ms/step - loss: 0.3302 - accuracy: 0.9152 - val_loss: 0.1587 - val_accuracy: 0.9591\n",
      "Epoch 7/50\n",
      "50/50 [==============================] - 1s 23ms/step - loss: 0.2955 - accuracy: 0.9259 - val_loss: 0.1459 - val_accuracy: 0.9627\n",
      "Epoch 8/50\n",
      "50/50 [==============================] - 1s 23ms/step - loss: 0.2755 - accuracy: 0.9301 - val_loss: 0.1397 - val_accuracy: 0.9645\n",
      "Epoch 9/50\n",
      "50/50 [==============================] - 1s 23ms/step - loss: 0.2558 - accuracy: 0.9364 - val_loss: 0.1326 - val_accuracy: 0.9660\n",
      "Epoch 10/50\n",
      "50/50 [==============================] - 1s 23ms/step - loss: 0.2414 - accuracy: 0.9399 - val_loss: 0.1264 - val_accuracy: 0.9676\n",
      "Epoch 11/50\n",
      "50/50 [==============================] - 1s 23ms/step - loss: 0.2269 - accuracy: 0.9431 - val_loss: 0.1262 - val_accuracy: 0.9672\n",
      "Epoch 12/50\n",
      "50/50 [==============================] - 1s 23ms/step - loss: 0.2184 - accuracy: 0.9458 - val_loss: 0.1223 - val_accuracy: 0.9697\n",
      "Epoch 13/50\n",
      "50/50 [==============================] - 1s 23ms/step - loss: 0.2062 - accuracy: 0.9477 - val_loss: 0.1165 - val_accuracy: 0.9703\n",
      "Epoch 14/50\n",
      "50/50 [==============================] - 1s 23ms/step - loss: 0.1984 - accuracy: 0.9511 - val_loss: 0.1168 - val_accuracy: 0.9701\n",
      "Epoch 15/50\n",
      "50/50 [==============================] - 1s 23ms/step - loss: 0.1913 - accuracy: 0.9525 - val_loss: 0.1114 - val_accuracy: 0.9713\n",
      "Epoch 16/50\n",
      "50/50 [==============================] - 1s 23ms/step - loss: 0.1804 - accuracy: 0.9553 - val_loss: 0.1106 - val_accuracy: 0.9728\n",
      "Epoch 17/50\n",
      "50/50 [==============================] - 1s 23ms/step - loss: 0.1775 - accuracy: 0.9564 - val_loss: 0.1096 - val_accuracy: 0.9729\n",
      "Epoch 18/50\n",
      "50/50 [==============================] - 1s 23ms/step - loss: 0.1691 - accuracy: 0.9580 - val_loss: 0.1173 - val_accuracy: 0.9709\n",
      "Epoch 19/50\n",
      "50/50 [==============================] - 1s 23ms/step - loss: 0.1666 - accuracy: 0.9593 - val_loss: 0.1020 - val_accuracy: 0.9734\n",
      "Epoch 20/50\n",
      "50/50 [==============================] - 1s 23ms/step - loss: 0.1596 - accuracy: 0.9606 - val_loss: 0.1058 - val_accuracy: 0.9741\n",
      "Epoch 21/50\n",
      "50/50 [==============================] - 1s 23ms/step - loss: 0.1567 - accuracy: 0.9607 - val_loss: 0.1017 - val_accuracy: 0.9744\n",
      "Epoch 22/50\n",
      "50/50 [==============================] - 1s 23ms/step - loss: 0.1512 - accuracy: 0.9626 - val_loss: 0.1077 - val_accuracy: 0.9739\n",
      "Epoch 23/50\n",
      "50/50 [==============================] - 1s 24ms/step - loss: 0.1443 - accuracy: 0.9632 - val_loss: 0.1040 - val_accuracy: 0.9748\n",
      "Epoch 24/50\n",
      "50/50 [==============================] - 1s 24ms/step - loss: 0.1388 - accuracy: 0.9650 - val_loss: 0.1093 - val_accuracy: 0.9745\n",
      "Epoch 25/50\n",
      "50/50 [==============================] - 1s 24ms/step - loss: 0.1403 - accuracy: 0.9652 - val_loss: 0.1056 - val_accuracy: 0.9752\n",
      "Epoch 26/50\n",
      "50/50 [==============================] - 1s 24ms/step - loss: 0.1360 - accuracy: 0.9658 - val_loss: 0.1023 - val_accuracy: 0.9754\n",
      "Epoch 27/50\n",
      "50/50 [==============================] - 1s 23ms/step - loss: 0.1341 - accuracy: 0.9662 - val_loss: 0.1033 - val_accuracy: 0.9747\n",
      "Epoch 28/50\n",
      "50/50 [==============================] - 1s 24ms/step - loss: 0.1296 - accuracy: 0.9674 - val_loss: 0.1066 - val_accuracy: 0.9749\n",
      "Epoch 29/50\n",
      "50/50 [==============================] - 1s 24ms/step - loss: 0.1297 - accuracy: 0.9682 - val_loss: 0.1025 - val_accuracy: 0.9753\n",
      "Epoch 30/50\n",
      "50/50 [==============================] - 1s 23ms/step - loss: 0.1260 - accuracy: 0.9669 - val_loss: 0.0975 - val_accuracy: 0.9762\n",
      "Epoch 31/50\n",
      "50/50 [==============================] - 1s 24ms/step - loss: 0.1193 - accuracy: 0.9700 - val_loss: 0.1051 - val_accuracy: 0.9749\n",
      "Epoch 32/50\n",
      "50/50 [==============================] - 1s 24ms/step - loss: 0.1151 - accuracy: 0.9701 - val_loss: 0.1003 - val_accuracy: 0.9765\n",
      "Epoch 33/50\n",
      "50/50 [==============================] - 1s 23ms/step - loss: 0.1169 - accuracy: 0.9702 - val_loss: 0.0997 - val_accuracy: 0.9769\n",
      "Epoch 34/50\n",
      "50/50 [==============================] - 1s 24ms/step - loss: 0.1132 - accuracy: 0.9706 - val_loss: 0.1027 - val_accuracy: 0.9766\n",
      "Epoch 35/50\n",
      "50/50 [==============================] - 1s 24ms/step - loss: 0.1147 - accuracy: 0.9711 - val_loss: 0.1037 - val_accuracy: 0.9754\n",
      "Epoch 36/50\n",
      "50/50 [==============================] - 1s 24ms/step - loss: 0.1114 - accuracy: 0.9708 - val_loss: 0.0991 - val_accuracy: 0.9761\n",
      "Epoch 37/50\n",
      "50/50 [==============================] - 1s 24ms/step - loss: 0.1097 - accuracy: 0.9722 - val_loss: 0.1020 - val_accuracy: 0.9759\n",
      "Epoch 38/50\n",
      "50/50 [==============================] - 1s 24ms/step - loss: 0.1084 - accuracy: 0.9723 - val_loss: 0.0974 - val_accuracy: 0.9771\n",
      "Epoch 39/50\n",
      "50/50 [==============================] - ETA: 0s - loss: 0.1058 - accuracy: 0.97 - 1s 23ms/step - loss: 0.1056 - accuracy: 0.9731 - val_loss: 0.0984 - val_accuracy: 0.9768\n",
      "Epoch 40/50\n",
      "50/50 [==============================] - 1s 24ms/step - loss: 0.1051 - accuracy: 0.9729 - val_loss: 0.1036 - val_accuracy: 0.9776\n",
      "Epoch 41/50\n",
      "50/50 [==============================] - 1s 24ms/step - loss: 0.1067 - accuracy: 0.9726 - val_loss: 0.1007 - val_accuracy: 0.9769\n",
      "Epoch 42/50\n",
      "50/50 [==============================] - 1s 23ms/step - loss: 0.1032 - accuracy: 0.9739 - val_loss: 0.0972 - val_accuracy: 0.9776\n",
      "Epoch 43/50\n",
      "50/50 [==============================] - 1s 24ms/step - loss: 0.1043 - accuracy: 0.9732 - val_loss: 0.0976 - val_accuracy: 0.9777\n",
      "Epoch 44/50\n",
      "50/50 [==============================] - 1s 24ms/step - loss: 0.0992 - accuracy: 0.9748 - val_loss: 0.0925 - val_accuracy: 0.9776\n",
      "Epoch 45/50\n",
      "50/50 [==============================] - 1s 24ms/step - loss: 0.1034 - accuracy: 0.9736 - val_loss: 0.0980 - val_accuracy: 0.9777\n",
      "Epoch 46/50\n",
      "50/50 [==============================] - 1s 24ms/step - loss: 0.0986 - accuracy: 0.9747 - val_loss: 0.0962 - val_accuracy: 0.9778\n",
      "Epoch 47/50\n",
      "50/50 [==============================] - 1s 24ms/step - loss: 0.0936 - accuracy: 0.9757 - val_loss: 0.0985 - val_accuracy: 0.9775\n",
      "Epoch 48/50\n",
      "50/50 [==============================] - 1s 24ms/step - loss: 0.0969 - accuracy: 0.9754 - val_loss: 0.0946 - val_accuracy: 0.9768\n",
      "Epoch 49/50\n",
      "50/50 [==============================] - 1s 24ms/step - loss: 0.0930 - accuracy: 0.9760 - val_loss: 0.0989 - val_accuracy: 0.9778\n",
      "Epoch 50/50\n",
      "50/50 [==============================] - 1s 24ms/step - loss: 0.0962 - accuracy: 0.9752 - val_loss: 0.0928 - val_accuracy: 0.9776\n",
      "313/313 - 1s - loss: 0.1017 - accuracy: 0.9776 - 687ms/epoch - 2ms/step\n",
      "Model: \"sequential_27\"\n",
      "_________________________________________________________________\n",
      " Layer (type)                Output Shape              Param #   \n",
      "=================================================================\n",
      " flatten_24 (Flatten)        (None, 784)               0         \n",
      "                                                                 \n",
      " dense_55 (Dense)            (None, 200)               157000    \n",
      "                                                                 \n",
      " dropout_45 (Dropout)        (None, 200)               0         \n",
      "                                                                 \n",
      " dense_56 (Dense)            (None, 150)               30150     \n",
      "                                                                 \n",
      " dropout_46 (Dropout)        (None, 150)               0         \n",
      "                                                                 \n",
      " dense_57 (Dense)            (None, 120)               18120     \n",
      "                                                                 \n",
      " dropout_47 (Dropout)        (None, 120)               0         \n",
      "                                                                 \n",
      " dense_58 (Dense)            (None, 84)                10164     \n",
      "                                                                 \n",
      " dropout_48 (Dropout)        (None, 84)                0         \n",
      "                                                                 \n",
      " dense_59 (Dense)            (None, 10)                850       \n",
      "                                                                 \n",
      "=================================================================\n",
      "Total params: 216,284\n",
      "Trainable params: 216,284\n",
      "Non-trainable params: 0\n",
      "_________________________________________________________________\n"
     ]
    }
   ],
   "source": [
    "# 4 camadas\n",
    "model_quatro = tf.keras.models.Sequential()\n",
    "\n",
    "model_quatro.add(tf.keras.layers.Flatten())\n",
    "model_quatro.add(tf.keras.layers.Dense(200, activation='relu') )\n",
    "model_quatro.add(tf.keras.layers.Dropout(0.5))\n",
    "model_quatro.add(tf.keras.layers.Dense(150, activation='relu') )\n",
    "model_quatro.add(tf.keras.layers.Dropout(0.5))\n",
    "model_quatro.add(tf.keras.layers.Dense(120, activation='relu') )\n",
    "model_quatro.add(tf.keras.layers.Dropout(0.5))\n",
    "model_quatro.add(tf.keras.layers.Dense(84, activation='relu') )\n",
    "model_quatro.add(tf.keras.layers.Dropout(0.5))\n",
    "model_quatro.add(tf.keras.layers.Dense(10, activation='softmax') )\n",
    "\n",
    "model_quatro.compile(optimizer=tf.keras.optimizers.Adam(learning_rate = 0.001),\n",
    "              loss='sparse_categorical_crossentropy',\n",
    "              metrics=['accuracy'])\n",
    "\n",
    "hist_quatro = model_quatro.fit(x_train, y_train, epochs=50, batch_size= 1000, validation_data=(x_valid, y_valid))\n",
    "model_quatro.save('C:\\\\Users\\\\malta\\\\Desktop\\\\Pós Graduação\\\\Redes neurais\\\\Projeto 1\\\\modelos treinados\\\\hist_quatro.h5')\n",
    "\n",
    "model_quatro.evaluate(x_test,  y_test, verbose=2)\n",
    "\n",
    "model_quatro.summary()"
   ]
  },
  {
   "cell_type": "markdown",
   "metadata": {},
   "source": [
    "### d) Gráficos dos percentuais de acurácia"
   ]
  },
  {
   "cell_type": "code",
   "execution_count": 38,
   "metadata": {},
   "outputs": [],
   "source": [
    "import matplotlib.pyplot as plt"
   ]
  },
  {
   "cell_type": "code",
   "execution_count": 102,
   "metadata": {
    "scrolled": true
   },
   "outputs": [
    {
     "data": {
      "text/plain": [
       "<matplotlib.legend.Legend at 0x199dd1dec70>"
      ]
     },
     "execution_count": 102,
     "metadata": {},
     "output_type": "execute_result"
    },
    {
     "data": {
      "image/png": "[encoded data removed]",
      "text/plain": [
       "<Figure size 864x360 with 2 Axes>"
      ]
     },
     "metadata": {
      "needs_background": "light"
     },
     "output_type": "display_data"
    }
   ],
   "source": [
    "acc_train = hist.history['accuracy']\n",
    "acc_val = hist.history['val_accuracy']\n",
    "\n",
    "loss_train = hist.history['loss']\n",
    "loss_val = hist.history['val_loss']\n",
    "\n",
    "fig, ax = plt.subplots(1, 2,figsize=(12, 5))\n",
    "fig.suptitle('Training and Validation accuracy/loss')\n",
    "\n",
    "epochs = range(1,51)\n",
    "\n",
    "ax[0].plot(epochs, acc_train, 'g', label='Training accuracy')\n",
    "ax[0].plot(epochs, acc_val, 'b', label='validation accuracy')\n",
    "ax[0].set_title('Precisão')\n",
    "ax[0].legend(loc='best')\n",
    "\n",
    "ax[1].plot(epochs, loss_train, 'g', label='Training accuracy')\n",
    "ax[1].plot(epochs, loss_val, 'b', label='validation accuracy')\n",
    "ax[1].set_title('Perda')\n",
    "ax[1].legend(loc='best')"
   ]
  },
  {
   "cell_type": "code",
   "execution_count": 91,
   "metadata": {},
   "outputs": [
    {
     "data": {
      "text/plain": [
       "<matplotlib.legend.Legend at 0x199de6f4970>"
      ]
     },
     "execution_count": 91,
     "metadata": {},
     "output_type": "execute_result"
    },
    {
     "data": {
      "image/png": "[encoded data removed]",
      "text/plain": [
       "<Figure size 864x360 with 2 Axes>"
      ]
     },
     "metadata": {
      "needs_background": "light"
     },
     "output_type": "display_data"
    }
   ],
   "source": [
    "acc_train_um = hist_um.history['accuracy']\n",
    "acc_val_um = hist_um.history['val_accuracy']\n",
    "\n",
    "loss_train_um = hist_um.history['loss']\n",
    "loss_val_um = hist_um.history['val_loss']\n",
    "\n",
    "epochs = range(1,51)\n",
    "\n",
    "fig, ax = plt.subplots(1, 2,figsize=(12, 5))\n",
    "fig.suptitle('Training and Validation accuracy/loss')\n",
    "\n",
    "ax[0].plot(epochs, acc_train_um, 'g', label='Training accuracy')\n",
    "ax[0].plot(epochs, acc_val_um, 'b', label='validation accuracy')\n",
    "ax[0].set_title('Precisão')\n",
    "ax[0].legend(loc='best')\n",
    "\n",
    "ax[1].plot(epochs, loss_train_um, 'g', label='Training accuracy')\n",
    "ax[1].plot(epochs, loss_val_um, 'b', label='validation accuracy')\n",
    "ax[1].set_title('Perda')\n",
    "ax[1].legend(loc='best')"
   ]
  },
  {
   "cell_type": "code",
   "execution_count": 93,
   "metadata": {
    "scrolled": true
   },
   "outputs": [
    {
     "data": {
      "text/plain": [
       "<matplotlib.legend.Legend at 0x199dc264280>"
      ]
     },
     "execution_count": 93,
     "metadata": {},
     "output_type": "execute_result"
    },
    {
     "data": {
      "image/png": "[encoded data removed]",
      "text/plain": [
       "<Figure size 864x360 with 2 Axes>"
      ]
     },
     "metadata": {
      "needs_background": "light"
     },
     "output_type": "display_data"
    }
   ],
   "source": [
    "acc_train_dois = hist_dois.history['accuracy']\n",
    "acc_val_dois = hist_dois.history['val_accuracy']\n",
    "\n",
    "loss_train_dois = hist_dois.history['loss']\n",
    "loss_val_dois = hist_dois.history['val_loss']\n",
    "\n",
    "epochs = range(1,51)\n",
    "\n",
    "fig, ax = plt.subplots(1, 2,figsize=(12, 5))\n",
    "fig.suptitle('Training and Validation accuracy/loss')\n",
    "\n",
    "ax[0].plot(epochs, acc_train_dois, 'g', label='Training accuracy')\n",
    "ax[0].plot(epochs, acc_val_dois, 'b', label='validation accuracy')\n",
    "ax[0].set_title('Precisão')\n",
    "ax[0].legend(loc='best')\n",
    "\n",
    "ax[1].plot(epochs, loss_train_dois, 'g', label='Training accuracy')\n",
    "ax[1].plot(epochs, loss_val_dois, 'b', label='validation accuracy')\n",
    "ax[1].set_title('Perda')\n",
    "ax[1].legend(loc='best')"
   ]
  },
  {
   "cell_type": "code",
   "execution_count": 96,
   "metadata": {
    "scrolled": true
   },
   "outputs": [
    {
     "data": {
      "text/plain": [
       "<matplotlib.legend.Legend at 0x199da0452b0>"
      ]
     },
     "execution_count": 96,
     "metadata": {},
     "output_type": "execute_result"
    },
    {
     "data": {
      "image/png": "[encoded data removed]",
      "text/plain": [
       "<Figure size 864x360 with 2 Axes>"
      ]
     },
     "metadata": {
      "needs_background": "light"
     },
     "output_type": "display_data"
    }
   ],
   "source": [
    "acc_train_tres = hist_tres.history['accuracy']\n",
    "acc_val_tres = hist_tres.history['val_accuracy']\n",
    "\n",
    "loss_train_tres = hist_tres.history['loss']\n",
    "loss_val_tres = hist_tres.history['val_loss']\n",
    "\n",
    "epochs = range(1,51)\n",
    "\n",
    "fig, ax = plt.subplots(1, 2,figsize=(12, 5))\n",
    "fig.suptitle('Training and Validation accuracy/loss')\n",
    "\n",
    "ax[0].plot(epochs, acc_train_tres, 'g', label='Training accuracy')\n",
    "ax[0].plot(epochs, acc_val_tres, 'b', label='validation accuracy')\n",
    "ax[0].set_title('Precisão')\n",
    "ax[0].legend(loc='best')\n",
    "\n",
    "ax[1].plot(epochs, loss_train_tres, 'g', label='Training accuracy')\n",
    "ax[1].plot(epochs, loss_val_tres, 'b', label='validation accuracy')\n",
    "ax[1].set_title('Perda')\n",
    "ax[1].legend(loc='best')"
   ]
  },
  {
   "cell_type": "code",
   "execution_count": 97,
   "metadata": {},
   "outputs": [
    {
     "data": {
      "text/plain": [
       "<matplotlib.legend.Legend at 0x199dc8fc550>"
      ]
     },
     "execution_count": 97,
     "metadata": {},
     "output_type": "execute_result"
    },
    {
     "data": {
      "image/png": "[encoded data removed]",
      "text/plain": [
       "<Figure size 864x360 with 2 Axes>"
      ]
     },
     "metadata": {
      "needs_background": "light"
     },
     "output_type": "display_data"
    }
   ],
   "source": [
    "acc_train_quatro = hist_quatro.history['accuracy']\n",
    "acc_val_quatro = hist_quatro.history['val_accuracy']\n",
    "\n",
    "loss_train_quatro = hist_quatro.history['loss']\n",
    "loss_val_quatro = hist_quatro.history['val_loss']\n",
    "\n",
    "epochs = range(1,51)\n",
    "\n",
    "fig, ax = plt.subplots(1, 2,figsize=(12, 5))\n",
    "fig.suptitle('Training and Validation accuracy/loss')\n",
    "\n",
    "ax[0].plot(epochs, acc_train_quatro, 'g', label='Training accuracy')\n",
    "ax[0].plot(epochs, acc_val_quatro, 'b', label='validation accuracy')\n",
    "ax[0].set_title('Precisão')\n",
    "ax[0].legend(loc='best')\n",
    "\n",
    "ax[1].plot(epochs, loss_train_quatro, 'g', label='Training accuracy')\n",
    "ax[1].plot(epochs, loss_val_quatro, 'b', label='validation accuracy')\n",
    "ax[1].set_title('Perda')\n",
    "ax[1].legend(loc='best')"
   ]
  },
  {
   "cell_type": "markdown",
   "metadata": {},
   "source": [
    "### e) Tabela de acurácia"
   ]
  },
  {
   "cell_type": "code",
   "execution_count": 169,
   "metadata": {},
   "outputs": [
    {
     "name": "stdout",
     "output_type": "stream",
     "text": [
      "Reg. Multinom. Logística:  precisão de treino:  0.9277999997138977 , precisão de validação:  0.9307000041007996\n",
      "MLP com 1 camada latente:  precisão de treino:  0.9701200127601624 , precisão de validação:  0.9751999974250793\n",
      "MLP com 2 camada latente:  precisão de treino:  0.9635599851608276 , precisão de validação:  0.9768000245094299\n",
      "MLP com 3 camada latente:  precisão de treino:  0.9857400059700012 , precisão de validação:  0.98089998960495\n",
      "MLP com 4 camada latente:  precisão de treino:  0.9752200245857239 , precisão de validação:  0.9775999784469604\n"
     ]
    }
   ],
   "source": [
    "print(\"Reg. Multinom. Logística: \",\"precisão de treino: \", hist.history['accuracy'][-1],\",\",\n",
    "     \"precisão de validação: \",hist.history['val_accuracy'][-1])\n",
    "print(\"MLP com 1 camada latente: \", \"precisão de treino: \",hist_um.history['accuracy'][-1], \",\",\n",
    "      \"precisão de validação: \", hist_um.history['val_accuracy'][-1])\n",
    "print(\"MLP com 2 camada latente: \",\"precisão de treino: \",hist_dois.history['accuracy'][-1],\",\",\n",
    "     \"precisão de validação: \",hist_dois.history['val_accuracy'][-1])\n",
    "print(\"MLP com 3 camada latente: \",\"precisão de treino: \",hist_tres.history['accuracy'][-1],\",\",\n",
    "     \"precisão de validação: \",hist_tres.history['val_accuracy'][-1])\n",
    "print(\"MLP com 4 camada latente: \",\"precisão de treino: \", hist_quatro.history['accuracy'][-1],\",\",\n",
    "     \"precisão de validação: \",hist_quatro.history['val_accuracy'][-1])"
   ]
  },
  {
   "cell_type": "markdown",
   "metadata": {},
   "source": [
    "### f) Ensemble com os 4 MLPs"
   ]
  },
  {
   "cell_type": "code",
   "execution_count": 127,
   "metadata": {},
   "outputs": [],
   "source": [
    "keras_model = tf.keras.models.load_model('C:\\\\Users\\\\malta\\\\Desktop\\\\Pós Graduação\\\\Redes neurais\\\\Projeto 1\\\\modelos treinados\\\\hist.h5', compile=False)\n",
    "keras_model._name = 'model'\n",
    "keras_model1 = tf.keras.models.load_model('C:\\\\Users\\\\malta\\\\Desktop\\\\Pós Graduação\\\\Redes neurais\\\\Projeto 1\\\\modelos treinados\\\\hist_um.h5', compile=False)\n",
    "keras_model1._name = 'model1'\n",
    "keras_model2 = tf.keras.models.load_model('C:\\\\Users\\\\malta\\\\Desktop\\\\Pós Graduação\\\\Redes neurais\\\\Projeto 1\\\\modelos treinados\\\\hist_dois.h5', compile=False)\n",
    "keras_model2._name = 'model2'\n",
    "keras_model3 = tf.keras.models.load_model('C:\\\\Users\\\\malta\\\\Desktop\\\\Pós Graduação\\\\Redes neurais\\\\Projeto 1\\\\modelos treinados\\\\hist_tres.h5', compile=False)\n",
    "keras_model3._name = 'model3'\n",
    "keras_model4 = tf.keras.models.load_model('C:\\\\Users\\\\malta\\\\Desktop\\\\Pós Graduação\\\\Redes neurais\\\\Projeto 1\\\\modelos treinados\\\\hist_quatro.h5', compile=False)\n",
    "keras_model4._name = 'model4'"
   ]
  },
  {
   "cell_type": "code",
   "execution_count": 130,
   "metadata": {},
   "outputs": [
    {
     "name": "stdout",
     "output_type": "stream",
     "text": [
      "Acurácia do ensemble é 0.9802\n"
     ]
    }
   ],
   "source": [
    "#Soma os resultados da predição de cada modelo MLP para os dados de entrada de validação\n",
    "ensemble=keras_model1.predict(x_valid)\n",
    "ensemble+=keras_model2.predict(x_valid)\n",
    "ensemble+=keras_model3.predict(x_valid)\n",
    "ensemble+=keras_model4.predict(x_valid)\n",
    "\n",
    "#Encontra o índice para o qual a soma das 4 probabilidades será máxima \n",
    "\n",
    "y_ensemble=np.argmax(ensemble,axis=1)\n",
    "\n",
    "#Converte Y_validacao para o formato numpy\n",
    "\n",
    "y_valid_np=y_valid.numpy().astype(np.int64)\n",
    "y_valid_np\n",
    "\n",
    "#Verifica as correspondências entre o Y de validação e o do ensemble, soma a quantidade de correspondências\n",
    "# e divide pelo tamanho total\n",
    "print(\"Acurácia do ensemble é {}\".format(np.sum(y_valid_np==y_ensemble)/10000))"
   ]
  },
  {
   "cell_type": "code",
   "execution_count": 170,
   "metadata": {},
   "outputs": [
    {
     "name": "stdout",
     "output_type": "stream",
     "text": [
      "Acurácia do ensemble é 0.9799\n"
     ]
    }
   ],
   "source": [
    "#Soma os resultados da predição de cada modelo MLP para os dados de entrada de validação\n",
    "ensemble2=keras_model1.predict(x_test)\n",
    "ensemble2+=keras_model2.predict(x_test)\n",
    "ensemble2+=keras_model3.predict(x_test)\n",
    "ensemble2+=keras_model4.predict(x_test)\n",
    "\n",
    "#Encontra o índice para o qual a soma das 4 probabilidades será máxima \n",
    "\n",
    "y_ensemble2=np.argmax(ensemble2,axis=1)\n",
    "\n",
    "#Converte Y_validacao para o formato numpy\n",
    "\n",
    "y_valid2_np=y_test.numpy().astype(np.int64)\n",
    "y_valid2_np\n",
    "\n",
    "#Verifica as correspondências entre o Y de validação e o do ensemble, soma a quantidade de correspondências\n",
    "# e divide pelo tamanho total\n",
    "print(\"Acurácia do ensemble é {}\".format(np.sum(y_valid2_np==y_ensemble2)/10000))"
   ]
  },
  {
   "cell_type": "code",
   "execution_count": 121,
   "metadata": {},
   "outputs": [],
   "source": [
    "models = [keras_model1, keras_model2, keras_model3, keras_model4]\n",
    "model_input = tf.keras.Input(shape=784)\n",
    "model_outputs = [model(model_input) for model in models]\n",
    "ensemble_output = tf.keras.layers.Average()(model_outputs)\n",
    "ensemble_model = tf.keras.Model(inputs=model_input, outputs=ensemble_output)"
   ]
  },
  {
   "cell_type": "code",
   "execution_count": 125,
   "metadata": {},
   "outputs": [
    {
     "data": {
      "text/plain": [
       "<keras.engine.functional.Functional at 0x199dbe76e20>"
      ]
     },
     "execution_count": 125,
     "metadata": {},
     "output_type": "execute_result"
    }
   ],
   "source": [
    "ensemble_model"
   ]
  },
  {
   "cell_type": "code",
   "execution_count": 122,
   "metadata": {},
   "outputs": [
    {
     "name": "stdout",
     "output_type": "stream",
     "text": [
      "Epoch 1/50\n",
      "50/50 [==============================] - 4s 55ms/step - loss: 0.0573 - accuracy: 0.9886 - val_loss: 0.0780 - val_accuracy: 0.9799\n",
      "Epoch 2/50\n",
      "50/50 [==============================] - 3s 54ms/step - loss: 0.0556 - accuracy: 0.9889 - val_loss: 0.0774 - val_accuracy: 0.9799\n",
      "Epoch 3/50\n",
      "50/50 [==============================] - 3s 53ms/step - loss: 0.0567 - accuracy: 0.9891 - val_loss: 0.0780 - val_accuracy: 0.9807\n",
      "Epoch 4/50\n",
      "50/50 [==============================] - 3s 51ms/step - loss: 0.0551 - accuracy: 0.9886 - val_loss: 0.0789 - val_accuracy: 0.9791\n",
      "Epoch 5/50\n",
      "50/50 [==============================] - 3s 51ms/step - loss: 0.0563 - accuracy: 0.9887 - val_loss: 0.0761 - val_accuracy: 0.9804\n",
      "Epoch 6/50\n",
      "50/50 [==============================] - 3s 51ms/step - loss: 0.0542 - accuracy: 0.9894 - val_loss: 0.0766 - val_accuracy: 0.9810\n",
      "Epoch 7/50\n",
      "50/50 [==============================] - 3s 51ms/step - loss: 0.0537 - accuracy: 0.9887 - val_loss: 0.0768 - val_accuracy: 0.9808\n",
      "Epoch 8/50\n",
      "50/50 [==============================] - 3s 62ms/step - loss: 0.0524 - accuracy: 0.9892 - val_loss: 0.0762 - val_accuracy: 0.9813\n",
      "Epoch 9/50\n",
      "50/50 [==============================] - 3s 51ms/step - loss: 0.0519 - accuracy: 0.9901 - val_loss: 0.0758 - val_accuracy: 0.9814\n",
      "Epoch 10/50\n",
      "50/50 [==============================] - 3s 51ms/step - loss: 0.0517 - accuracy: 0.9895 - val_loss: 0.0760 - val_accuracy: 0.9811\n",
      "Epoch 11/50\n",
      "50/50 [==============================] - 2s 49ms/step - loss: 0.0522 - accuracy: 0.9897 - val_loss: 0.0764 - val_accuracy: 0.9805\n",
      "Epoch 12/50\n",
      "50/50 [==============================] - 3s 56ms/step - loss: 0.0515 - accuracy: 0.9898 - val_loss: 0.0769 - val_accuracy: 0.9811\n",
      "Epoch 13/50\n",
      "50/50 [==============================] - 3s 51ms/step - loss: 0.0502 - accuracy: 0.9902 - val_loss: 0.0757 - val_accuracy: 0.9807\n",
      "Epoch 14/50\n",
      "50/50 [==============================] - 3s 59ms/step - loss: 0.0508 - accuracy: 0.9899 - val_loss: 0.0788 - val_accuracy: 0.9803\n",
      "Epoch 15/50\n",
      "50/50 [==============================] - 3s 56ms/step - loss: 0.0501 - accuracy: 0.9894 - val_loss: 0.0778 - val_accuracy: 0.9796\n",
      "Epoch 16/50\n",
      "50/50 [==============================] - 3s 53ms/step - loss: 0.0499 - accuracy: 0.9902 - val_loss: 0.0804 - val_accuracy: 0.9799\n",
      "Epoch 17/50\n",
      "50/50 [==============================] - 3s 52ms/step - loss: 0.0488 - accuracy: 0.9901 - val_loss: 0.0812 - val_accuracy: 0.9795\n",
      "Epoch 18/50\n",
      "50/50 [==============================] - 2s 48ms/step - loss: 0.0490 - accuracy: 0.9901 - val_loss: 0.0769 - val_accuracy: 0.9794\n",
      "Epoch 19/50\n",
      "50/50 [==============================] - 2s 49ms/step - loss: 0.0494 - accuracy: 0.9894 - val_loss: 0.0790 - val_accuracy: 0.9800\n",
      "Epoch 20/50\n",
      "50/50 [==============================] - 3s 57ms/step - loss: 0.0480 - accuracy: 0.9907 - val_loss: 0.0795 - val_accuracy: 0.9805\n",
      "Epoch 21/50\n",
      "50/50 [==============================] - 4s 71ms/step - loss: 0.0481 - accuracy: 0.9902 - val_loss: 0.0803 - val_accuracy: 0.9806\n",
      "Epoch 22/50\n",
      "50/50 [==============================] - 3s 60ms/step - loss: 0.0482 - accuracy: 0.9902 - val_loss: 0.0830 - val_accuracy: 0.9805\n",
      "Epoch 23/50\n",
      "50/50 [==============================] - 3s 61ms/step - loss: 0.0457 - accuracy: 0.9911 - val_loss: 0.0832 - val_accuracy: 0.9806\n",
      "Epoch 24/50\n",
      "50/50 [==============================] - 3s 54ms/step - loss: 0.0470 - accuracy: 0.9910 - val_loss: 0.0804 - val_accuracy: 0.9803\n",
      "Epoch 25/50\n",
      "50/50 [==============================] - 3s 51ms/step - loss: 0.0472 - accuracy: 0.9905 - val_loss: 0.0788 - val_accuracy: 0.9807\n",
      "Epoch 26/50\n",
      "50/50 [==============================] - 3s 56ms/step - loss: 0.0464 - accuracy: 0.9902 - val_loss: 0.0807 - val_accuracy: 0.9807\n",
      "Epoch 27/50\n",
      "50/50 [==============================] - 3s 59ms/step - loss: 0.0470 - accuracy: 0.9911 - val_loss: 0.0812 - val_accuracy: 0.9811\n",
      "Epoch 28/50\n",
      "50/50 [==============================] - 3s 61ms/step - loss: 0.0462 - accuracy: 0.9909 - val_loss: 0.0790 - val_accuracy: 0.9799\n",
      "Epoch 29/50\n",
      "50/50 [==============================] - 3s 66ms/step - loss: 0.0447 - accuracy: 0.9912 - val_loss: 0.0805 - val_accuracy: 0.9806\n",
      "Epoch 30/50\n",
      "50/50 [==============================] - 3s 59ms/step - loss: 0.0441 - accuracy: 0.9915 - val_loss: 0.0808 - val_accuracy: 0.9810\n",
      "Epoch 31/50\n",
      "50/50 [==============================] - 3s 59ms/step - loss: 0.0445 - accuracy: 0.9914 - val_loss: 0.0826 - val_accuracy: 0.9810\n",
      "Epoch 32/50\n",
      "50/50 [==============================] - 3s 57ms/step - loss: 0.0456 - accuracy: 0.9909 - val_loss: 0.0774 - val_accuracy: 0.9816\n",
      "Epoch 33/50\n",
      "50/50 [==============================] - 3s 56ms/step - loss: 0.0432 - accuracy: 0.9920 - val_loss: 0.0803 - val_accuracy: 0.9808\n",
      "Epoch 34/50\n",
      "50/50 [==============================] - 3s 56ms/step - loss: 0.0419 - accuracy: 0.9915 - val_loss: 0.0834 - val_accuracy: 0.9790\n",
      "Epoch 35/50\n",
      "50/50 [==============================] - 3s 58ms/step - loss: 0.0432 - accuracy: 0.9915 - val_loss: 0.0818 - val_accuracy: 0.9799\n",
      "Epoch 36/50\n",
      "50/50 [==============================] - 3s 54ms/step - loss: 0.0430 - accuracy: 0.9912 - val_loss: 0.0851 - val_accuracy: 0.9798\n",
      "Epoch 37/50\n",
      "50/50 [==============================] - 3s 52ms/step - loss: 0.0419 - accuracy: 0.9916 - val_loss: 0.0816 - val_accuracy: 0.9806\n",
      "Epoch 38/50\n",
      "50/50 [==============================] - 3s 51ms/step - loss: 0.0436 - accuracy: 0.9906 - val_loss: 0.0800 - val_accuracy: 0.9804\n",
      "Epoch 39/50\n",
      "50/50 [==============================] - 3s 51ms/step - loss: 0.0422 - accuracy: 0.9911 - val_loss: 0.0841 - val_accuracy: 0.9810\n",
      "Epoch 40/50\n",
      "50/50 [==============================] - 3s 51ms/step - loss: 0.0416 - accuracy: 0.9920 - val_loss: 0.0822 - val_accuracy: 0.9806\n",
      "Epoch 41/50\n",
      "50/50 [==============================] - ETA: 0s - loss: 0.0416 - accuracy: 0.99 - 3s 52ms/step - loss: 0.0416 - accuracy: 0.9915 - val_loss: 0.0817 - val_accuracy: 0.9805\n",
      "Epoch 42/50\n",
      "50/50 [==============================] - 3s 51ms/step - loss: 0.0414 - accuracy: 0.9923 - val_loss: 0.0817 - val_accuracy: 0.9814\n",
      "Epoch 43/50\n",
      "50/50 [==============================] - 3s 51ms/step - loss: 0.0426 - accuracy: 0.9921 - val_loss: 0.0819 - val_accuracy: 0.9802\n",
      "Epoch 44/50\n",
      "50/50 [==============================] - 3s 51ms/step - loss: 0.0426 - accuracy: 0.9918 - val_loss: 0.0825 - val_accuracy: 0.9813\n",
      "Epoch 45/50\n",
      "50/50 [==============================] - 3s 50ms/step - loss: 0.0426 - accuracy: 0.9913 - val_loss: 0.0822 - val_accuracy: 0.9806\n",
      "Epoch 46/50\n",
      "50/50 [==============================] - 3s 51ms/step - loss: 0.0399 - accuracy: 0.9924 - val_loss: 0.0829 - val_accuracy: 0.9811\n",
      "Epoch 47/50\n",
      "50/50 [==============================] - 3s 51ms/step - loss: 0.0411 - accuracy: 0.9917 - val_loss: 0.0832 - val_accuracy: 0.9801\n",
      "Epoch 48/50\n",
      "50/50 [==============================] - 3s 51ms/step - loss: 0.0426 - accuracy: 0.9915 - val_loss: 0.0826 - val_accuracy: 0.9812\n",
      "Epoch 49/50\n",
      "50/50 [==============================] - 2s 50ms/step - loss: 0.0408 - accuracy: 0.9923 - val_loss: 0.0818 - val_accuracy: 0.9799\n",
      "Epoch 50/50\n",
      "50/50 [==============================] - 2s 50ms/step - loss: 0.0407 - accuracy: 0.9917 - val_loss: 0.0806 - val_accuracy: 0.9810\n"
     ]
    },
    {
     "name": "stderr",
     "output_type": "stream",
     "text": [
      "C:\\Users\\malta\\anaconda3\\lib\\site-packages\\keras\\engine\\functional.py:1410: CustomMaskWarning: Custom mask layers require a config and must override get_config. When loading, the custom mask layer must be passed to the custom_objects argument.\n",
      "  layer_config = serialize_layer_fn(layer)\n"
     ]
    },
    {
     "name": "stdout",
     "output_type": "stream",
     "text": [
      "313/313 - 1s - loss: 0.0026 - accuracy: 0.0313 - 839ms/epoch - 3ms/step\n",
      "Model: \"model_3\"\n",
      "__________________________________________________________________________________________________\n",
      " Layer (type)                   Output Shape         Param #     Connected to                     \n",
      "==================================================================================================\n",
      " input_4 (InputLayer)           [(None, 784)]        0           []                               \n",
      "                                                                                                  \n",
      " model1 (Sequential)            (1000, 10)           95410       ['input_4[0][0]']                \n",
      "                                                                                                  \n",
      " model2 (Sequential)            (1000, 10)           105214      ['input_4[0][0]']                \n",
      "                                                                                                  \n",
      " model3 (Sequential)            (1000, 10)           192134      ['input_4[0][0]']                \n",
      "                                                                                                  \n",
      " model4 (Sequential)            (1000, 10)           216284      ['input_4[0][0]']                \n",
      "                                                                                                  \n",
      " average_3 (Average)            (1000, 10)           0           ['model1[0][0]',                 \n",
      "                                                                  'model2[0][0]',                 \n",
      "                                                                  'model3[0][0]',                 \n",
      "                                                                  'model4[0][0]']                 \n",
      "                                                                                                  \n",
      "==================================================================================================\n",
      "Total params: 609,042\n",
      "Trainable params: 609,042\n",
      "Non-trainable params: 0\n",
      "__________________________________________________________________________________________________\n"
     ]
    }
   ],
   "source": [
    "ensemble_model.compile(optimizer=tf.keras.optimizers.Adam(learning_rate = 0.001),\n",
    "              loss='sparse_categorical_crossentropy',\n",
    "              metrics=['accuracy'])\n",
    "\n",
    "hist_ens = ensemble_model.fit(x_train, y_train, epochs=50, batch_size= 1000, validation_data=(x_valid, y_valid))\n",
    "ensemble_model.save('C:\\\\Users\\\\malta\\\\Desktop\\\\Pós Graduação\\\\Redes neurais\\\\Projeto 1\\\\modelos treinados\\\\hist_ens.h5')\n",
    "ensemble_model.evaluate(x_test,  y_test, verbose=2)\n",
    "\n",
    "ensemble_model.summary()"
   ]
  },
  {
   "cell_type": "code",
   "execution_count": 123,
   "metadata": {
    "scrolled": true
   },
   "outputs": [
    {
     "name": "stdout",
     "output_type": "stream",
     "text": [
      "0.9277999997138977\n",
      "0.9916599988937378\n"
     ]
    }
   ],
   "source": [
    "print(hist.history['accuracy'][-1])\n",
    "print(hist_ens.history['accuracy'][-1])"
   ]
  },
  {
   "cell_type": "code",
   "execution_count": 124,
   "metadata": {},
   "outputs": [
    {
     "data": {
      "text/plain": [
       "<matplotlib.legend.Legend at 0x199dc951b50>"
      ]
     },
     "execution_count": 124,
     "metadata": {},
     "output_type": "execute_result"
    },
    {
     "data": {
      "image/png": "[encoded data removed]",
      "text/plain": [
       "<Figure size 864x360 with 2 Axes>"
      ]
     },
     "metadata": {
      "needs_background": "light"
     },
     "output_type": "display_data"
    }
   ],
   "source": [
    "acc_train_ens = hist_ens.history['accuracy']\n",
    "acc_val_ens = hist_ens.history['val_accuracy']\n",
    "\n",
    "loss_train_ens = hist_ens.history['loss']\n",
    "loss_val_ens = hist_ens.history['val_loss']\n",
    "\n",
    "epochs = range(1,51)\n",
    "\n",
    "fig, ax = plt.subplots(1, 2,figsize=(12, 5))\n",
    "fig.suptitle('Training and Validation accuracy/loss')\n",
    "\n",
    "ax[0].plot(epochs, acc_train_ens, 'g', label='Training accuracy')\n",
    "ax[0].plot(epochs, acc_val_ens, 'b', label='validation accuracy')\n",
    "ax[0].set_title('Precisão')\n",
    "ax[0].legend(loc='best')\n",
    "\n",
    "ax[1].plot(epochs, loss_train_ens, 'g', label='Training accuracy')\n",
    "ax[1].plot(epochs, loss_val_ens, 'b', label='validation accuracy')\n",
    "ax[1].set_title('Perda')\n",
    "ax[1].legend(loc='best')"
   ]
  },
  {
   "cell_type": "markdown",
   "metadata": {},
   "source": [
    "### g) Comparando"
   ]
  },
  {
   "cell_type": "code",
   "execution_count": 155,
   "metadata": {},
   "outputs": [],
   "source": [
    "x_train_f = tf.constant(training_data_np[0:60000, :])"
   ]
  },
  {
   "cell_type": "code",
   "execution_count": 156,
   "metadata": {},
   "outputs": [],
   "source": [
    "x_train_f = x_train_f / 255.0"
   ]
  },
  {
   "cell_type": "code",
   "execution_count": 160,
   "metadata": {},
   "outputs": [
    {
     "name": "stdout",
     "output_type": "stream",
     "text": [
      "Epoch 1/50\n",
      "50/50 [==============================] - 2s 23ms/step - loss: 1.6254 - accuracy: 0.4283 - val_loss: 0.5772 - val_accuracy: 0.8630\n",
      "Epoch 2/50\n",
      "50/50 [==============================] - 1s 20ms/step - loss: 0.7202 - accuracy: 0.7713 - val_loss: 0.2802 - val_accuracy: 0.9205\n",
      "Epoch 3/50\n",
      "50/50 [==============================] - 1s 20ms/step - loss: 0.4829 - accuracy: 0.8619 - val_loss: 0.2186 - val_accuracy: 0.9376\n",
      "Epoch 4/50\n",
      "50/50 [==============================] - 1s 20ms/step - loss: 0.3911 - accuracy: 0.8918 - val_loss: 0.1908 - val_accuracy: 0.9475\n",
      "Epoch 5/50\n",
      "50/50 [==============================] - 1s 20ms/step - loss: 0.3388 - accuracy: 0.9074 - val_loss: 0.1650 - val_accuracy: 0.9550\n",
      "Epoch 6/50\n",
      "50/50 [==============================] - 1s 21ms/step - loss: 0.3009 - accuracy: 0.9181 - val_loss: 0.1463 - val_accuracy: 0.9598\n",
      "Epoch 7/50\n",
      "50/50 [==============================] - 1s 21ms/step - loss: 0.2724 - accuracy: 0.9272 - val_loss: 0.1368 - val_accuracy: 0.9628\n",
      "Epoch 8/50\n",
      "50/50 [==============================] - 1s 20ms/step - loss: 0.2571 - accuracy: 0.9308 - val_loss: 0.1294 - val_accuracy: 0.9631\n",
      "Epoch 9/50\n",
      "50/50 [==============================] - 1s 20ms/step - loss: 0.2424 - accuracy: 0.9356 - val_loss: 0.1206 - val_accuracy: 0.9674\n",
      "Epoch 10/50\n",
      "50/50 [==============================] - 1s 20ms/step - loss: 0.2233 - accuracy: 0.9391 - val_loss: 0.1190 - val_accuracy: 0.9691\n",
      "Epoch 11/50\n",
      "50/50 [==============================] - 1s 20ms/step - loss: 0.2128 - accuracy: 0.9441 - val_loss: 0.1129 - val_accuracy: 0.9706\n",
      "Epoch 12/50\n",
      "50/50 [==============================] - 1s 20ms/step - loss: 0.2005 - accuracy: 0.9462 - val_loss: 0.1132 - val_accuracy: 0.9713\n",
      "Epoch 13/50\n",
      "50/50 [==============================] - 1s 20ms/step - loss: 0.1917 - accuracy: 0.9479 - val_loss: 0.1045 - val_accuracy: 0.9723\n",
      "Epoch 14/50\n",
      "50/50 [==============================] - 1s 20ms/step - loss: 0.1800 - accuracy: 0.9526 - val_loss: 0.1061 - val_accuracy: 0.9727\n",
      "Epoch 15/50\n",
      "50/50 [==============================] - 1s 20ms/step - loss: 0.1731 - accuracy: 0.9538 - val_loss: 0.1025 - val_accuracy: 0.9722\n",
      "Epoch 16/50\n",
      "50/50 [==============================] - 1s 20ms/step - loss: 0.1697 - accuracy: 0.9544 - val_loss: 0.0996 - val_accuracy: 0.9737\n",
      "Epoch 17/50\n",
      "50/50 [==============================] - 1s 20ms/step - loss: 0.1593 - accuracy: 0.9579 - val_loss: 0.0972 - val_accuracy: 0.9753\n",
      "Epoch 18/50\n",
      "50/50 [==============================] - 1s 20ms/step - loss: 0.1557 - accuracy: 0.9590 - val_loss: 0.0978 - val_accuracy: 0.9750\n",
      "Epoch 19/50\n",
      "50/50 [==============================] - 1s 20ms/step - loss: 0.1471 - accuracy: 0.9612 - val_loss: 0.0953 - val_accuracy: 0.9744\n",
      "Epoch 20/50\n",
      "50/50 [==============================] - 1s 20ms/step - loss: 0.1448 - accuracy: 0.9613 - val_loss: 0.0951 - val_accuracy: 0.9755\n",
      "Epoch 21/50\n",
      "50/50 [==============================] - 1s 20ms/step - loss: 0.1383 - accuracy: 0.9624 - val_loss: 0.0920 - val_accuracy: 0.9762\n",
      "Epoch 22/50\n",
      "50/50 [==============================] - 1s 20ms/step - loss: 0.1360 - accuracy: 0.9632 - val_loss: 0.0930 - val_accuracy: 0.9759\n",
      "Epoch 23/50\n",
      "50/50 [==============================] - 1s 20ms/step - loss: 0.1284 - accuracy: 0.9642 - val_loss: 0.0922 - val_accuracy: 0.9756\n",
      "Epoch 24/50\n",
      "50/50 [==============================] - 1s 20ms/step - loss: 0.1320 - accuracy: 0.9643 - val_loss: 0.0938 - val_accuracy: 0.9755\n",
      "Epoch 25/50\n",
      "50/50 [==============================] - 1s 20ms/step - loss: 0.1263 - accuracy: 0.9660 - val_loss: 0.0908 - val_accuracy: 0.9756\n",
      "Epoch 26/50\n",
      "50/50 [==============================] - 1s 20ms/step - loss: 0.1216 - accuracy: 0.9665 - val_loss: 0.0884 - val_accuracy: 0.9780\n",
      "Epoch 27/50\n",
      "50/50 [==============================] - 1s 20ms/step - loss: 0.1188 - accuracy: 0.9671 - val_loss: 0.0863 - val_accuracy: 0.9786\n",
      "Epoch 28/50\n",
      "50/50 [==============================] - 1s 20ms/step - loss: 0.1154 - accuracy: 0.9688 - val_loss: 0.0878 - val_accuracy: 0.9781\n",
      "Epoch 29/50\n",
      "50/50 [==============================] - 1s 20ms/step - loss: 0.1131 - accuracy: 0.9693 - val_loss: 0.0852 - val_accuracy: 0.9781\n",
      "Epoch 30/50\n",
      "50/50 [==============================] - 1s 20ms/step - loss: 0.1139 - accuracy: 0.9682 - val_loss: 0.0871 - val_accuracy: 0.9773\n",
      "Epoch 31/50\n",
      "50/50 [==============================] - 1s 21ms/step - loss: 0.1088 - accuracy: 0.9699 - val_loss: 0.0870 - val_accuracy: 0.9776\n",
      "Epoch 32/50\n",
      "50/50 [==============================] - 1s 25ms/step - loss: 0.1083 - accuracy: 0.9699 - val_loss: 0.0894 - val_accuracy: 0.9776\n",
      "Epoch 33/50\n",
      "50/50 [==============================] - 1s 23ms/step - loss: 0.1053 - accuracy: 0.9705 - val_loss: 0.0852 - val_accuracy: 0.9778\n",
      "Epoch 34/50\n",
      "50/50 [==============================] - 1s 22ms/step - loss: 0.1047 - accuracy: 0.9707 - val_loss: 0.0865 - val_accuracy: 0.9786\n",
      "Epoch 35/50\n",
      "50/50 [==============================] - 1s 22ms/step - loss: 0.1006 - accuracy: 0.9722 - val_loss: 0.0884 - val_accuracy: 0.9781\n",
      "Epoch 36/50\n",
      "50/50 [==============================] - 1s 22ms/step - loss: 0.0990 - accuracy: 0.9721 - val_loss: 0.0861 - val_accuracy: 0.9779\n",
      "Epoch 37/50\n",
      "50/50 [==============================] - 1s 22ms/step - loss: 0.0952 - accuracy: 0.9735 - val_loss: 0.0845 - val_accuracy: 0.9787\n",
      "Epoch 38/50\n",
      "50/50 [==============================] - 1s 21ms/step - loss: 0.0918 - accuracy: 0.9747 - val_loss: 0.0866 - val_accuracy: 0.9782\n",
      "Epoch 39/50\n",
      "50/50 [==============================] - 1s 22ms/step - loss: 0.0906 - accuracy: 0.9743 - val_loss: 0.0870 - val_accuracy: 0.9780\n",
      "Epoch 40/50\n",
      "50/50 [==============================] - 1s 20ms/step - loss: 0.0912 - accuracy: 0.9754 - val_loss: 0.0847 - val_accuracy: 0.9783\n",
      "Epoch 41/50\n",
      "50/50 [==============================] - 1s 19ms/step - loss: 0.0909 - accuracy: 0.9752 - val_loss: 0.0871 - val_accuracy: 0.9781\n",
      "Epoch 42/50\n",
      "50/50 [==============================] - 1s 20ms/step - loss: 0.0889 - accuracy: 0.9744 - val_loss: 0.0824 - val_accuracy: 0.9792\n",
      "Epoch 43/50\n",
      "50/50 [==============================] - 1s 24ms/step - loss: 0.0869 - accuracy: 0.9763 - val_loss: 0.0891 - val_accuracy: 0.9785\n",
      "Epoch 44/50\n",
      "50/50 [==============================] - 1s 21ms/step - loss: 0.0880 - accuracy: 0.9752 - val_loss: 0.0848 - val_accuracy: 0.9792\n",
      "Epoch 45/50\n",
      "50/50 [==============================] - 1s 20ms/step - loss: 0.0866 - accuracy: 0.9763 - val_loss: 0.0849 - val_accuracy: 0.9788\n",
      "Epoch 46/50\n",
      "50/50 [==============================] - 1s 20ms/step - loss: 0.0807 - accuracy: 0.9770 - val_loss: 0.0855 - val_accuracy: 0.9799\n",
      "Epoch 47/50\n",
      "50/50 [==============================] - 1s 20ms/step - loss: 0.0790 - accuracy: 0.9775 - val_loss: 0.0889 - val_accuracy: 0.9795\n",
      "Epoch 48/50\n",
      "50/50 [==============================] - 1s 20ms/step - loss: 0.0829 - accuracy: 0.9764 - val_loss: 0.0848 - val_accuracy: 0.9795\n",
      "Epoch 49/50\n",
      "50/50 [==============================] - 1s 20ms/step - loss: 0.0821 - accuracy: 0.9771 - val_loss: 0.0927 - val_accuracy: 0.9782\n",
      "Epoch 50/50\n",
      "50/50 [==============================] - 1s 20ms/step - loss: 0.0816 - accuracy: 0.9762 - val_loss: 0.0840 - val_accuracy: 0.9799\n"
     ]
    }
   ],
   "source": [
    "# 3 camadas\n",
    "model_f = tf.keras.models.Sequential()\n",
    "\n",
    "model_f.add(tf.keras.layers.Flatten())\n",
    "model_f.add(tf.keras.layers.Dense(200, activation='relu') )\n",
    "model_f.add(tf.keras.layers.Dropout(0.5))\n",
    "model_f.add(tf.keras.layers.Dense(120, activation='relu') )\n",
    "model_f.add(tf.keras.layers.Dropout(0.5))\n",
    "model_f.add(tf.keras.layers.Dense(84, activation='relu') )\n",
    "model_f.add(tf.keras.layers.Dropout(0.5))\n",
    "model_f.add(tf.keras.layers.Dense(10, activation='softmax') )\n",
    "\n",
    "model_f.compile(optimizer=tf.keras.optimizers.Adam(learning_rate = 0.001),\n",
    "              loss='sparse_categorical_crossentropy',\n",
    "              metrics=['accuracy'])\n",
    "\n",
    "hist_f = model_f.fit(x_train, y_train, epochs=50, batch_size= 1000,validation_data=(x_valid, y_valid))\n",
    "model_f.save('C:\\\\Users\\\\malta\\\\Desktop\\\\Pós Graduação\\\\Redes neurais\\\\Projeto 1\\\\modelos treinados\\\\hist_f.h5')\n"
   ]
  },
  {
   "cell_type": "code",
   "execution_count": 180,
   "metadata": {},
   "outputs": [
    {
     "name": "stdout",
     "output_type": "stream",
     "text": [
      "313/313 - 1s - loss: 0.0906 - accuracy: 0.9783 - 574ms/epoch - 2ms/step\n"
     ]
    },
    {
     "data": {
      "text/plain": [
       "[0.09058233350515366, 0.9782999753952026]"
      ]
     },
     "execution_count": 180,
     "metadata": {},
     "output_type": "execute_result"
    }
   ],
   "source": [
    "model_f.evaluate(x_test,  y_test, verbose=2)\n",
    "#model_f.summary()"
   ]
  },
  {
   "cell_type": "code",
   "execution_count": 181,
   "metadata": {},
   "outputs": [
    {
     "name": "stdout",
     "output_type": "stream",
     "text": [
      "313/313 - 0s - loss: 0.2680 - accuracy: 0.9250 - 451ms/epoch - 1ms/step\n"
     ]
    },
    {
     "data": {
      "text/plain": [
       "[0.26797187328338623, 0.925000011920929]"
      ]
     },
     "execution_count": 181,
     "metadata": {},
     "output_type": "execute_result"
    }
   ],
   "source": [
    "model1.evaluate(x_test,  y_test, verbose=2)"
   ]
  },
  {
   "cell_type": "markdown",
   "metadata": {},
   "source": [
    "## Referências"
   ]
  },
  {
   "cell_type": "markdown",
   "metadata": {},
   "source": [
    "https://stats.stackexchange.com/questions/469799/why-is-logistic-regression-particularly-prone-to-overfitting-in-high-dimensions\n",
    "\n",
    "https://www.quora.com/What-is-the-difference-between-neural-network-and-logistic-regression\n",
    "\n",
    "https://www.tmwr.org/tuning.html"
   ]
  }
 ],
 "metadata": {
  "hide_input": false,
  "kernelspec": {
   "display_name": "Python 3 (ipykernel)",
   "language": "python",
   "name": "python3"
  },
  "language_info": {
   "codemirror_mode": {
    "name": "ipython",
    "version": 3
   },
   "file_extension": ".py",
   "mimetype": "text/x-python",
   "name": "python",
   "nbconvert_exporter": "python",
   "pygments_lexer": "ipython3",
   "version": "3.8.12"
  },
  "toc": {
   "base_numbering": 1,
   "nav_menu": {},
   "number_sections": true,
   "sideBar": true,
   "skip_h1_title": false,
   "title_cell": "Table of Contents",
   "title_sidebar": "Contents",
   "toc_cell": false,
   "toc_position": {
    "height": "calc(100% - 180px)",
    "left": "10px",
    "top": "150px",
    "width": "273.188px"
   },
   "toc_section_display": true,
   "toc_window_display": true
  },
  "varInspector": {
   "cols": {
    "lenName": 16,
    "lenType": 16,
    "lenVar": 40
   },
   "kernels_config": {
    "python": {
     "delete_cmd_postfix": "",
     "delete_cmd_prefix": "del ",
     "library": "var_list.py",
     "varRefreshCmd": "print(var_dic_list())"
    },
    "r": {
     "delete_cmd_postfix": ") ",
     "delete_cmd_prefix": "rm(",
     "library": "var_list.r",
     "varRefreshCmd": "cat(var_dic_list()) "
    }
   },
   "types_to_exclude": [
    "module",
    "function",
    "builtin_function_or_method",
    "instance",
    "_Feature"
   ],
   "window_display": false
  }
 },
 "nbformat": 4,
 "nbformat_minor": 4
}
