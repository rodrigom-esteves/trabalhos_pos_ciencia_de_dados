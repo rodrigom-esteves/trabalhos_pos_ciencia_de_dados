{
 "cells": [
  {
   "cell_type": "code",
   "execution_count": 1,
   "id": "bbe4da86",
   "metadata": {},
   "outputs": [],
   "source": [
    "import numpy as np\n",
    "import matplotlib.pyplot as plt\n",
    "import os\n",
    "import cv2\n",
    "from PIL import Image\n",
    "import glob\n",
    "import pandas as pd \n",
    "\n",
    "import warnings\n",
    "warnings.filterwarnings('ignore')\n",
    "\n",
    "import tensorflow as tf\n",
    "from tensorflow import keras\n",
    "from tensorflow.keras import layers\n",
    "from tensorflow.keras.preprocessing.image import ImageDataGenerator\n",
    "\n",
    "from tensorflow.keras import layers\n",
    "\n",
    "from sklearn.metrics import classification_report, accuracy_score, confusion_matrix"
   ]
  },
  {
   "cell_type": "code",
   "execution_count": 2,
   "id": "8ded6f1a",
   "metadata": {},
   "outputs": [],
   "source": [
    "data_augmentation = keras.Sequential(\n",
    "    [layers.RandomFlip(\"horizontal\"), layers.RandomRotation(0.1),]\n",
    ")"
   ]
  },
  {
   "cell_type": "code",
   "execution_count": 3,
   "id": "3c0f7c97",
   "metadata": {},
   "outputs": [],
   "source": [
    "size = 150\n",
    "batch_size = 32\n",
    "img_height = size\n",
    "img_width = size"
   ]
  },
  {
   "cell_type": "code",
   "execution_count": 20,
   "id": "477e2a1a",
   "metadata": {},
   "outputs": [
    {
     "name": "stdout",
     "output_type": "stream",
     "text": [
      "Found 674 files belonging to 2 classes.\n",
      "Using 540 files for training.\n"
     ]
    }
   ],
   "source": [
    "ds_train = tf.keras.preprocessing.image_dataset_from_directory(\n",
    "    \"img/\",\n",
    "    labels=\"inferred\",\n",
    "    label_mode=\"int\",  # categorical, binary\n",
    "    class_names=['resized burro', 'resized capivara'],\n",
    "    color_mode=\"rgb\",\n",
    "    batch_size=batch_size,\n",
    "    image_size=(img_height, img_width),  # reshape if not in this size\n",
    "    shuffle=True,\n",
    "    seed=123,\n",
    "    validation_split=0.2,\n",
    "    subset=\"training\",\n",
    ")"
   ]
  },
  {
   "cell_type": "code",
   "execution_count": 21,
   "id": "13e51044",
   "metadata": {},
   "outputs": [
    {
     "name": "stdout",
     "output_type": "stream",
     "text": [
      "Found 674 files belonging to 2 classes.\n",
      "Using 134 files for validation.\n"
     ]
    }
   ],
   "source": [
    "ds_validation = tf.keras.preprocessing.image_dataset_from_directory(\n",
    "    \"img/\",\n",
    "    labels=\"inferred\",\n",
    "    label_mode=\"int\",  # categorical, binary\n",
    "    class_names=['resized burro', 'resized capivara'],\n",
    "    color_mode=\"rgb\",\n",
    "    batch_size=batch_size,\n",
    "    image_size=(img_height, img_width),  # reshape if not in this size\n",
    "    shuffle=True,\n",
    "    seed=123,\n",
    "    validation_split=0.2,\n",
    "    subset=\"validation\",\n",
    ")"
   ]
  },
  {
   "cell_type": "code",
   "execution_count": 38,
   "id": "e1808b38",
   "metadata": {},
   "outputs": [
    {
     "name": "stdout",
     "output_type": "stream",
     "text": [
      "Number of training samples: 17\n",
      "Number of validation samples: 5\n"
     ]
    }
   ],
   "source": [
    "print(\"Number of training samples: %d\" % tf.data.experimental.cardinality(ds_train))\n",
    "print(\"Number of validation samples: %d\" % tf.data.experimental.cardinality(ds_validation))"
   ]
  },
  {
   "cell_type": "code",
   "execution_count": 39,
   "id": "a87bd07f",
   "metadata": {},
   "outputs": [
    {
     "name": "stdout",
     "output_type": "stream",
     "text": [
      "tf.Tensor([0 0 1 0 1 0 0 1 1 1 1 0 1 1 0 1 0 1 1 0 0 1 1 0 0 1 1 1 1 1 0 1], shape=(32,), dtype=int32)\n",
      "tf.Tensor([0 1 1 0 0 0 1 0 1 0 0 0 0 0 0 1 0 0 0 0 1 1 0 1 1 1 0 1 0 1 1 0], shape=(32,), dtype=int32)\n",
      "tf.Tensor([0 0 0 1 0 1 0 1 1 1 1 0 0 1 1 0 1 1 0 1 1 0 1 0 0 1 0 1 0 0 0 1], shape=(32,), dtype=int32)\n",
      "tf.Tensor([0 0 0 1 0 0 0 1 0 1 1 1 0 1 0 0 1 0 1 1 1 1 0 0 1 0 1 0 1 1 1 0], shape=(32,), dtype=int32)\n",
      "tf.Tensor([1 0 1 1 1 1], shape=(6,), dtype=int32)\n"
     ]
    }
   ],
   "source": [
    "for images, labels in ds_validation:\n",
    "    print(labels)\n",
    "    \n",
    "validation_ds = ds_validation.unbatch()\n",
    "images = list(validation_ds.map(lambda x, y: x))\n",
    "labels = list(validation_ds.map(lambda x, y: y))"
   ]
  },
  {
   "cell_type": "code",
   "execution_count": 23,
   "id": "203e07f5",
   "metadata": {},
   "outputs": [
    {
     "name": "stdout",
     "output_type": "stream",
     "text": [
      "Model: \"model_2\"\n",
      "_________________________________________________________________\n",
      " Layer (type)                Output Shape              Param #   \n",
      "=================================================================\n",
      " input_6 (InputLayer)        [(None, 150, 150, 3)]     0         \n",
      "                                                                 \n",
      " sequential (Sequential)     (None, 150, 150, 3)       0         \n",
      "                                                                 \n",
      " rescaling_2 (Rescaling)     (None, 150, 150, 3)       0         \n",
      "                                                                 \n",
      " xception (Functional)       (None, 5, 5, 2048)        20861480  \n",
      "                                                                 \n",
      " global_average_pooling2d_2   (None, 2048)             0         \n",
      " (GlobalAveragePooling2D)                                        \n",
      "                                                                 \n",
      " dropout_2 (Dropout)         (None, 2048)              0         \n",
      "                                                                 \n",
      " dense_2 (Dense)             (None, 1)                 2049      \n",
      "                                                                 \n",
      "=================================================================\n",
      "Total params: 20,863,529\n",
      "Trainable params: 2,049\n",
      "Non-trainable params: 20,861,480\n",
      "_________________________________________________________________\n"
     ]
    }
   ],
   "source": [
    "base_model = keras.applications.Xception(\n",
    "    weights=\"imagenet\",  # Load weights pre-trained on ImageNet.\n",
    "    input_shape=(150, 150, 3),\n",
    "    include_top=False,\n",
    ")  # Do not include the ImageNet classifier at the top.\n",
    "\n",
    "# Freeze the base_model\n",
    "base_model.trainable = False\n",
    "\n",
    "# Create new model on top\n",
    "inputs = keras.Input(shape=(150, 150, 3))\n",
    "x = data_augmentation(inputs)  # Apply random data augmentation\n",
    "\n",
    "# Pre-trained Xception weights requires that input be scaled\n",
    "# from (0, 255) to a range of (-1., +1.), the rescaling layer\n",
    "# outputs: `(inputs * scale) + offset`\n",
    "scale_layer = keras.layers.Rescaling(scale=1 / 127.5, offset=-1)\n",
    "x = scale_layer(x)\n",
    "\n",
    "# The base model contains batchnorm layers. We want to keep them in inference mode\n",
    "# when we unfreeze the base model for fine-tuning, so we make sure that the\n",
    "# base_model is running in inference mode here.\n",
    "x = base_model(x, training=False)\n",
    "x = keras.layers.GlobalAveragePooling2D()(x)\n",
    "x = keras.layers.Dropout(0.2)(x)  # Regularize with dropout\n",
    "outputs = keras.layers.Dense(1)(x)\n",
    "model = keras.Model(inputs, outputs)\n",
    "\n",
    "model.summary()"
   ]
  },
  {
   "cell_type": "code",
   "execution_count": 24,
   "id": "3d89042c",
   "metadata": {
    "scrolled": true
   },
   "outputs": [
    {
     "name": "stdout",
     "output_type": "stream",
     "text": [
      "Epoch 1/20\n",
      "17/17 [==============================] - 36s 2s/step - loss: 0.3870 - binary_accuracy: 0.8241 - val_loss: 0.2028 - val_binary_accuracy: 0.9328\n",
      "Epoch 2/20\n",
      "17/17 [==============================] - 35s 2s/step - loss: 0.1791 - binary_accuracy: 0.9259 - val_loss: 0.1459 - val_binary_accuracy: 0.9478\n",
      "Epoch 3/20\n",
      "17/17 [==============================] - 36s 2s/step - loss: 0.1455 - binary_accuracy: 0.9481 - val_loss: 0.1274 - val_binary_accuracy: 0.9328\n",
      "Epoch 4/20\n",
      "17/17 [==============================] - 36s 2s/step - loss: 0.1174 - binary_accuracy: 0.9519 - val_loss: 0.1140 - val_binary_accuracy: 0.9403\n",
      "Epoch 5/20\n",
      "17/17 [==============================] - 35s 2s/step - loss: 0.1104 - binary_accuracy: 0.9500 - val_loss: 0.1078 - val_binary_accuracy: 0.9403\n",
      "Epoch 6/20\n",
      "17/17 [==============================] - 35s 2s/step - loss: 0.1014 - binary_accuracy: 0.9611 - val_loss: 0.1078 - val_binary_accuracy: 0.9403\n",
      "Epoch 7/20\n",
      "17/17 [==============================] - 35s 2s/step - loss: 0.0903 - binary_accuracy: 0.9685 - val_loss: 0.1051 - val_binary_accuracy: 0.9403\n",
      "Epoch 8/20\n",
      "17/17 [==============================] - 35s 2s/step - loss: 0.0917 - binary_accuracy: 0.9648 - val_loss: 0.1079 - val_binary_accuracy: 0.9403\n",
      "Epoch 9/20\n",
      "17/17 [==============================] - 38s 2s/step - loss: 0.0680 - binary_accuracy: 0.9796 - val_loss: 0.1052 - val_binary_accuracy: 0.9403\n",
      "Epoch 10/20\n",
      "17/17 [==============================] - 35s 2s/step - loss: 0.0730 - binary_accuracy: 0.9722 - val_loss: 0.1099 - val_binary_accuracy: 0.9403\n",
      "Epoch 11/20\n",
      "17/17 [==============================] - 35s 2s/step - loss: 0.0726 - binary_accuracy: 0.9796 - val_loss: 0.1060 - val_binary_accuracy: 0.9478\n",
      "Epoch 12/20\n",
      "17/17 [==============================] - 36s 2s/step - loss: 0.0762 - binary_accuracy: 0.9704 - val_loss: 0.1060 - val_binary_accuracy: 0.9403\n",
      "Epoch 13/20\n",
      "17/17 [==============================] - 36s 2s/step - loss: 0.0685 - binary_accuracy: 0.9741 - val_loss: 0.1089 - val_binary_accuracy: 0.9328\n",
      "Epoch 14/20\n",
      "17/17 [==============================] - 35s 2s/step - loss: 0.0548 - binary_accuracy: 0.9796 - val_loss: 0.1083 - val_binary_accuracy: 0.9478\n",
      "Epoch 15/20\n",
      "17/17 [==============================] - 37s 2s/step - loss: 0.0488 - binary_accuracy: 0.9870 - val_loss: 0.1095 - val_binary_accuracy: 0.9403\n",
      "Epoch 16/20\n",
      "17/17 [==============================] - 36s 2s/step - loss: 0.0521 - binary_accuracy: 0.9815 - val_loss: 0.1066 - val_binary_accuracy: 0.9552\n",
      "Epoch 17/20\n",
      "17/17 [==============================] - 36s 2s/step - loss: 0.0639 - binary_accuracy: 0.9759 - val_loss: 0.1063 - val_binary_accuracy: 0.9478\n",
      "Epoch 18/20\n",
      "17/17 [==============================] - 36s 2s/step - loss: 0.0503 - binary_accuracy: 0.9870 - val_loss: 0.1063 - val_binary_accuracy: 0.9478\n",
      "Epoch 19/20\n",
      "17/17 [==============================] - 38s 2s/step - loss: 0.0403 - binary_accuracy: 0.9852 - val_loss: 0.1087 - val_binary_accuracy: 0.9478\n",
      "Epoch 20/20\n",
      "17/17 [==============================] - 35s 2s/step - loss: 0.0457 - binary_accuracy: 0.9870 - val_loss: 0.1097 - val_binary_accuracy: 0.9478\n"
     ]
    }
   ],
   "source": [
    "model.compile(\n",
    "    optimizer=keras.optimizers.Adam(),\n",
    "    loss=keras.losses.BinaryCrossentropy(from_logits=True),\n",
    "    metrics=[keras.metrics.BinaryAccuracy()],\n",
    ")\n",
    "\n",
    "epochs = 20\n",
    "history = model.fit(ds_train, epochs=epochs, validation_data=ds_validation)"
   ]
  },
  {
   "cell_type": "code",
   "execution_count": 14,
   "id": "6842d8a8",
   "metadata": {},
   "outputs": [
    {
     "name": "stdout",
     "output_type": "stream",
     "text": [
      "Saved model to disk\n"
     ]
    }
   ],
   "source": [
    "model.save(\"C:/Users/malta/Desktop/Pós Graduação/Trabalho_final_Pos/Reunião 3/model_balanced.h5\")\n",
    "print(\"Saved model to disk\")"
   ]
  },
  {
   "cell_type": "code",
   "execution_count": 26,
   "id": "0fa99796",
   "metadata": {},
   "outputs": [],
   "source": [
    "model_2 = tf.keras.models.load_model('C:/Users/malta/Desktop/Pós Graduação/Trabalho_final_Pos/Reunião 3/model_balanced.h5')"
   ]
  },
  {
   "cell_type": "code",
   "execution_count": 15,
   "id": "1c263f8a",
   "metadata": {},
   "outputs": [],
   "source": [
    "def plotLearningCurves(history):\n",
    "    fig, ax = plt.subplots(1,2, figsize = (14,6))\n",
    "    ax[0].plot(history.epoch, history.history['loss'], color='b', label=\"Training loss\")\n",
    "    ax[0].plot(history.epoch, history.history['val_loss'], color='r', label=\"validation loss\",axes =ax[0])\n",
    "    ax[0].legend(loc='best', shadow=True)\n",
    "    ax[0].set_title('loss vs epoch')\n",
    "\n",
    "    ax[1].plot(history.epoch, history.history['binary_accuracy'], color='b', label=\"Training accuracy\")\n",
    "    ax[1].plot(history.epoch, history.history['val_binary_accuracy'], color='r',label=\"Validation accuracy\")\n",
    "    ax[1].legend(loc='best', shadow=True)\n",
    "    ax[1].set_title('accuracy vs epoch')"
   ]
  },
  {
   "cell_type": "code",
   "execution_count": 25,
   "id": "48d2b409",
   "metadata": {
    "scrolled": true
   },
   "outputs": [
    {
     "data": {
      "image/png": "[encoded data removed]",
      "text/plain": [
       "<Figure size 1008x432 with 2 Axes>"
      ]
     },
     "metadata": {
      "needs_background": "light"
     },
     "output_type": "display_data"
    }
   ],
   "source": [
    "plotLearningCurves(history) "
   ]
  },
  {
   "cell_type": "code",
   "execution_count": 45,
   "id": "9ea2aa7b",
   "metadata": {},
   "outputs": [
    {
     "name": "stdout",
     "output_type": "stream",
     "text": [
      "Model: \"model_2\"\n",
      "_________________________________________________________________\n",
      " Layer (type)                Output Shape              Param #   \n",
      "=================================================================\n",
      " input_6 (InputLayer)        [(None, 150, 150, 3)]     0         \n",
      "                                                                 \n",
      " sequential (Sequential)     (None, 150, 150, 3)       0         \n",
      "                                                                 \n",
      " rescaling_2 (Rescaling)     (None, 150, 150, 3)       0         \n",
      "                                                                 \n",
      " xception (Functional)       (None, 5, 5, 2048)        20861480  \n",
      "                                                                 \n",
      " global_average_pooling2d_2   (None, 2048)             0         \n",
      " (GlobalAveragePooling2D)                                        \n",
      "                                                                 \n",
      " dropout_2 (Dropout)         (None, 2048)              0         \n",
      "                                                                 \n",
      " dense_2 (Dense)             (None, 1)                 2049      \n",
      "                                                                 \n",
      "=================================================================\n",
      "Total params: 20,863,529\n",
      "Trainable params: 20,809,001\n",
      "Non-trainable params: 54,528\n",
      "_________________________________________________________________\n",
      "Epoch 1/10\n",
      "17/17 [==============================] - 140s 8s/step - loss: 0.0421 - binary_accuracy: 0.9852 - val_loss: 0.1260 - val_binary_accuracy: 0.9403\n",
      "Epoch 2/10\n",
      "17/17 [==============================] - 126s 7s/step - loss: 0.0341 - binary_accuracy: 0.9889 - val_loss: 0.1230 - val_binary_accuracy: 0.9478\n",
      "Epoch 3/10\n",
      "17/17 [==============================] - 125s 7s/step - loss: 0.0241 - binary_accuracy: 0.9889 - val_loss: 0.1204 - val_binary_accuracy: 0.9403\n",
      "Epoch 4/10\n",
      "17/17 [==============================] - 107s 6s/step - loss: 0.0168 - binary_accuracy: 0.9944 - val_loss: 0.1124 - val_binary_accuracy: 0.9552\n",
      "Epoch 5/10\n",
      "17/17 [==============================] - 108s 6s/step - loss: 0.0112 - binary_accuracy: 1.0000 - val_loss: 0.1206 - val_binary_accuracy: 0.9478\n",
      "Epoch 6/10\n",
      "17/17 [==============================] - 107s 6s/step - loss: 0.0109 - binary_accuracy: 0.9944 - val_loss: 0.1251 - val_binary_accuracy: 0.9627\n",
      "Epoch 7/10\n",
      "17/17 [==============================] - 107s 6s/step - loss: 0.0078 - binary_accuracy: 1.0000 - val_loss: 0.1337 - val_binary_accuracy: 0.9627\n",
      "Epoch 8/10\n",
      "17/17 [==============================] - 108s 6s/step - loss: 0.0078 - binary_accuracy: 0.9944 - val_loss: 0.1375 - val_binary_accuracy: 0.9478\n",
      "Epoch 9/10\n",
      "17/17 [==============================] - 108s 6s/step - loss: 0.0052 - binary_accuracy: 0.9981 - val_loss: 0.1248 - val_binary_accuracy: 0.9552\n",
      "Epoch 10/10\n",
      "17/17 [==============================] - 108s 6s/step - loss: 0.0058 - binary_accuracy: 0.9963 - val_loss: 0.1311 - val_binary_accuracy: 0.9552\n"
     ]
    }
   ],
   "source": [
    "# Unfreeze the base_model. Note that it keeps running in inference mode\n",
    "# since we passed `training=False` when calling it. This means that\n",
    "# the batchnorm layers will not update their batch statistics.\n",
    "# This prevents the batchnorm layers from undoing all the training\n",
    "# we've done so far.\n",
    "base_model.trainable = True\n",
    "model.summary()\n",
    "\n",
    "model.compile(\n",
    "    optimizer=keras.optimizers.Adam(1e-5),  # Low learning rate\n",
    "    loss=keras.losses.BinaryCrossentropy(from_logits=True),\n",
    "    metrics=[keras.metrics.BinaryAccuracy()],\n",
    ")\n",
    "\n",
    "epochs = 10\n",
    "history_fine = model.fit(ds_train, epochs=epochs, validation_data=ds_validation)"
   ]
  },
  {
   "cell_type": "code",
   "execution_count": 53,
   "id": "448f1657",
   "metadata": {},
   "outputs": [
    {
     "data": {
      "image/png": "[encoded data removed]",
      "text/plain": [
       "<Figure size 1008x432 with 2 Axes>"
      ]
     },
     "metadata": {
      "needs_background": "light"
     },
     "output_type": "display_data"
    }
   ],
   "source": [
    "plotLearningCurves(history_fine) "
   ]
  },
  {
   "cell_type": "code",
   "execution_count": 47,
   "id": "19bfe6c3",
   "metadata": {},
   "outputs": [
    {
     "name": "stdout",
     "output_type": "stream",
     "text": [
      "5/5 [==============================] - 6s 1s/step - loss: 0.1311 - binary_accuracy: 0.9552\n",
      "Accuracy 0.9552238583564758\n",
      "Loss 0.13113608956336975\n"
     ]
    }
   ],
   "source": [
    "loss, accuracy = model.evaluate(ds_validation)\n",
    "print(\"Accuracy\", accuracy)\n",
    "print(\"Loss\", loss)"
   ]
  },
  {
   "cell_type": "code",
   "execution_count": 48,
   "id": "751bdccc",
   "metadata": {},
   "outputs": [
    {
     "name": "stdout",
     "output_type": "stream",
     "text": [
      "17/17 [==============================] - 25s 1s/step - loss: 0.0012 - binary_accuracy: 1.0000\n",
      "Accuracy 1.0\n",
      "Loss 0.001214441959746182\n"
     ]
    }
   ],
   "source": [
    "loss, accuracy = model.evaluate(ds_train)\n",
    "print(\"Accuracy\", accuracy)\n",
    "print(\"Loss\", loss)"
   ]
  },
  {
   "cell_type": "code",
   "execution_count": 49,
   "id": "8b140d98",
   "metadata": {},
   "outputs": [
    {
     "data": {
      "text/plain": [
       "numpy.ndarray"
      ]
     },
     "execution_count": 49,
     "metadata": {},
     "output_type": "execute_result"
    }
   ],
   "source": [
    "y_valid = []\n",
    "for i in range (0,len(labels)):\n",
    "    y_valid.append(labels[i].numpy())\n",
    "y_valid = np.array(y_valid)\n",
    "type(y_valid)"
   ]
  },
  {
   "cell_type": "code",
   "execution_count": 50,
   "id": "5c6080a8",
   "metadata": {},
   "outputs": [
    {
     "data": {
      "text/plain": [
       "134"
      ]
     },
     "execution_count": 50,
     "metadata": {},
     "output_type": "execute_result"
    }
   ],
   "source": [
    "len(y_valid)"
   ]
  },
  {
   "cell_type": "code",
   "execution_count": 51,
   "id": "8c529f6d",
   "metadata": {},
   "outputs": [
    {
     "data": {
      "text/plain": [
       "134"
      ]
     },
     "execution_count": 51,
     "metadata": {},
     "output_type": "execute_result"
    }
   ],
   "source": [
    "len(predVali)"
   ]
  },
  {
   "cell_type": "code",
   "execution_count": 52,
   "id": "ab216491",
   "metadata": {},
   "outputs": [
    {
     "name": "stdout",
     "output_type": "stream",
     "text": [
      "validation report: \n",
      "               precision    recall  f1-score   support\n",
      "\n",
      "           0       0.53      0.52      0.53        65\n",
      "           1       0.56      0.57      0.56        69\n",
      "\n",
      "    accuracy                           0.54       134\n",
      "   macro avg       0.54      0.54      0.54       134\n",
      "weighted avg       0.54      0.54      0.54       134\n",
      "\n",
      "validation accuracy: 0.5447761194029851\n"
     ]
    }
   ],
   "source": [
    "#predVali = model_1.predict(ds_validation)\n",
    "predVali = (model.predict(ds_validation) > 0.0).astype(\"int32\")\n",
    "print('validation report:','\\n',classification_report(y_valid, predVali))\n",
    "print('validation accuracy:', accuracy_score(y_valid, predVali))"
   ]
  },
  {
   "cell_type": "code",
   "execution_count": 57,
   "id": "861f5530",
   "metadata": {},
   "outputs": [
    {
     "data": {
      "text/plain": [
       "array([1, 1, 0, 0, 0, 0, 0, 1, 0, 0, 1, 0, 1, 1, 0, 1, 0, 1, 0, 1, 1, 0,\n",
       "       1, 1, 0, 1, 0, 1, 0, 0, 1, 1, 0, 1, 1, 0, 1, 0, 1, 1, 1, 1, 1, 1,\n",
       "       1, 0, 0, 1, 0, 0, 1, 1, 0, 0, 1, 1, 0, 0, 1, 1, 1, 0, 0, 0, 0, 0,\n",
       "       0, 1, 1, 1, 1, 0, 1, 0, 1, 1, 0, 0, 0, 0, 1, 0, 0, 0, 1, 1, 0, 0,\n",
       "       1, 0, 1, 0, 1, 1, 1, 0, 1, 0, 1, 1, 0, 0, 0, 0, 0, 1, 0, 1, 0, 0,\n",
       "       1, 1, 1, 0, 0, 1, 1, 0, 1, 1, 1, 0, 1, 1, 0, 1, 0, 1, 0, 0, 1, 0,\n",
       "       1, 1])"
      ]
     },
     "execution_count": 57,
     "metadata": {},
     "output_type": "execute_result"
    }
   ],
   "source": [
    "y_valid"
   ]
  },
  {
   "cell_type": "code",
   "execution_count": 107,
   "id": "7a02f123",
   "metadata": {},
   "outputs": [],
   "source": [
    "list_y = []\n",
    "for i in range(0,134):\n",
    "    list_y.append(y_valid[i])"
   ]
  },
  {
   "cell_type": "code",
   "execution_count": 108,
   "id": "7dacb917",
   "metadata": {},
   "outputs": [],
   "source": [
    "list_valid = []\n",
    "for i in range(0,134):\n",
    "    list_valid.append(predVali[i][0])"
   ]
  },
  {
   "cell_type": "code",
   "execution_count": null,
   "id": "76c9716c",
   "metadata": {},
   "outputs": [],
   "source": [
    "logic_valid = []\n",
    "for i in range(0,134):\n",
    "    logic_valid.append(list_valid[i] == y_valid[i])"
   ]
  },
  {
   "cell_type": "code",
   "execution_count": 111,
   "id": "e3beb189",
   "metadata": {},
   "outputs": [],
   "source": [
    "df_valid = pd.DataFrame(data = {'y_valid':list_y,'predVali':list_valid,'logic':logic_valid})"
   ]
  },
  {
   "cell_type": "code",
   "execution_count": 112,
   "id": "dd383322",
   "metadata": {},
   "outputs": [
    {
     "data": {
      "text/html": [
       "<div>\n",
       "<style scoped>\n",
       "    .dataframe tbody tr th:only-of-type {\n",
       "        vertical-align: middle;\n",
       "    }\n",
       "\n",
       "    .dataframe tbody tr th {\n",
       "        vertical-align: top;\n",
       "    }\n",
       "\n",
       "    .dataframe thead th {\n",
       "        text-align: right;\n",
       "    }\n",
       "</style>\n",
       "<table border=\"1\" class=\"dataframe\">\n",
       "  <thead>\n",
       "    <tr style=\"text-align: right;\">\n",
       "      <th></th>\n",
       "      <th>y_valid</th>\n",
       "      <th>predVali</th>\n",
       "      <th>logic</th>\n",
       "    </tr>\n",
       "  </thead>\n",
       "  <tbody>\n",
       "    <tr>\n",
       "      <th>0</th>\n",
       "      <td>1</td>\n",
       "      <td>0</td>\n",
       "      <td>False</td>\n",
       "    </tr>\n",
       "    <tr>\n",
       "      <th>1</th>\n",
       "      <td>1</td>\n",
       "      <td>0</td>\n",
       "      <td>False</td>\n",
       "    </tr>\n",
       "    <tr>\n",
       "      <th>2</th>\n",
       "      <td>0</td>\n",
       "      <td>0</td>\n",
       "      <td>True</td>\n",
       "    </tr>\n",
       "    <tr>\n",
       "      <th>3</th>\n",
       "      <td>0</td>\n",
       "      <td>0</td>\n",
       "      <td>True</td>\n",
       "    </tr>\n",
       "    <tr>\n",
       "      <th>4</th>\n",
       "      <td>0</td>\n",
       "      <td>1</td>\n",
       "      <td>False</td>\n",
       "    </tr>\n",
       "  </tbody>\n",
       "</table>\n",
       "</div>"
      ],
      "text/plain": [
       "   y_valid  predVali  logic\n",
       "0        1         0  False\n",
       "1        1         0  False\n",
       "2        0         0   True\n",
       "3        0         0   True\n",
       "4        0         1  False"
      ]
     },
     "execution_count": 112,
     "metadata": {},
     "output_type": "execute_result"
    }
   ],
   "source": [
    "df_valid.head()"
   ]
  },
  {
   "cell_type": "code",
   "execution_count": 113,
   "id": "3fe3bdb7",
   "metadata": {},
   "outputs": [
    {
     "data": {
      "text/plain": [
       "True     73\n",
       "False    61\n",
       "Name: logic, dtype: int64"
      ]
     },
     "execution_count": 113,
     "metadata": {},
     "output_type": "execute_result"
    }
   ],
   "source": [
    "df_valid['logic'].value_counts()"
   ]
  },
  {
   "cell_type": "code",
   "execution_count": 115,
   "id": "4e3652d3",
   "metadata": {},
   "outputs": [
    {
     "data": {
      "text/plain": [
       "True     39\n",
       "False    30\n",
       "Name: logic, dtype: int64"
      ]
     },
     "execution_count": 115,
     "metadata": {},
     "output_type": "execute_result"
    }
   ],
   "source": [
    "df_valid['logic'][df_valid['y_valid'] == 1].value_counts()"
   ]
  },
  {
   "cell_type": "code",
   "execution_count": 116,
   "id": "14b23782",
   "metadata": {},
   "outputs": [
    {
     "data": {
      "text/plain": [
       "True     34\n",
       "False    31\n",
       "Name: logic, dtype: int64"
      ]
     },
     "execution_count": 116,
     "metadata": {},
     "output_type": "execute_result"
    }
   ],
   "source": [
    "df_valid['logic'][df_valid['y_valid'] == 0].value_counts()"
   ]
  }
 ],
 "metadata": {
  "hide_input": false,
  "kernelspec": {
   "display_name": "Python 3 (ipykernel)",
   "language": "python",
   "name": "python3"
  },
  "language_info": {
   "codemirror_mode": {
    "name": "ipython",
    "version": 3
   },
   "file_extension": ".py",
   "mimetype": "text/x-python",
   "name": "python",
   "nbconvert_exporter": "python",
   "pygments_lexer": "ipython3",
   "version": "3.8.12"
  },
  "toc": {
   "base_numbering": 1,
   "nav_menu": {},
   "number_sections": true,
   "sideBar": true,
   "skip_h1_title": false,
   "title_cell": "Table of Contents",
   "title_sidebar": "Contents",
   "toc_cell": false,
   "toc_position": {},
   "toc_section_display": true,
   "toc_window_display": false
  },
  "varInspector": {
   "cols": {
    "lenName": 16,
    "lenType": 16,
    "lenVar": 40
   },
   "kernels_config": {
    "python": {
     "delete_cmd_postfix": "",
     "delete_cmd_prefix": "del ",
     "library": "var_list.py",
     "varRefreshCmd": "print(var_dic_list())"
    },
    "r": {
     "delete_cmd_postfix": ") ",
     "delete_cmd_prefix": "rm(",
     "library": "var_list.r",
     "varRefreshCmd": "cat(var_dic_list()) "
    }
   },
   "types_to_exclude": [
    "module",
    "function",
    "builtin_function_or_method",
    "instance",
    "_Feature"
   ],
   "window_display": false
  }
 },
 "nbformat": 4,
 "nbformat_minor": 5
}
