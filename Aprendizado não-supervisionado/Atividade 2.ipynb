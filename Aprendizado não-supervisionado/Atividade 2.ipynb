{
 "cells": [
  {
   "cell_type": "markdown",
   "metadata": {},
   "source": [
    "# Aprendizado não-supervisionado: Atividade 2"
   ]
  },
  {
   "cell_type": "code",
   "execution_count": 1,
   "metadata": {},
   "outputs": [],
   "source": [
    "import numpy as np\n",
    "import matplotlib.pyplot as plt\n",
    "import pandas as pd\n",
    "import seaborn as sns\n",
    "import math "
   ]
  },
  {
   "cell_type": "code",
   "execution_count": 2,
   "metadata": {},
   "outputs": [],
   "source": [
    "from numpy import *"
   ]
  },
  {
   "cell_type": "markdown",
   "metadata": {},
   "source": [
    "## Questão 1"
   ]
  },
  {
   "cell_type": "markdown",
   "metadata": {},
   "source": [
    "### a) Matriz de usuários por filme"
   ]
  },
  {
   "cell_type": "code",
   "execution_count": 3,
   "metadata": {
    "scrolled": false
   },
   "outputs": [
    {
     "data": {
      "text/html": [
       "<div>\n",
       "<style scoped>\n",
       "    .dataframe tbody tr th:only-of-type {\n",
       "        vertical-align: middle;\n",
       "    }\n",
       "\n",
       "    .dataframe tbody tr th {\n",
       "        vertical-align: top;\n",
       "    }\n",
       "\n",
       "    .dataframe thead th {\n",
       "        text-align: right;\n",
       "    }\n",
       "</style>\n",
       "<table border=\"1\" class=\"dataframe\">\n",
       "  <thead>\n",
       "    <tr style=\"text-align: right;\">\n",
       "      <th></th>\n",
       "      <th>Romance</th>\n",
       "      <th>Action</th>\n",
       "    </tr>\n",
       "  </thead>\n",
       "  <tbody>\n",
       "    <tr>\n",
       "      <th>User A</th>\n",
       "      <td>0.9</td>\n",
       "      <td>0.1</td>\n",
       "    </tr>\n",
       "    <tr>\n",
       "      <th>User B</th>\n",
       "      <td>0.8</td>\n",
       "      <td>0.2</td>\n",
       "    </tr>\n",
       "    <tr>\n",
       "      <th>User C</th>\n",
       "      <td>0.3</td>\n",
       "      <td>0.7</td>\n",
       "    </tr>\n",
       "    <tr>\n",
       "      <th>User D</th>\n",
       "      <td>0.6</td>\n",
       "      <td>0.4</td>\n",
       "    </tr>\n",
       "    <tr>\n",
       "      <th>User E</th>\n",
       "      <td>0.0</td>\n",
       "      <td>1.0</td>\n",
       "    </tr>\n",
       "  </tbody>\n",
       "</table>\n",
       "</div>"
      ],
      "text/plain": [
       "        Romance  Action\n",
       "User A      0.9     0.1\n",
       "User B      0.8     0.2\n",
       "User C      0.3     0.7\n",
       "User D      0.6     0.4\n",
       "User E      0.0     1.0"
      ]
     },
     "execution_count": 3,
     "metadata": {},
     "output_type": "execute_result"
    }
   ],
   "source": [
    "data = {'Romance': [0.9,0.8,0.3,0.6,0], 'Action': [0.1,0.2,0.7,0.4,1]}  \n",
    "user_feature_matrix = pd.DataFrame(data)\n",
    "user_feature_matrix = user_feature_matrix.rename(index={0: \"User A\", 1: \"User B\",2:\"User C\",3:\"User D\",4:\"User E\"})\n",
    "user_feature_matrix"
   ]
  },
  {
   "cell_type": "code",
   "execution_count": 4,
   "metadata": {
    "scrolled": true
   },
   "outputs": [
    {
     "data": {
      "text/html": [
       "<div>\n",
       "<style scoped>\n",
       "    .dataframe tbody tr th:only-of-type {\n",
       "        vertical-align: middle;\n",
       "    }\n",
       "\n",
       "    .dataframe tbody tr th {\n",
       "        vertical-align: top;\n",
       "    }\n",
       "\n",
       "    .dataframe thead th {\n",
       "        text-align: right;\n",
       "    }\n",
       "</style>\n",
       "<table border=\"1\" class=\"dataframe\">\n",
       "  <thead>\n",
       "    <tr style=\"text-align: right;\">\n",
       "      <th></th>\n",
       "      <th>Romance</th>\n",
       "      <th>Action</th>\n",
       "    </tr>\n",
       "  </thead>\n",
       "  <tbody>\n",
       "    <tr>\n",
       "      <th>Titanic</th>\n",
       "      <td>0.9</td>\n",
       "      <td>0.1</td>\n",
       "    </tr>\n",
       "    <tr>\n",
       "      <th>Rocky</th>\n",
       "      <td>0.1</td>\n",
       "      <td>0.9</td>\n",
       "    </tr>\n",
       "    <tr>\n",
       "      <th>The Hobbit</th>\n",
       "      <td>0.5</td>\n",
       "      <td>0.5</td>\n",
       "    </tr>\n",
       "    <tr>\n",
       "      <th>Fight Club</th>\n",
       "      <td>0.0</td>\n",
       "      <td>1.0</td>\n",
       "    </tr>\n",
       "    <tr>\n",
       "      <th>Jurassic Park</th>\n",
       "      <td>0.2</td>\n",
       "      <td>0.8</td>\n",
       "    </tr>\n",
       "  </tbody>\n",
       "</table>\n",
       "</div>"
      ],
      "text/plain": [
       "               Romance  Action\n",
       "Titanic            0.9     0.1\n",
       "Rocky              0.1     0.9\n",
       "The Hobbit         0.5     0.5\n",
       "Fight Club         0.0     1.0\n",
       "Jurassic Park      0.2     0.8"
      ]
     },
     "execution_count": 4,
     "metadata": {},
     "output_type": "execute_result"
    }
   ],
   "source": [
    "data2 = {'Romance': [0.9,0.1,0.5,0,0.2], 'Action': [0.1,0.9,0.5,1,0.8]}  \n",
    "movie_feature_matrix = pd.DataFrame(data2)\n",
    "movie_feature_matrix = movie_feature_matrix.rename(index={0: \"Titanic\", 1: \"Rocky\",2:\"The Hobbit\",3:\"Fight Club\",4:\"Jurassic Park\"})\n",
    "movie_feature_matrix"
   ]
  },
  {
   "cell_type": "code",
   "execution_count": 5,
   "metadata": {},
   "outputs": [
    {
     "data": {
      "text/html": [
       "<div>\n",
       "<style scoped>\n",
       "    .dataframe tbody tr th:only-of-type {\n",
       "        vertical-align: middle;\n",
       "    }\n",
       "\n",
       "    .dataframe tbody tr th {\n",
       "        vertical-align: top;\n",
       "    }\n",
       "\n",
       "    .dataframe thead th {\n",
       "        text-align: right;\n",
       "    }\n",
       "</style>\n",
       "<table border=\"1\" class=\"dataframe\">\n",
       "  <thead>\n",
       "    <tr style=\"text-align: right;\">\n",
       "      <th></th>\n",
       "      <th>Titanic</th>\n",
       "      <th>Rocky</th>\n",
       "      <th>The Hobbit</th>\n",
       "      <th>Fight Club</th>\n",
       "      <th>Jurassic Park</th>\n",
       "    </tr>\n",
       "  </thead>\n",
       "  <tbody>\n",
       "    <tr>\n",
       "      <th>Romance</th>\n",
       "      <td>0.9</td>\n",
       "      <td>0.1</td>\n",
       "      <td>0.5</td>\n",
       "      <td>0.0</td>\n",
       "      <td>0.2</td>\n",
       "    </tr>\n",
       "    <tr>\n",
       "      <th>Action</th>\n",
       "      <td>0.1</td>\n",
       "      <td>0.9</td>\n",
       "      <td>0.5</td>\n",
       "      <td>1.0</td>\n",
       "      <td>0.8</td>\n",
       "    </tr>\n",
       "  </tbody>\n",
       "</table>\n",
       "</div>"
      ],
      "text/plain": [
       "         Titanic  Rocky  The Hobbit  Fight Club  Jurassic Park\n",
       "Romance      0.9    0.1         0.5         0.0            0.2\n",
       "Action       0.1    0.9         0.5         1.0            0.8"
      ]
     },
     "execution_count": 5,
     "metadata": {},
     "output_type": "execute_result"
    }
   ],
   "source": [
    "movie_feature_matrix_t = movie_feature_matrix.transpose()\n",
    "movie_feature_matrix_t"
   ]
  },
  {
   "cell_type": "code",
   "execution_count": 6,
   "metadata": {
    "scrolled": true
   },
   "outputs": [
    {
     "data": {
      "text/html": [
       "<div>\n",
       "<style scoped>\n",
       "    .dataframe tbody tr th:only-of-type {\n",
       "        vertical-align: middle;\n",
       "    }\n",
       "\n",
       "    .dataframe tbody tr th {\n",
       "        vertical-align: top;\n",
       "    }\n",
       "\n",
       "    .dataframe thead th {\n",
       "        text-align: right;\n",
       "    }\n",
       "</style>\n",
       "<table border=\"1\" class=\"dataframe\">\n",
       "  <thead>\n",
       "    <tr style=\"text-align: right;\">\n",
       "      <th></th>\n",
       "      <th>Titanic</th>\n",
       "      <th>Rocky</th>\n",
       "      <th>The Hobbit</th>\n",
       "      <th>Fight Club</th>\n",
       "      <th>Jurassic Park</th>\n",
       "    </tr>\n",
       "  </thead>\n",
       "  <tbody>\n",
       "    <tr>\n",
       "      <th>User A</th>\n",
       "      <td>0.82</td>\n",
       "      <td>0.18</td>\n",
       "      <td>0.5</td>\n",
       "      <td>0.1</td>\n",
       "      <td>0.26</td>\n",
       "    </tr>\n",
       "    <tr>\n",
       "      <th>User B</th>\n",
       "      <td>0.74</td>\n",
       "      <td>0.26</td>\n",
       "      <td>0.5</td>\n",
       "      <td>0.2</td>\n",
       "      <td>0.32</td>\n",
       "    </tr>\n",
       "    <tr>\n",
       "      <th>User C</th>\n",
       "      <td>0.34</td>\n",
       "      <td>0.66</td>\n",
       "      <td>0.5</td>\n",
       "      <td>0.7</td>\n",
       "      <td>0.62</td>\n",
       "    </tr>\n",
       "    <tr>\n",
       "      <th>User D</th>\n",
       "      <td>0.58</td>\n",
       "      <td>0.42</td>\n",
       "      <td>0.5</td>\n",
       "      <td>0.4</td>\n",
       "      <td>0.44</td>\n",
       "    </tr>\n",
       "    <tr>\n",
       "      <th>User E</th>\n",
       "      <td>0.10</td>\n",
       "      <td>0.90</td>\n",
       "      <td>0.5</td>\n",
       "      <td>1.0</td>\n",
       "      <td>0.80</td>\n",
       "    </tr>\n",
       "  </tbody>\n",
       "</table>\n",
       "</div>"
      ],
      "text/plain": [
       "        Titanic  Rocky  The Hobbit  Fight Club  Jurassic Park\n",
       "User A     0.82   0.18         0.5         0.1           0.26\n",
       "User B     0.74   0.26         0.5         0.2           0.32\n",
       "User C     0.34   0.66         0.5         0.7           0.62\n",
       "User D     0.58   0.42         0.5         0.4           0.44\n",
       "User E     0.10   0.90         0.5         1.0           0.80"
      ]
     },
     "execution_count": 6,
     "metadata": {},
     "output_type": "execute_result"
    }
   ],
   "source": [
    "gostos = np.dot(user_feature_matrix,movie_feature_matrix_t)\n",
    "gostos_matrix = pd.DataFrame(gostos)\n",
    "gostos_matrix = gostos_matrix.rename(index={0: \"User A\", 1: \"User B\",2:\"User C\",3:\"User D\",4:\"User E\"})\n",
    "gostos_matrix.columns = [\"Titanic\", \"Rocky\",\"The Hobbit\",\"Fight Club\",\"Jurassic Park\"]\n",
    "gostos_matrix"
   ]
  },
  {
   "cell_type": "markdown",
   "metadata": {},
   "source": [
    "### b) Os dois usuários mais parecidos"
   ]
  },
  {
   "cell_type": "markdown",
   "metadata": {},
   "source": [
    "A menor distância euclidiana é entre os usuários A e B, a maior é entre os usuários A e E."
   ]
  },
  {
   "cell_type": "code",
   "execution_count": 7,
   "metadata": {},
   "outputs": [],
   "source": [
    "def numero_atributos(dados):\n",
    "  return dados.shape[0]\n",
    "\n",
    "def erro(a,b):\n",
    "  return a.values-b.values"
   ]
  },
  {
   "cell_type": "code",
   "execution_count": 8,
   "metadata": {
    "scrolled": false
   },
   "outputs": [
    {
     "data": {
      "text/plain": [
       "[array([[ 0.08, -0.08,  0.  , -0.1 , -0.06]]),\n",
       " array([[ 0.48, -0.48,  0.  , -0.6 , -0.36]]),\n",
       " array([[ 0.24, -0.24,  0.  , -0.3 , -0.18]]),\n",
       " array([[ 0.72, -0.72,  0.  , -0.9 , -0.54]]),\n",
       " array([[0., 0., 0., 0., 0.]]),\n",
       " array([[ 0.4, -0.4,  0. , -0.5, -0.3]]),\n",
       " array([[ 0.16, -0.16,  0.  , -0.2 , -0.12]]),\n",
       " array([[ 0.64, -0.64,  0.  , -0.8 , -0.48]]),\n",
       " array([[0., 0., 0., 0., 0.]]),\n",
       " array([[-0.24,  0.24,  0.  ,  0.3 ,  0.18]]),\n",
       " array([[ 0.24, -0.24,  0.  , -0.3 , -0.18]]),\n",
       " array([[0., 0., 0., 0., 0.]]),\n",
       " array([[ 0.48, -0.48,  0.  , -0.6 , -0.36]])]"
      ]
     },
     "execution_count": 8,
     "metadata": {},
     "output_type": "execute_result"
    }
   ],
   "source": [
    "matrix_erros = []\n",
    "for i in range(0, 4):\n",
    "    for j in range(0,4):\n",
    "        if (i > j+1) == False:\n",
    "            pass \n",
    "            matrix_erros.append(erro(gostos_matrix.iloc[i:i+1,], gostos_matrix.iloc[j+1:j+2,]))\n",
    "\n",
    "matrix_erros"
   ]
  },
  {
   "cell_type": "code",
   "execution_count": 9,
   "metadata": {},
   "outputs": [
    {
     "data": {
      "text/plain": [
       "[array([[ 0.08, -0.08,  0.  , -0.1 , -0.06]]),\n",
       " array([[ 0.48, -0.48,  0.  , -0.6 , -0.36]]),\n",
       " array([[ 0.24, -0.24,  0.  , -0.3 , -0.18]]),\n",
       " array([[ 0.72, -0.72,  0.  , -0.9 , -0.54]]),\n",
       " array([[ 0.4, -0.4,  0. , -0.5, -0.3]]),\n",
       " array([[ 0.16, -0.16,  0.  , -0.2 , -0.12]]),\n",
       " array([[ 0.64, -0.64,  0.  , -0.8 , -0.48]]),\n",
       " array([[-0.24,  0.24,  0.  ,  0.3 ,  0.18]]),\n",
       " array([[ 0.24, -0.24,  0.  , -0.3 , -0.18]]),\n",
       " array([[ 0.48, -0.48,  0.  , -0.6 , -0.36]])]"
      ]
     },
     "execution_count": 9,
     "metadata": {},
     "output_type": "execute_result"
    }
   ],
   "source": [
    "#Roubei a função dos arrays daqui:\n",
    "#https://stackoverflow.com/questions/3157374/how-do-you-remove-a-numpy-array-from-a-list-of-numpy-arrays\n",
    "def removearray(L,arr):\n",
    "    ind = 0\n",
    "    size = len(L)\n",
    "    while ind != size and not np.array_equal(L[ind],arr):\n",
    "        ind += 1\n",
    "    if ind != size:\n",
    "        L.pop(ind)\n",
    "    else:\n",
    "        raise ValueError('array not found in list.')\n",
    "\n",
    "for i in range (0,3):\n",
    "    removearray(matrix_erros,[[0., 0., 0., 0., 0.]])\n",
    "    \n",
    "matrix_erros"
   ]
  },
  {
   "cell_type": "code",
   "execution_count": 10,
   "metadata": {
    "scrolled": true
   },
   "outputs": [
    {
     "data": {
      "text/html": [
       "<div>\n",
       "<style scoped>\n",
       "    .dataframe tbody tr th:only-of-type {\n",
       "        vertical-align: middle;\n",
       "    }\n",
       "\n",
       "    .dataframe tbody tr th {\n",
       "        vertical-align: top;\n",
       "    }\n",
       "\n",
       "    .dataframe thead th {\n",
       "        text-align: right;\n",
       "    }\n",
       "</style>\n",
       "<table border=\"1\" class=\"dataframe\">\n",
       "  <thead>\n",
       "    <tr style=\"text-align: right;\">\n",
       "      <th></th>\n",
       "      <th>Titanic</th>\n",
       "      <th>Rocky</th>\n",
       "      <th>The Hobbit</th>\n",
       "      <th>Fight Club</th>\n",
       "      <th>Jurassic Park</th>\n",
       "    </tr>\n",
       "  </thead>\n",
       "  <tbody>\n",
       "    <tr>\n",
       "      <th>AB</th>\n",
       "      <td>0.08</td>\n",
       "      <td>-0.08</td>\n",
       "      <td>0.0</td>\n",
       "      <td>-0.1</td>\n",
       "      <td>-0.06</td>\n",
       "    </tr>\n",
       "    <tr>\n",
       "      <th>AC</th>\n",
       "      <td>0.48</td>\n",
       "      <td>-0.48</td>\n",
       "      <td>0.0</td>\n",
       "      <td>-0.6</td>\n",
       "      <td>-0.36</td>\n",
       "    </tr>\n",
       "    <tr>\n",
       "      <th>AD</th>\n",
       "      <td>0.24</td>\n",
       "      <td>-0.24</td>\n",
       "      <td>0.0</td>\n",
       "      <td>-0.3</td>\n",
       "      <td>-0.18</td>\n",
       "    </tr>\n",
       "    <tr>\n",
       "      <th>AE</th>\n",
       "      <td>0.72</td>\n",
       "      <td>-0.72</td>\n",
       "      <td>0.0</td>\n",
       "      <td>-0.9</td>\n",
       "      <td>-0.54</td>\n",
       "    </tr>\n",
       "    <tr>\n",
       "      <th>BC</th>\n",
       "      <td>0.40</td>\n",
       "      <td>-0.40</td>\n",
       "      <td>0.0</td>\n",
       "      <td>-0.5</td>\n",
       "      <td>-0.30</td>\n",
       "    </tr>\n",
       "    <tr>\n",
       "      <th>BD</th>\n",
       "      <td>0.16</td>\n",
       "      <td>-0.16</td>\n",
       "      <td>0.0</td>\n",
       "      <td>-0.2</td>\n",
       "      <td>-0.12</td>\n",
       "    </tr>\n",
       "    <tr>\n",
       "      <th>BE</th>\n",
       "      <td>0.64</td>\n",
       "      <td>-0.64</td>\n",
       "      <td>0.0</td>\n",
       "      <td>-0.8</td>\n",
       "      <td>-0.48</td>\n",
       "    </tr>\n",
       "    <tr>\n",
       "      <th>CD</th>\n",
       "      <td>-0.24</td>\n",
       "      <td>0.24</td>\n",
       "      <td>0.0</td>\n",
       "      <td>0.3</td>\n",
       "      <td>0.18</td>\n",
       "    </tr>\n",
       "    <tr>\n",
       "      <th>CE</th>\n",
       "      <td>0.24</td>\n",
       "      <td>-0.24</td>\n",
       "      <td>0.0</td>\n",
       "      <td>-0.3</td>\n",
       "      <td>-0.18</td>\n",
       "    </tr>\n",
       "    <tr>\n",
       "      <th>DE</th>\n",
       "      <td>0.48</td>\n",
       "      <td>-0.48</td>\n",
       "      <td>0.0</td>\n",
       "      <td>-0.6</td>\n",
       "      <td>-0.36</td>\n",
       "    </tr>\n",
       "  </tbody>\n",
       "</table>\n",
       "</div>"
      ],
      "text/plain": [
       "    Titanic  Rocky  The Hobbit  Fight Club  Jurassic Park\n",
       "AB     0.08  -0.08         0.0        -0.1          -0.06\n",
       "AC     0.48  -0.48         0.0        -0.6          -0.36\n",
       "AD     0.24  -0.24         0.0        -0.3          -0.18\n",
       "AE     0.72  -0.72         0.0        -0.9          -0.54\n",
       "BC     0.40  -0.40         0.0        -0.5          -0.30\n",
       "BD     0.16  -0.16         0.0        -0.2          -0.12\n",
       "BE     0.64  -0.64         0.0        -0.8          -0.48\n",
       "CD    -0.24   0.24         0.0         0.3           0.18\n",
       "CE     0.24  -0.24         0.0        -0.3          -0.18\n",
       "DE     0.48  -0.48         0.0        -0.6          -0.36"
      ]
     },
     "execution_count": 10,
     "metadata": {},
     "output_type": "execute_result"
    }
   ],
   "source": [
    "df_erros = pd.DataFrame(np.concatenate(matrix_erros))\n",
    "df_erros = df_erros.rename(index={0: \"AB\", 1: \"AC\",2:\"AD\",3:\"AE\",4:\"BC\",\n",
    "                                 5:\"BD\",6:\"BE\",7:\"CD\",8:\"CE\",9:\"DE\"})\n",
    "df_erros.columns = [\"Titanic\", \"Rocky\",\"The Hobbit\",\"Fight Club\",\"Jurassic Park\"]\n",
    "df_erros"
   ]
  },
  {
   "cell_type": "code",
   "execution_count": 11,
   "metadata": {},
   "outputs": [
    {
     "data": {
      "text/plain": [
       "[0.07999999999999996, -0.07999999999999999, 0.0, -0.1, -0.06000000000000005]"
      ]
     },
     "execution_count": 11,
     "metadata": {},
     "output_type": "execute_result"
    }
   ],
   "source": [
    "df_erros_list = df_erros.values.tolist()\n",
    "df_erros_list = df_erros_list[0]\n",
    "df_erros_list"
   ]
  },
  {
   "cell_type": "code",
   "execution_count": 12,
   "metadata": {},
   "outputs": [],
   "source": [
    "def tamanho_distancia_euclidiana(e):\n",
    "  soma = 0\n",
    "  for i in range(0, len(e)):\n",
    "   soma = soma + e[i]**2\n",
    "  return math.sqrt(soma)"
   ]
  },
  {
   "cell_type": "code",
   "execution_count": 13,
   "metadata": {},
   "outputs": [
    {
     "data": {
      "text/plain": [
       "0.16248076809271922"
      ]
     },
     "execution_count": 13,
     "metadata": {},
     "output_type": "execute_result"
    }
   ],
   "source": [
    " tamanho_distancia_euclidiana(df_erros_list)"
   ]
  },
  {
   "cell_type": "code",
   "execution_count": 14,
   "metadata": {},
   "outputs": [],
   "source": [
    "df_erros_list = df_erros.values.tolist()\n",
    "df_dist = []\n",
    "def n_distancia_euclidiana(df_erros_list):\n",
    "    for i in range(0, 10):\n",
    "            errors = df_erros_list[i]\n",
    "            df_dist.append(tamanho_distancia_euclidiana(errors))"
   ]
  },
  {
   "cell_type": "code",
   "execution_count": 15,
   "metadata": {},
   "outputs": [],
   "source": [
    "n_distancia_euclidiana(df_erros_list)\n",
    "df_dist = pd.DataFrame(df_dist)\n",
    "df_dist = df_dist.rename(index={0: \"AB\", 1: \"AC\",2:\"AD\",3:\"AE\",4:\"BC\",\n",
    "                                 5:\"BD\",6:\"BE\",7:\"CD\",8:\"CE\",9:\"DE\"})\n",
    "df_dist.columns = [\"dist\"]"
   ]
  },
  {
   "cell_type": "code",
   "execution_count": 16,
   "metadata": {
    "scrolled": true
   },
   "outputs": [
    {
     "data": {
      "text/html": [
       "<div>\n",
       "<style scoped>\n",
       "    .dataframe tbody tr th:only-of-type {\n",
       "        vertical-align: middle;\n",
       "    }\n",
       "\n",
       "    .dataframe tbody tr th {\n",
       "        vertical-align: top;\n",
       "    }\n",
       "\n",
       "    .dataframe thead th {\n",
       "        text-align: right;\n",
       "    }\n",
       "</style>\n",
       "<table border=\"1\" class=\"dataframe\">\n",
       "  <thead>\n",
       "    <tr style=\"text-align: right;\">\n",
       "      <th></th>\n",
       "      <th>dist</th>\n",
       "    </tr>\n",
       "  </thead>\n",
       "  <tbody>\n",
       "    <tr>\n",
       "      <th>AB</th>\n",
       "      <td>0.162481</td>\n",
       "    </tr>\n",
       "    <tr>\n",
       "      <th>AC</th>\n",
       "      <td>0.974885</td>\n",
       "    </tr>\n",
       "    <tr>\n",
       "      <th>AD</th>\n",
       "      <td>0.487442</td>\n",
       "    </tr>\n",
       "    <tr>\n",
       "      <th>AE</th>\n",
       "      <td>1.462327</td>\n",
       "    </tr>\n",
       "    <tr>\n",
       "      <th>BC</th>\n",
       "      <td>0.812404</td>\n",
       "    </tr>\n",
       "    <tr>\n",
       "      <th>BD</th>\n",
       "      <td>0.324962</td>\n",
       "    </tr>\n",
       "    <tr>\n",
       "      <th>BE</th>\n",
       "      <td>1.299846</td>\n",
       "    </tr>\n",
       "    <tr>\n",
       "      <th>CD</th>\n",
       "      <td>0.487442</td>\n",
       "    </tr>\n",
       "    <tr>\n",
       "      <th>CE</th>\n",
       "      <td>0.487442</td>\n",
       "    </tr>\n",
       "    <tr>\n",
       "      <th>DE</th>\n",
       "      <td>0.974885</td>\n",
       "    </tr>\n",
       "  </tbody>\n",
       "</table>\n",
       "</div>"
      ],
      "text/plain": [
       "        dist\n",
       "AB  0.162481\n",
       "AC  0.974885\n",
       "AD  0.487442\n",
       "AE  1.462327\n",
       "BC  0.812404\n",
       "BD  0.324962\n",
       "BE  1.299846\n",
       "CD  0.487442\n",
       "CE  0.487442\n",
       "DE  0.974885"
      ]
     },
     "execution_count": 16,
     "metadata": {},
     "output_type": "execute_result"
    }
   ],
   "source": [
    "#A menor distância euclidiana é entre os usuários A e B, a maior é entre os usuários A e E.\n",
    "df_dist"
   ]
  },
  {
   "cell_type": "code",
   "execution_count": 17,
   "metadata": {},
   "outputs": [
    {
     "name": "stdout",
     "output_type": "stream",
     "text": [
      "0.16248076809271922 1.462326912834473\n"
     ]
    }
   ],
   "source": [
    "print(min(df_dist.dist),max(df_dist.dist))"
   ]
  },
  {
   "cell_type": "code",
   "execution_count": 18,
   "metadata": {},
   "outputs": [
    {
     "data": {
      "text/html": [
       "<div>\n",
       "<style scoped>\n",
       "    .dataframe tbody tr th:only-of-type {\n",
       "        vertical-align: middle;\n",
       "    }\n",
       "\n",
       "    .dataframe tbody tr th {\n",
       "        vertical-align: top;\n",
       "    }\n",
       "\n",
       "    .dataframe thead th {\n",
       "        text-align: right;\n",
       "    }\n",
       "</style>\n",
       "<table border=\"1\" class=\"dataframe\">\n",
       "  <thead>\n",
       "    <tr style=\"text-align: right;\">\n",
       "      <th></th>\n",
       "      <th>dist</th>\n",
       "    </tr>\n",
       "  </thead>\n",
       "  <tbody>\n",
       "    <tr>\n",
       "      <th>AB</th>\n",
       "      <td>0.162481</td>\n",
       "    </tr>\n",
       "  </tbody>\n",
       "</table>\n",
       "</div>"
      ],
      "text/plain": [
       "        dist\n",
       "AB  0.162481"
      ]
     },
     "execution_count": 18,
     "metadata": {},
     "output_type": "execute_result"
    }
   ],
   "source": [
    "df_dist[df_dist.dist == 0.16248076809271922]"
   ]
  },
  {
   "cell_type": "code",
   "execution_count": 19,
   "metadata": {},
   "outputs": [
    {
     "data": {
      "text/html": [
       "<div>\n",
       "<style scoped>\n",
       "    .dataframe tbody tr th:only-of-type {\n",
       "        vertical-align: middle;\n",
       "    }\n",
       "\n",
       "    .dataframe tbody tr th {\n",
       "        vertical-align: top;\n",
       "    }\n",
       "\n",
       "    .dataframe thead th {\n",
       "        text-align: right;\n",
       "    }\n",
       "</style>\n",
       "<table border=\"1\" class=\"dataframe\">\n",
       "  <thead>\n",
       "    <tr style=\"text-align: right;\">\n",
       "      <th></th>\n",
       "      <th>dist</th>\n",
       "    </tr>\n",
       "  </thead>\n",
       "  <tbody>\n",
       "    <tr>\n",
       "      <th>AE</th>\n",
       "      <td>1.462327</td>\n",
       "    </tr>\n",
       "  </tbody>\n",
       "</table>\n",
       "</div>"
      ],
      "text/plain": [
       "        dist\n",
       "AE  1.462327"
      ]
     },
     "execution_count": 19,
     "metadata": {},
     "output_type": "execute_result"
    }
   ],
   "source": [
    "df_dist[df_dist.dist == 1.462326912834473]"
   ]
  },
  {
   "cell_type": "markdown",
   "metadata": {},
   "source": [
    "## Questão 2"
   ]
  },
  {
   "cell_type": "markdown",
   "metadata": {},
   "source": [
    "1. A similaridade de Jaccard é usada para medir similaridade entre conjuntos finitos e é definido como a cardinalidade da interseção entre dois cojuntos divididos pela cardinalidade da união desses conjuntos. $Jaccard Similarity \\rightarrow J(A,B) = |A∩B|/|A∪B|$\n",
    "\n",
    "\n",
    "\n",
    "2. Diferenças entre Similaridade de Jaccard e Similaridade de Cossenos:\n",
    "\n",
    "    - A similaridade de Jaccard  recebe somente conjuntos de palavras únicas em cada sentença/documento, enquanto a similaridade de cossenos recebe o comprimento total dos vetores.\n",
    "\n",
    "    - Isso significa que se você repetir uma palavra na frase 1 várias vezes, a similaridade de cossenos muda, mas a similaridade de Jaccard não. Por exemplo, a palavra \"friend\" é repetidade na primeira frase 50 vezes, a similaridade de cossenos é reduzida para 0.4, mas a similaridade de Jaccard se mantém 0.5.\n",
    "    \n",
    "    - A similaridade de Jaccard é boa para casos onde duplicação não faz diferença, similaridade de cossenos é boa para casos onde duplicação importa quando analizando a similaridade dos textos. Por exemplo, para duas descrição de um produto, seria melhor usar similaridade de Jaccard, uma vez que as repetições de palavras não reduzem sua similaridade.\n",
    "\n",
    "Referências:\n",
    "- https://towardsdatascience.com/overview-of-text-similarity-metrics-3397c4601f50\n",
    "- https://medium.com/@ashukumar27/similarity-functions-in-python-aa6dfe721035"
   ]
  },
  {
   "cell_type": "markdown",
   "metadata": {},
   "source": [
    "#### Código da aula"
   ]
  },
  {
   "cell_type": "code",
   "execution_count": 20,
   "metadata": {},
   "outputs": [],
   "source": [
    "def numero_atributos(dados):\n",
    "  return dados.shape[0]"
   ]
  },
  {
   "cell_type": "code",
   "execution_count": 21,
   "metadata": {},
   "outputs": [],
   "source": [
    "df = pd.read_csv('https://raw.githubusercontent.com/MahnoorJaved98/Movie-Recommendation-System/main/movie_dataset.csv')"
   ]
  },
  {
   "cell_type": "code",
   "execution_count": 22,
   "metadata": {},
   "outputs": [],
   "source": [
    "# Preenche campos vazios com uma string vazia\n",
    "features = ['keywords', 'cast', 'genres', 'director']\n",
    "for feature in features:\n",
    "    df[feature] = df[feature].fillna('')"
   ]
  },
  {
   "cell_type": "code",
   "execution_count": 23,
   "metadata": {},
   "outputs": [],
   "source": [
    "def combined_features(row):\n",
    "    return row['keywords']+\" \"+row['cast']+\" \"+row['genres']+\" \"+row['director']\n",
    "df[\"combined_features\"] = df.apply(combined_features, axis =1)"
   ]
  },
  {
   "cell_type": "code",
   "execution_count": 24,
   "metadata": {},
   "outputs": [],
   "source": [
    "### Funções que criamos anteriormente para medir similaridade\n",
    "def tamanho_distancia_euclidiana(e):\n",
    "  soma = 0\n",
    "  for i in range(0, numero_atributos(e)):\n",
    "   soma = soma + e[i]**2\n",
    "  return sqrt(soma)\n",
    "\n",
    "def similaridade(a,b):\n",
    "  soma = 0\n",
    "  for i in range(numero_atributos(a)):\n",
    "    soma = soma + (a[i]*b[i])\n",
    "  return soma\n",
    "\n",
    "def similaridade_normalizada(a,b): #cosseno\n",
    "    return similaridade(a,b)/(tamanho_distancia_euclidiana(a)*tamanho_distancia_euclidiana(b))\n",
    "\n",
    "def similaridade_com_todos(A, b):\n",
    "  todas_similaridades = zeros(numero_atributos(A))\n",
    "  \n",
    "  for i in range(numero_atributos(A)):\n",
    "    todas_similaridades[i] = similaridade_normalizada(A[i, :], b)\n",
    "\n",
    "  return todas_similaridades\n",
    "\n",
    "def recomendar_por_similaridade(A, b):\n",
    "  todas_similaridades = similaridade_com_todos(A, b)\n",
    "  return argmax(todas_similaridades), max(todas_similaridades)\n",
    "\n",
    "def similaridade_par_a_par(A):\n",
    "  todas_similaridades = zeros((numero_atributos(A), numero_atributos(A)))\n",
    "  for i in range(numero_atributos(A)):\n",
    "    todas_similaridades[i,:] = similaridade_com_todos(A, A[i,:])\n",
    "  return todas_similaridades"
   ]
  },
  {
   "cell_type": "code",
   "execution_count": 25,
   "metadata": {},
   "outputs": [],
   "source": [
    "def get_index_from_title(title):\n",
    "    return df[df.title == title][\"index\"].values[0]\n",
    "\n",
    "def get_title_from_index(index):\n",
    "    return df[df.index == index][\"title\"].values[0]"
   ]
  },
  {
   "cell_type": "code",
   "execution_count": 26,
   "metadata": {},
   "outputs": [],
   "source": [
    "def recupera_filmes_mais_similar(nome_do_filme, filmes_similar, top=10):\n",
    "  # Recupera índice do filme dado o nome\n",
    "  movie_index = get_index_from_title(nome_do_filme)\n",
    "  \n",
    "  # Recupera o vetor com a similaridade deste filme e todos os outros\n",
    "  mais_similares = list(enumerate(filmes_similar[movie_index]))\n",
    "  \n",
    "  # Ordenando do mais similar (maior valor) para o menor (menor valor)\n",
    "  # Lembrando que se fosse distância seria ao contrário!\n",
    "  mais_similares_ordenado = sorted(mais_similares, key=lambda x:x[1], reverse=True)\n",
    "\n",
    "  # Exibe os top-X\n",
    "  for i in range(top+1):\n",
    "    print(get_title_from_index(mais_similares_ordenado[i][0]), mais_similares_ordenado[i][1])"
   ]
  },
  {
   "cell_type": "code",
   "execution_count": 27,
   "metadata": {},
   "outputs": [],
   "source": [
    "from sklearn.feature_extraction.text import CountVectorizer\n",
    "cv = CountVectorizer()\n",
    "filmes_por_termos = cv.fit_transform(df[\"combined_features\"])"
   ]
  },
  {
   "cell_type": "code",
   "execution_count": 28,
   "metadata": {},
   "outputs": [],
   "source": [
    "### Calculando a similaridade entre filmes\n",
    "from sklearn.metrics.pairwise import *\n",
    "filmes_similar = cosine_similarity(filmes_por_termos)\n",
    "filmes_similar_man = manhattan_distances(filmes_por_termos)\n",
    "filmes_similar_eucl = euclidean_distances(filmes_por_termos)"
   ]
  },
  {
   "cell_type": "code",
   "execution_count": 29,
   "metadata": {
    "scrolled": true
   },
   "outputs": [
    {
     "name": "stdout",
     "output_type": "stream",
     "text": [
      "Dead Poets Society 0.9999999999999993\n",
      "Much Ado About Nothing 0.21677749238102995\n",
      "Patch Adams 0.21052631578947364\n",
      "Good Will Hunting 0.2051956704170308\n",
      "Flightplan 0.19564639521780736\n",
      "Alive 0.19134594929397594\n",
      "The Basket 0.1908854288927333\n",
      "What Just Happened 0.1873171623163388\n",
      "Adulterers 0.18394180184548975\n",
      "The Sting 0.1835325870964494\n",
      "The Tree of Life 0.179968508266339\n"
     ]
    }
   ],
   "source": [
    "#recupera_filmes_mais_similar(\"Forrest Gump\", filmes_similar)\n",
    "recupera_filmes_mais_similar(\"Dead Poets Society\", filmes_similar)"
   ]
  },
  {
   "cell_type": "code",
   "execution_count": 30,
   "metadata": {
    "scrolled": true
   },
   "outputs": [
    {
     "name": "stdout",
     "output_type": "stream",
     "text": [
      "The Inhabited Island 55.0\n",
      "Spawn 50.0\n",
      "What's Love Got to Do with It 50.0\n",
      "Pirates of the Caribbean: At World's End 49.0\n",
      "I Am Legend 49.0\n",
      "The Matrix Reloaded 49.0\n",
      "Treasure Planet 49.0\n",
      "102 Dalmatians 49.0\n",
      "Death Race 49.0\n",
      "Thunderbirds 49.0\n",
      "The Iron Giant 49.0\n"
     ]
    }
   ],
   "source": [
    "recupera_filmes_mais_similar(\"Dead Poets Society\", filmes_similar_man)"
   ]
  },
  {
   "cell_type": "code",
   "execution_count": 31,
   "metadata": {},
   "outputs": [
    {
     "name": "stdout",
     "output_type": "stream",
     "text": [
      "Saving Private Ryan 8.06225774829855\n",
      "The Inhabited Island 8.06225774829855\n",
      "In the Land of Blood and Honey 8.0\n",
      "Cold Mountain 7.937253933193772\n",
      "Brothers 7.937253933193772\n",
      "Ramona and Beezus 7.937253933193772\n",
      "Operation Chromite 7.745966692414834\n",
      "Tiny Furniture 7.745966692414834\n",
      "Sweet Sweetback's Baadasssss Song 7.681145747868608\n",
      "They Will Have to Kill Us First 7.615773105863909\n",
      "The Monuments Men 7.54983443527075\n"
     ]
    }
   ],
   "source": [
    "recupera_filmes_mais_similar(\"Dead Poets Society\", filmes_similar_eucl)"
   ]
  },
  {
   "cell_type": "code",
   "execution_count": 32,
   "metadata": {},
   "outputs": [
    {
     "data": {
      "text/plain": [
       "'individual philosophy poetry shakespeare professor Robin Williams Ethan Hawke Robert Sean Leonard Gale Hansen Josh Charles Drama Peter Weir'"
      ]
     },
     "execution_count": 32,
     "metadata": {},
     "output_type": "execute_result"
    }
   ],
   "source": [
    " df.combined_features[df.title == \"Dead Poets Society\"].iloc[0]"
   ]
  },
  {
   "cell_type": "code",
   "execution_count": 33,
   "metadata": {},
   "outputs": [
    {
     "data": {
      "text/plain": [
       "'culture clash future space war space colony society Sam Worthington Zoe Saldana Sigourney Weaver Stephen Lang Michelle Rodriguez Action Adventure Fantasy Science Fiction James Cameron'"
      ]
     },
     "execution_count": 33,
     "metadata": {},
     "output_type": "execute_result"
    }
   ],
   "source": [
    "df.combined_features.values[0]"
   ]
  },
  {
   "cell_type": "markdown",
   "metadata": {},
   "source": [
    "### a) Jaccard Similarity"
   ]
  },
  {
   "cell_type": "markdown",
   "metadata": {},
   "source": [
    "Escolhi a similaridade de Jaccard por, como descrito anteriormente, ser eficiente para casos onde repetições de palavras não importam. Não consegui usar bem as funções dadas na aula 2, então escrevi algumas e peguei outras de sites que tratavam do assunto.\n",
    "\n",
    "A primeira função 'jaccard_binary' encontra a similaridade entre dois vetores e a função 'jacc_binary' ajusta os 'combined_features' utilizando o CountVectorize() e aplica a primeira função ao conjunto de dados ajustado, retornando os 10 valores com a maior similaridade.\n",
    "\n",
    "O rankeamento das similaridades foi bem parecido com a aplicação da similaridade de cosseno. Chama a atenção a presença de 'Robin and Marian' com a mesma similaridade de 'Good Will Hunting' para o caso da distribuição da similaridade de Jaccard, mas não aparecendo entre os 10 primeiros casos utilizando a similaridade de cosseno.\n",
    "\n",
    "É interessante observar também que os valores das similaridades de Jaccard são inferiores aos valores das similaridades de cosseno."
   ]
  },
  {
   "cell_type": "markdown",
   "metadata": {},
   "source": [
    "####  Com tokenização."
   ]
  },
  {
   "cell_type": "code",
   "execution_count": 34,
   "metadata": {},
   "outputs": [],
   "source": [
    "def jaccard_binary(x,y):\n",
    "    \"\"\"A function for finding the similarity between two binary vectors\"\"\"\n",
    "    intersection = np.logical_and(x, y)\n",
    "    union = np.logical_or(x, y)\n",
    "    similarity = intersection.sum() / float(union.sum())\n",
    "    return similarity"
   ]
  },
  {
   "cell_type": "code",
   "execution_count": 35,
   "metadata": {},
   "outputs": [],
   "source": [
    "def jacc_binary(nome_do_filme,df):\n",
    "    vectorizer = CountVectorizer()\n",
    "    X = vectorizer.fit_transform(df[\"combined_features\"])\n",
    "    arr = X.toarray()\n",
    "    datafilme = {'nome_do_filme': [], 'similaridade': []}\n",
    "    filmes_lista = pd.DataFrame(datafilme)\n",
    "    for i in range(0,4803):\n",
    "        ind1 = df.index[df.title == nome_do_filme]\n",
    "        ind2 = df.index[df.title == df.title.values[i]]\n",
    "        sim = jaccard_binary(arr[ind1],arr[ind2])\n",
    "        filmes_lista.loc[i] = [df.title.values[i],sim]\n",
    "    return(filmes_lista.sort_values('similaridade',ascending=False).head(n=10))"
   ]
  },
  {
   "cell_type": "code",
   "execution_count": 36,
   "metadata": {},
   "outputs": [
    {
     "data": {
      "text/html": [
       "<div>\n",
       "<style scoped>\n",
       "    .dataframe tbody tr th:only-of-type {\n",
       "        vertical-align: middle;\n",
       "    }\n",
       "\n",
       "    .dataframe tbody tr th {\n",
       "        vertical-align: top;\n",
       "    }\n",
       "\n",
       "    .dataframe thead th {\n",
       "        text-align: right;\n",
       "    }\n",
       "</style>\n",
       "<table border=\"1\" class=\"dataframe\">\n",
       "  <thead>\n",
       "    <tr style=\"text-align: right;\">\n",
       "      <th></th>\n",
       "      <th>nome_do_filme</th>\n",
       "      <th>similaridade</th>\n",
       "    </tr>\n",
       "  </thead>\n",
       "  <tbody>\n",
       "    <tr>\n",
       "      <th>2453</th>\n",
       "      <td>Dead Poets Society</td>\n",
       "      <td>1.000000</td>\n",
       "    </tr>\n",
       "    <tr>\n",
       "      <th>3250</th>\n",
       "      <td>Much Ado About Nothing</td>\n",
       "      <td>0.138889</td>\n",
       "    </tr>\n",
       "    <tr>\n",
       "      <th>905</th>\n",
       "      <td>Patch Adams</td>\n",
       "      <td>0.117647</td>\n",
       "    </tr>\n",
       "    <tr>\n",
       "      <th>3616</th>\n",
       "      <td>Robin and Marian</td>\n",
       "      <td>0.114286</td>\n",
       "    </tr>\n",
       "    <tr>\n",
       "      <th>2975</th>\n",
       "      <td>Good Will Hunting</td>\n",
       "      <td>0.114286</td>\n",
       "    </tr>\n",
       "    <tr>\n",
       "      <th>1774</th>\n",
       "      <td>What Just Happened</td>\n",
       "      <td>0.111111</td>\n",
       "    </tr>\n",
       "    <tr>\n",
       "      <th>825</th>\n",
       "      <td>Flightplan</td>\n",
       "      <td>0.108108</td>\n",
       "    </tr>\n",
       "    <tr>\n",
       "      <th>1507</th>\n",
       "      <td>Alive</td>\n",
       "      <td>0.105263</td>\n",
       "    </tr>\n",
       "    <tr>\n",
       "      <th>1446</th>\n",
       "      <td>The Tree of Life</td>\n",
       "      <td>0.105263</td>\n",
       "    </tr>\n",
       "    <tr>\n",
       "      <th>4273</th>\n",
       "      <td>The Basket</td>\n",
       "      <td>0.103448</td>\n",
       "    </tr>\n",
       "  </tbody>\n",
       "</table>\n",
       "</div>"
      ],
      "text/plain": [
       "               nome_do_filme  similaridade\n",
       "2453      Dead Poets Society      1.000000\n",
       "3250  Much Ado About Nothing      0.138889\n",
       "905              Patch Adams      0.117647\n",
       "3616        Robin and Marian      0.114286\n",
       "2975       Good Will Hunting      0.114286\n",
       "1774      What Just Happened      0.111111\n",
       "825               Flightplan      0.108108\n",
       "1507                   Alive      0.105263\n",
       "1446        The Tree of Life      0.105263\n",
       "4273              The Basket      0.103448"
      ]
     },
     "execution_count": 36,
     "metadata": {},
     "output_type": "execute_result"
    }
   ],
   "source": [
    "jacc_binary(\"Dead Poets Society\",df)"
   ]
  },
  {
   "cell_type": "code",
   "execution_count": 37,
   "metadata": {},
   "outputs": [
    {
     "name": "stdout",
     "output_type": "stream",
     "text": [
      "Dead Poets Society 0.9999999999999993\n",
      "Much Ado About Nothing 0.21677749238102995\n",
      "Patch Adams 0.21052631578947364\n",
      "Good Will Hunting 0.2051956704170308\n",
      "Flightplan 0.19564639521780736\n",
      "Alive 0.19134594929397594\n",
      "The Basket 0.1908854288927333\n",
      "What Just Happened 0.1873171623163388\n",
      "Adulterers 0.18394180184548975\n",
      "The Sting 0.1835325870964494\n",
      "The Tree of Life 0.179968508266339\n"
     ]
    }
   ],
   "source": [
    "recupera_filmes_mais_similar(\"Dead Poets Society\", filmes_similar)"
   ]
  },
  {
   "cell_type": "markdown",
   "metadata": {},
   "source": [
    "#### Extra: Sem tokenização."
   ]
  },
  {
   "cell_type": "markdown",
   "metadata": {},
   "source": [
    "Tentei aplicar a similaridade sem tokenização para ver o que acontece. Queria saber se, mesmo sem a tokenização, o rankeamento seria parecido ou apresentaria alguma ordenação que fizesse sentido com os resultados anteriores. Não foi nada parecido ('Howard the Duck' tem similaridade máxima com 'Dead Poets Society'). Tudo aqui é só um teste, não deve ser considerado. "
   ]
  },
  {
   "cell_type": "code",
   "execution_count": 38,
   "metadata": {},
   "outputs": [],
   "source": [
    "def jaccard_similarity(x,y):\n",
    " intersection_cardinality = len(set.intersection(*[set(x), set(y)]))\n",
    " union_cardinality = len(set.union(*[set(x), set(y)]))\n",
    " return intersection_cardinality/float(union_cardinality)"
   ]
  },
  {
   "cell_type": "code",
   "execution_count": null,
   "metadata": {},
   "outputs": [],
   "source": [
    "def jaccard (nome_do_filme,df):\n",
    "    datafilme = {'nome_do_filme': [], 'similaridade': []}\n",
    "    filmes_lista = pd.DataFrame(datafilme)\n",
    "    for i in range(0,4803):\n",
    "        features_filme = df.combined_features.values[i]\n",
    "        outro_filme = df.title.values[i]\n",
    "        feat_do_filme = df.combined_features[df.title == nome_do_filme].iloc[0]\n",
    "        jacc = jaccard_similarity(feat_do_filme,features_filme)\n",
    "        filmes_lista.loc[i] = [outro_filme,jacc]\n",
    "    return(filmes_lista.sort_values('similaridade',ascending=False).head(n=10))"
   ]
  },
  {
   "cell_type": "code",
   "execution_count": null,
   "metadata": {},
   "outputs": [],
   "source": [
    "datafilme = {'nome_do_filme': [], 'similaridade': []}\n",
    "uma_lista_qlqr = pd.DataFrame(datafilme)\n",
    "\n",
    "features_filme = df.combined_features.values[825]\n",
    "outro_filme = df.title.values[825]\n",
    "feat_do_filme = df.combined_features[df.title == \"Dead Poets Society\"].iloc[0]\n",
    "jacc = jaccard_similarity(feat_do_filme,features_filme)\n",
    "uma_lista_qlqr.loc[1] = [outro_filme,jacc]\n",
    "uma_lista_qlqr"
   ]
  },
  {
   "cell_type": "code",
   "execution_count": null,
   "metadata": {},
   "outputs": [],
   "source": [
    "jaccard(\"Dead Poets Society\",df)"
   ]
  },
  {
   "cell_type": "code",
   "execution_count": null,
   "metadata": {
    "scrolled": false
   },
   "outputs": [],
   "source": [
    "#.sort_values(by=['similaridade'],ascending=True).head(n=10)\n",
    "datafilme = {'nome_do_filme': [], 'similaridade': []}\n",
    "uma_lista_qlqr = pd.DataFrame(datafilme)\n",
    "d2d3 = jaccard_similarity(\"Dead Poets Society\",\"Much Ado About Nothing\")\n",
    "d2d4 = jaccard_similarity(\"Dead Poets Society\",\"Josie and the Pussycats\")\n",
    "\n",
    "uma_lista_qlqr.loc[1] = [\"Much Ado About Nothing\",d2d3]\n",
    "uma_lista_qlqr.loc[2] = [\"Josie and the Pussycats\",d2d4]\n",
    "uma_lista_qlqr"
   ]
  },
  {
   "cell_type": "code",
   "execution_count": null,
   "metadata": {},
   "outputs": [],
   "source": [
    "def jaccard_nomes (nome_do_filme,df):\n",
    "    datafilme = {'nome_do_filme': [], 'similaridade': []}\n",
    "    filmes_lista = pd.DataFrame(datafilme)\n",
    "    for i in range(0,4803):\n",
    "        #features_filme = df.combined_features.values[i]\n",
    "        outro_filme = df.title.values[i]\n",
    "        #feat_do_filme = df.combined_features[df.title == nome_do_filme].iloc[0]\n",
    "        jacc = jaccard_similarity(nome_do_filme,outro_filme)\n",
    "        filmes_lista.loc[i] = [outro_filme,jacc]\n",
    "    return(filmes_lista.sort_values('similaridade',ascending=False).head(n=10))"
   ]
  },
  {
   "cell_type": "code",
   "execution_count": null,
   "metadata": {},
   "outputs": [],
   "source": [
    "jaccard_nomes(\"Dead Poets Society\",df)"
   ]
  },
  {
   "cell_type": "markdown",
   "metadata": {},
   "source": [
    "### b) Recomendações"
   ]
  },
  {
   "cell_type": "markdown",
   "metadata": {},
   "source": [
    "Tentei duas abordagens aqui: um filme comum e um de franquia. \n",
    "\n",
    "Para o primeiro caso escolhi 'Beavis and Butt-Head Do America'. Utilizando a similaridade de cossenos o algoritmo sugeriu algumas animações infantis e alguns filmes de besterol americano, mas achei a maioria bem irrelevante. Filmes como 'Shrek' e 'The Hunchback of Notre Dame' não tem absolutamente nada a ver, apesar de serem animações. Utilizando a similaridade de Jaccard algumas das sugestões foram muito boas. 'Aqua Teen Hunger Force Colon Movie Film for Theaters' e 'I Married a Strange Person!' são filmes mais semelhantes do que qualquer um apresentado na lista que utilizou similaridade de cossenos.\n",
    "\n",
    "Para o caso da franquia escolhi 'Captain America: The First Avenger'. O algoritmo que utiliza similaridade de cosseno traz algumas recomendações bem rankeadas que não são muito condizentes com a entrada oferecida. The 'Helix... Loaded', 'Men in Black II' e 'The Monuments Men' são recomendados antes de 'Guardians of the Galaxy'. Esse último é sugerido pelo algoritmo com similaridade de Jaccard."
   ]
  },
  {
   "cell_type": "code",
   "execution_count": null,
   "metadata": {},
   "outputs": [],
   "source": [
    "jacc_binary(\"Beavis and Butt-Head Do America\",df)"
   ]
  },
  {
   "cell_type": "code",
   "execution_count": null,
   "metadata": {},
   "outputs": [],
   "source": [
    "recupera_filmes_mais_similar(\"Beavis and Butt-Head Do America\", filmes_similar)"
   ]
  },
  {
   "cell_type": "code",
   "execution_count": null,
   "metadata": {},
   "outputs": [],
   "source": [
    "df[df.title == 'Captain America: The First Avenger']"
   ]
  },
  {
   "cell_type": "code",
   "execution_count": null,
   "metadata": {},
   "outputs": [],
   "source": [
    "jacc_binary(\"Captain America: The First Avenger\",df)"
   ]
  },
  {
   "cell_type": "code",
   "execution_count": null,
   "metadata": {},
   "outputs": [],
   "source": [
    "recupera_filmes_mais_similar(\"Captain America: The First Avenger\", filmes_similar)"
   ]
  },
  {
   "cell_type": "markdown",
   "metadata": {},
   "source": [
    "## Questão 3"
   ]
  },
  {
   "cell_type": "markdown",
   "metadata": {},
   "source": [
    "### a)"
   ]
  },
  {
   "cell_type": "markdown",
   "metadata": {},
   "source": [
    "A maioria das colunas tem relação linear com a primeira. Apenas a observação da coluna 4 linha 2 não segue essa regra para a coluna em que está inserida. Isso não é um problema. Basta inserir mais uma coluna na primeira matriz e mais uma linha na segunda para adicionar a diferença ao valor que queremos obter.\n",
    "\n",
    "A primeira coluna é um vetor $v_1 = (2,3,5,7)$ que é usado como referência para as outras. Os outros vetores são $v_2 = 5v_1 = (10,15,25,35)$ para a coluna 2, $v_3 = 10v_1 = (20,30,50,70)$ para a coluna 3 e $v5 = 0v_1 = (0,0,0,0)$ para a coluna 5. A coluna 4 é diferente, temos que $v_4 = v_1 + (0,0,27,0)$. Devemos manipular isso nas matriz que geram o resultado.\n",
    "\n",
    "Escolhemos então $B = \n",
    "    \\begin{bmatrix} \n",
    "\t2 & 0\\\\\n",
    "\t3 & 1 \\\\\n",
    "\t5 & 0 \\\\\n",
    "    7 & 0\n",
    "    \\end{bmatrix}$ e $C = \n",
    "    \\begin{bmatrix} \n",
    "\t1 & 5 & 10 & 1 & 0\\\\\n",
    "\t0 & 0 & 0 & 27 & 0\n",
    "    \\end{bmatrix}$ e iremos obter a matriz $4x5$ de interesse após a multiplicação."
   ]
  },
  {
   "cell_type": "code",
   "execution_count": null,
   "metadata": {
    "scrolled": true
   },
   "outputs": [],
   "source": [
    "datafilme = {'col1': [2,3,5,7], 'col2': [10,15,25,35],\n",
    "                       'col3': [20,30,50,70],'col4': [2,30,5,7],\n",
    "                       'col5': [0,0,0,0]}\n",
    "A = pd.DataFrame(datafilme,index=[\"row1\",\"row2\",\"row3\",\"row4\"])\n",
    "print(A)"
   ]
  },
  {
   "cell_type": "code",
   "execution_count": null,
   "metadata": {},
   "outputs": [],
   "source": [
    "# Bx = A\n",
    "B = np.array([[2,3,5,7],[0,1,0,0]])\n",
    "C = np.array([[1,5,10,1,0],[0,0,0,27,0]])\n",
    "B = B.transpose()"
   ]
  },
  {
   "cell_type": "code",
   "execution_count": null,
   "metadata": {},
   "outputs": [],
   "source": [
    "#Matriz B\n",
    "B"
   ]
  },
  {
   "cell_type": "code",
   "execution_count": null,
   "metadata": {},
   "outputs": [],
   "source": [
    "#Matriz C\n",
    "C"
   ]
  },
  {
   "cell_type": "code",
   "execution_count": null,
   "metadata": {
    "scrolled": true
   },
   "outputs": [],
   "source": [
    "np.dot(B,C) #multiplicação de matrizes"
   ]
  },
  {
   "cell_type": "markdown",
   "metadata": {},
   "source": [
    "### b)"
   ]
  },
  {
   "cell_type": "markdown",
   "metadata": {},
   "source": [
    "Aqui temos que a terceira coluna possui uma relação linear com a segunda e a quarta é uma combinação linear entre a primeira e a segunda coluna adicionando mais alguns valores.\n",
    "\n",
    "A primeira coluna é um vetor $v_1 = (1,4,3)$ e a segunda $v_2 = (5,9,8)$. A terceira coluna é $v_3 = 100v_2 = (5000,9000,8000)$ e a quarta coluna é $v_4 = v_1 + 6v_2 + (0,36,32) = (31,94,83)$.\n",
    "\n",
    "Escolhemos então $B = \n",
    "    \\begin{bmatrix} \n",
    "\t1 & 5 & 0 & 0\\\\\n",
    "\t4 & 9 & 0 & 36 \\\\\n",
    "\t3 & 8 & 0 & 32\n",
    "    \\end{bmatrix}$ e $C = \n",
    "    \\begin{bmatrix} \n",
    "\t1 & 0 & 0 & 1\\\\\n",
    "\t0 & 1 & 1000 & 6 \\\\\n",
    "    0 & 0 & 0 & 0\\\\\n",
    "    0 & 0 & 0 & 1\n",
    "    \\end{bmatrix}$ e iremos obter a matriz $4x4$ de interesse após a multiplicação."
   ]
  },
  {
   "cell_type": "code",
   "execution_count": null,
   "metadata": {},
   "outputs": [],
   "source": [
    "# Matriz U da preferência em relação a comédia\n",
    "datafilme = {'col1': [1,4,3], 'col2': [5,9,8],\n",
    "                       'col3': [5000,9000,8000],'col4': [31,94,83]}\n",
    "A = pd.DataFrame(datafilme,index=[\"row1\",\"row2\",\"row3\"])\n",
    "print(A)"
   ]
  },
  {
   "cell_type": "code",
   "execution_count": null,
   "metadata": {},
   "outputs": [],
   "source": [
    "# Bx = A\n",
    "B = np.array([[1,4,3],[5,9,8],[0,0,0],[0,36,32]])\n",
    "C = np.array([[1,0,0,0],[0,1,0,0],[0,1000,0,0],[1,6,0,1]])\n",
    "B = B.transpose()\n",
    "C = C.transpose()"
   ]
  },
  {
   "cell_type": "code",
   "execution_count": null,
   "metadata": {},
   "outputs": [],
   "source": [
    "#Matriz B\n",
    "B"
   ]
  },
  {
   "cell_type": "code",
   "execution_count": null,
   "metadata": {},
   "outputs": [],
   "source": [
    "#Matriz C\n",
    "C"
   ]
  },
  {
   "cell_type": "code",
   "execution_count": null,
   "metadata": {
    "scrolled": true
   },
   "outputs": [],
   "source": [
    "np.dot(B,C) #multiplicação de matrizes"
   ]
  },
  {
   "cell_type": "markdown",
   "metadata": {},
   "source": [
    "## Questão 4"
   ]
  },
  {
   "cell_type": "markdown",
   "metadata": {},
   "source": [
    "Os dois usuários com notas mais semelhantes ao 'User A' são os usuários 'User C' e 'User E'. Podemos utilizar a similaridade de cosseno para descobrir quão similares cada usuários é. Após isso, utilizamos cada valor de similaridade para ponderar as notas conhecidas e fazer uma média entre elas para encontrar uma aproximação para a nota do 'User A'.\n",
    "\n",
    "Encontramos a nota 4.925 para o filme 'The Hobbit' para o 'User A'. Mantendo o padrão das notas aproximaríamos para 5.\n",
    "\n",
    "Obs: Essa não é a única abordagem possível. Poderiamos encontrar similaridades entre todos os usuários utilizando as notas disponíveis e fazer a análise a partir delas. Provavelmente conseguiríamos resultados bem diferentes."
   ]
  },
  {
   "cell_type": "code",
   "execution_count": null,
   "metadata": {},
   "outputs": [],
   "source": [
    "data = {'The Godfather': [5,4,5,1,4], 'Rocky': [3,3,3,1,2], 'The Hobbit':['x',2,5,1,5], 'Fight Club':[1,'y',1,4,1],'Jurassic Park':[4,'y',4,1,5]}  \n",
    "matrix_resposta = pd.DataFrame(data)\n",
    "matrix_resposta =matrix_resposta.rename(index={0: \"User A\", 1: \"User B\",2:\"User C\",3:\"User D\",4:\"User E\"})\n",
    "matrix_resposta"
   ]
  },
  {
   "cell_type": "code",
   "execution_count": null,
   "metadata": {},
   "outputs": [],
   "source": [
    "def square_rooted(x):\n",
    "   return round(sqrt(sum([a*a for a in x])),3)\n",
    "  \n",
    "def cosine_similarity(x,y):\n",
    " numerator = sum(a*b for a,b in zip(x,y))\n",
    " denominator = square_rooted(x)*square_rooted(y)\n",
    " return round(numerator/float(denominator),3)\n",
    "  \n",
    "print (cosine_similarity([5,3,1,4], [5,3,1,4])) #'User A' x 'User C'\n",
    "print (cosine_similarity([5,3,1,4], [4,2,1,5])) #'User A' x 'User E'"
   ]
  },
  {
   "cell_type": "code",
   "execution_count": null,
   "metadata": {},
   "outputs": [],
   "source": [
    "#Utilizamos a similaridade como um 'peso' para a nota de cada usuário\n",
    "nota_hobbit = (1.0*5 + 0.97*5)/2\n",
    "nota_hobbit"
   ]
  },
  {
   "cell_type": "markdown",
   "metadata": {},
   "source": [
    "## Questão 5"
   ]
  },
  {
   "cell_type": "markdown",
   "metadata": {},
   "source": [
    "a) Para a função de similaridade no intervalo (0,1), se sim(x,y) = 1, então x=y. Além disso, o ângulo entre os vetores de informação dos pacientes é de 90º (ortogonal). Portanto, não há correspondência entre os sintomas dos dois (todos os valores são diferentes).\n",
    "\n",
    "b) O ângulo entre os vetores dos sintomas é de 90º (ortogonal). Portanto, não há dois pacientes com os mesmo sintomas dentre todos os pacientes observados.\n",
    "\n",
    "c) Se a distância entre os dois pacientes é zero, isso significa que os sintomas são iguais para os dois. Ou seja, se d(x,y) = 0, então x=y.\n",
    "\n",
    "d) Se a distância entre os dois sintomas é zero, então esses sintomas ocorrem da mesma forma para todos os pacientes (o vetor sintoma_1 e o vetor sintoma_2 são iguais).\n",
    "\n",
    "Referência: https://www.sciencedirect.com/topics/computer-science/cosine-similarity"
   ]
  },
  {
   "cell_type": "markdown",
   "metadata": {},
   "source": [
    "## Questão 6"
   ]
  },
  {
   "cell_type": "markdown",
   "metadata": {},
   "source": [
    "Fazendo $BA = S$, temos que $BA =\n",
    "    \\begin{bmatrix} \n",
    "\tx1 & y1 & z1 \\\\\n",
    "\tx2 & y2 & z2 \\\\\n",
    "\tx3 & y3 & z3 \\\\\n",
    "    x4 & y4 & z4 \\\\\n",
    "    x5 & y5 & z5\n",
    "    \\end{bmatrix}$ \n",
    "    $\\begin{bmatrix} \n",
    "\t1 & 0 & 0 & 0 & 1\\\\\n",
    "\t0 & 1 & 0 & 1 & 0 \\\\\n",
    "\t0 & 0 & 1 & 0 & 0\n",
    "    \\end{bmatrix}$\n",
    "    $ =     \\begin{bmatrix} \n",
    "\t1 & 0 & 1 & 0 & 1 \\\\\n",
    "\t1 & 0 & 1 & 0 & 1 \\\\\n",
    "\t1 & 1 & 0.5 & 1 & 1 \\\\\n",
    "    0 & 1 & 1 & 1 & 0 \\\\\n",
    "    1 & 0 & 0 & 0 & 1\n",
    "    \\end{bmatrix} $.\n",
    "<br>\n",
    "Resolvendo esse sistema, encontramos o valor da matriz $B$.\n",
    "<br>\n",
    "$B =\\begin{bmatrix} \n",
    "\t1 & 0 & 1 \\\\\n",
    "\t1 & 0 & 1 \\\\\n",
    "\t1 & 1 & 0.5 \\\\\n",
    "    0 & 1 & 1 \\\\\n",
    "    1 & 0 & 0\n",
    "    \\end{bmatrix}$"
   ]
  },
  {
   "cell_type": "code",
   "execution_count": null,
   "metadata": {},
   "outputs": [],
   "source": [
    "dt = {'col1': [1,1,1,0,1], 'col2': [0,0,1,1,0],\n",
    "                       'col3': [1,1,0.5,1,0],'col4': [0,0,1,1,0],\n",
    "                       'col5': [1,1,1,0,1]}\n",
    "sorriso = pd.DataFrame(dt)\n",
    "sorriso"
   ]
  },
  {
   "cell_type": "code",
   "execution_count": null,
   "metadata": {},
   "outputs": [],
   "source": [
    "from skimage.io import imshow\n",
    "\n",
    "plt.imshow(sorriso, cmap='gray')\n",
    "plt.show()"
   ]
  },
  {
   "cell_type": "code",
   "execution_count": null,
   "metadata": {},
   "outputs": [],
   "source": [
    "# Matriz U da preferência em relação a comédia\n",
    "datafilme = {'row1': [1, 0, 0, 0, 1], 'row2': [0, 1, 0, 1, 0],\n",
    "                       'row3': [0, 0, 1, 0, 0]}\n",
    "A = pd.DataFrame(datafilme)\n",
    "A = A.transpose()\n",
    "\n",
    "A"
   ]
  },
  {
   "cell_type": "code",
   "execution_count": null,
   "metadata": {},
   "outputs": [],
   "source": [
    "datafilme = {'col1': [1, 0, 1], 'col2': [1, 0, 1],\n",
    "                       'col3': [1,1,0.5],'col4': [0, 1,1],'col5': [1,0,0]}\n",
    "B = pd.DataFrame(datafilme)\n",
    "B = B.transpose()\n",
    "B"
   ]
  },
  {
   "cell_type": "code",
   "execution_count": null,
   "metadata": {},
   "outputs": [],
   "source": [
    "np.dot(B,A)"
   ]
  }
 ],
 "metadata": {
  "hide_input": false,
  "kernelspec": {
   "display_name": "Python 3",
   "language": "python",
   "name": "python3"
  },
  "language_info": {
   "codemirror_mode": {
    "name": "ipython",
    "version": 3
   },
   "file_extension": ".py",
   "mimetype": "text/x-python",
   "name": "python",
   "nbconvert_exporter": "python",
   "pygments_lexer": "ipython3",
   "version": "3.8.3"
  },
  "toc": {
   "base_numbering": 1,
   "nav_menu": {},
   "number_sections": true,
   "sideBar": true,
   "skip_h1_title": false,
   "title_cell": "Table of Contents",
   "title_sidebar": "Contents",
   "toc_cell": false,
   "toc_position": {
    "height": "calc(100% - 180px)",
    "left": "10px",
    "top": "150px",
    "width": "273.188px"
   },
   "toc_section_display": true,
   "toc_window_display": true
  },
  "varInspector": {
   "cols": {
    "lenName": 16,
    "lenType": 16,
    "lenVar": 40
   },
   "kernels_config": {
    "python": {
     "delete_cmd_postfix": "",
     "delete_cmd_prefix": "del ",
     "library": "var_list.py",
     "varRefreshCmd": "print(var_dic_list())"
    },
    "r": {
     "delete_cmd_postfix": ") ",
     "delete_cmd_prefix": "rm(",
     "library": "var_list.r",
     "varRefreshCmd": "cat(var_dic_list()) "
    }
   },
   "types_to_exclude": [
    "module",
    "function",
    "builtin_function_or_method",
    "instance",
    "_Feature"
   ],
   "window_display": false
  }
 },
 "nbformat": 4,
 "nbformat_minor": 4
}
